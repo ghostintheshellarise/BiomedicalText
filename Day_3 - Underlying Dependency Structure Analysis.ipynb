{
 "cells": [
  {
   "cell_type": "code",
   "execution_count": 1,
   "id": "92752cbb",
   "metadata": {},
   "outputs": [],
   "source": [
    "import BMTextTokenizer as bmt\n",
    "import pandas as pd\n",
    "import networkx as nx\n",
    "import time\n",
    "import matplotlib.pyplot as plt\n",
    "import stanza\n",
    "from itertools import permutations\n",
    "%matplotlib inline"
   ]
  },
  {
   "cell_type": "code",
   "execution_count": 2,
   "id": "7fbaee30",
   "metadata": {},
   "outputs": [
    {
     "name": "stderr",
     "output_type": "stream",
     "text": [
      "2022-01-21 14:06:50 INFO: Loading these models for language: en (English):\n",
      "=======================\n",
      "| Processor | Package |\n",
      "-----------------------\n",
      "| tokenize  | craft   |\n",
      "| pos       | craft   |\n",
      "| lemma     | craft   |\n",
      "| depparse  | craft   |\n",
      "=======================\n",
      "\n",
      "2022-01-21 14:06:50 INFO: Use device: cpu\n",
      "2022-01-21 14:06:50 INFO: Loading: tokenize\n",
      "2022-01-21 14:06:50 INFO: Loading: pos\n",
      "2022-01-21 14:06:50 INFO: Loading: lemma\n",
      "2022-01-21 14:06:50 INFO: Loading: depparse\n",
      "2022-01-21 14:06:51 INFO: Done loading processors!\n"
     ]
    }
   ],
   "source": [
    "# Default stanza pipeline to be used throughout this notebook\n",
    "pretokenized_nlp = stanza.Pipeline(lang='en', package='craft', processor='tokenize', tokenize_pretokenized=True) "
   ]
  },
  {
   "cell_type": "code",
   "execution_count": 3,
   "id": "ed267bc2",
   "metadata": {},
   "outputs": [],
   "source": [
    "path = '/Volumes/GoogleDrive/My Drive/_My Data Analytics Exercise/Exercise/Biopython/CE/'"
   ]
  },
  {
   "cell_type": "code",
   "execution_count": 4,
   "id": "a688c132",
   "metadata": {},
   "outputs": [],
   "source": [
    "df = pd.read_csv(path+'all_interactions.csv')"
   ]
  },
  {
   "cell_type": "code",
   "execution_count": 5,
   "id": "44866bf8",
   "metadata": {},
   "outputs": [
    {
     "name": "stdout",
     "output_type": "stream",
     "text": [
      "<class 'pandas.core.frame.DataFrame'>\n",
      "RangeIndex: 1124 entries, 0 to 1123\n",
      "Data columns (total 5 columns):\n",
      " #   Column         Non-Null Count  Dtype \n",
      "---  ------         --------------  ----- \n",
      " 0   interactionId  1124 non-null   object\n",
      " 1   sentence       1124 non-null   object\n",
      " 2   entities       1124 non-null   object\n",
      " 3   interaction    1124 non-null   object\n",
      " 4   relationship   1124 non-null   int64 \n",
      "dtypes: int64(1), object(4)\n",
      "memory usage: 44.0+ KB\n"
     ]
    }
   ],
   "source": [
    "df.info()"
   ]
  },
  {
   "cell_type": "code",
   "execution_count": 6,
   "id": "b2dd25a5",
   "metadata": {},
   "outputs": [],
   "source": [
    "have_interactions = df[df['relationship']==1]"
   ]
  },
  {
   "cell_type": "code",
   "execution_count": 7,
   "id": "5016d7c1",
   "metadata": {},
   "outputs": [
    {
     "name": "stdout",
     "output_type": "stream",
     "text": [
      "<class 'pandas.core.frame.DataFrame'>\n",
      "Int64Index: 825 entries, 1 to 1122\n",
      "Data columns (total 5 columns):\n",
      " #   Column         Non-Null Count  Dtype \n",
      "---  ------         --------------  ----- \n",
      " 0   interactionId  825 non-null    object\n",
      " 1   sentence       825 non-null    object\n",
      " 2   entities       825 non-null    object\n",
      " 3   interaction    825 non-null    object\n",
      " 4   relationship   825 non-null    int64 \n",
      "dtypes: int64(1), object(4)\n",
      "memory usage: 38.7+ KB\n"
     ]
    }
   ],
   "source": [
    "have_interactions.info()"
   ]
  },
  {
   "cell_type": "code",
   "execution_count": 8,
   "id": "501a6925",
   "metadata": {},
   "outputs": [
    {
     "data": {
      "text/html": [
       "<div>\n",
       "<style scoped>\n",
       "    .dataframe tbody tr th:only-of-type {\n",
       "        vertical-align: middle;\n",
       "    }\n",
       "\n",
       "    .dataframe tbody tr th {\n",
       "        vertical-align: top;\n",
       "    }\n",
       "\n",
       "    .dataframe thead th {\n",
       "        text-align: right;\n",
       "    }\n",
       "</style>\n",
       "<table border=\"1\" class=\"dataframe\">\n",
       "  <thead>\n",
       "    <tr style=\"text-align: right;\">\n",
       "      <th></th>\n",
       "      <th>interactionId</th>\n",
       "      <th>sentence</th>\n",
       "      <th>entities</th>\n",
       "      <th>interaction</th>\n",
       "      <th>relationship</th>\n",
       "    </tr>\n",
       "  </thead>\n",
       "  <tbody>\n",
       "    <tr>\n",
       "      <th>1</th>\n",
       "      <td>BioInfer_d682</td>\n",
       "      <td>The recombinant material is similar to authent...</td>\n",
       "      <td>[('T1', 'Individual_protein', 'skeletal actin'...</td>\n",
       "      <td>{'R1': ('T1', 'T3')}</td>\n",
       "      <td>1</td>\n",
       "    </tr>\n",
       "    <tr>\n",
       "      <th>3</th>\n",
       "      <td>BioInfer_d595</td>\n",
       "      <td>The common denominator is impaired beta-cateni...</td>\n",
       "      <td>[('T1', 'Individual_protein', 'beta-catenin', ...</td>\n",
       "      <td>{'R1': ('T1', 'T2'), 'R2': ('T1', 'T3')}</td>\n",
       "      <td>1</td>\n",
       "    </tr>\n",
       "    <tr>\n",
       "      <th>8</th>\n",
       "      <td>BioInfer_d538</td>\n",
       "      <td>Significantly, those actin mutants exhibiting ...</td>\n",
       "      <td>[('T4', 'Gene/protein/RNA', 'actin', (21, 26))...</td>\n",
       "      <td>{'R1': ('T1', 'T2'), 'R2': ('T1', 'T3')}</td>\n",
       "      <td>1</td>\n",
       "    </tr>\n",
       "    <tr>\n",
       "      <th>11</th>\n",
       "      <td>BioInfer_d54</td>\n",
       "      <td>Analyses of dynamic light scattering data by s...</td>\n",
       "      <td>[('T6', 'Individual_protein', 'actin', (129, 1...</td>\n",
       "      <td>{'R1': ('T1', 'T3'), 'R2': ('T2', 'T4'), 'R3':...</td>\n",
       "      <td>1</td>\n",
       "    </tr>\n",
       "    <tr>\n",
       "      <th>12</th>\n",
       "      <td>BioInfer_d777</td>\n",
       "      <td>Treatment with HNE resulted in activation of e...</td>\n",
       "      <td>[('T6', 'Protein_family_or_group', 'extracellu...</td>\n",
       "      <td>{'R1': ('T1', 'T6'), 'R2': ('T2', 'T6')}</td>\n",
       "      <td>1</td>\n",
       "    </tr>\n",
       "  </tbody>\n",
       "</table>\n",
       "</div>"
      ],
      "text/plain": [
       "    interactionId                                           sentence  \\\n",
       "1   BioInfer_d682  The recombinant material is similar to authent...   \n",
       "3   BioInfer_d595  The common denominator is impaired beta-cateni...   \n",
       "8   BioInfer_d538  Significantly, those actin mutants exhibiting ...   \n",
       "11   BioInfer_d54  Analyses of dynamic light scattering data by s...   \n",
       "12  BioInfer_d777  Treatment with HNE resulted in activation of e...   \n",
       "\n",
       "                                             entities  \\\n",
       "1   [('T1', 'Individual_protein', 'skeletal actin'...   \n",
       "3   [('T1', 'Individual_protein', 'beta-catenin', ...   \n",
       "8   [('T4', 'Gene/protein/RNA', 'actin', (21, 26))...   \n",
       "11  [('T6', 'Individual_protein', 'actin', (129, 1...   \n",
       "12  [('T6', 'Protein_family_or_group', 'extracellu...   \n",
       "\n",
       "                                          interaction  relationship  \n",
       "1                                {'R1': ('T1', 'T3')}             1  \n",
       "3            {'R1': ('T1', 'T2'), 'R2': ('T1', 'T3')}             1  \n",
       "8            {'R1': ('T1', 'T2'), 'R2': ('T1', 'T3')}             1  \n",
       "11  {'R1': ('T1', 'T3'), 'R2': ('T2', 'T4'), 'R3':...             1  \n",
       "12           {'R1': ('T1', 'T6'), 'R2': ('T2', 'T6')}             1  "
      ]
     },
     "execution_count": 8,
     "metadata": {},
     "output_type": "execute_result"
    }
   ],
   "source": [
    "have_interactions.head()"
   ]
  },
  {
   "cell_type": "markdown",
   "id": "c60f3c65",
   "metadata": {},
   "source": [
    "### Analysis of the POS distribution of connected Tokens"
   ]
  },
  {
   "cell_type": "code",
   "execution_count": 9,
   "id": "9581741e",
   "metadata": {},
   "outputs": [
    {
     "data": {
      "text/plain": [
       "'Analyses of dynamic light scattering data by stretched exponential fit show that vinculin has a negligible influence on internal actin filament dynamics and actin bending stiffness which contrasts with our previous observations with talin, another actin and vinculin-binding protein from focal adhesions.'"
      ]
     },
     "execution_count": 9,
     "metadata": {},
     "output_type": "execute_result"
    }
   ],
   "source": [
    "sample = have_interactions.loc[11, 'sentence']\n",
    "sample"
   ]
  },
  {
   "cell_type": "markdown",
   "id": "f46edde8",
   "metadata": {},
   "source": [
    "To a human reader, the understanding would be 'vinculin' has negligible influence on 'actin' related behavior, which is different from what happens between 'talin' and 'vinculin'.\n",
    "\n",
    "The reason is that the phrase <b>'negligible influence'</b> appears between 'vinculin' and 'actin' that indicates there is <b>NO</b> interaction between two while the previous observations between 'vinculin' and 'talin' <b>'contrasts'</b> this claim.\n",
    "\n",
    "In following analysis, I will try to look for any pattern that will support the above human reasoning and I can capture it with simple labeling functions."
   ]
  },
  {
   "cell_type": "code",
   "execution_count": 10,
   "id": "153e3000",
   "metadata": {},
   "outputs": [],
   "source": [
    "doc = bmt.tokenizer(pretokenized_nlp, sample)"
   ]
  },
  {
   "cell_type": "code",
   "execution_count": 11,
   "id": "64b4a54e",
   "metadata": {},
   "outputs": [
    {
     "name": "stdout",
     "output_type": "stream",
     "text": [
      "id: 1\tword: Analyses                 \tupos: NOUN  \thead: show                     \tdeprel: nsubj\n",
      "id: 2\tword: of                       \tupos: ADP   \thead: dynamic light scattering data\tdeprel: case\n",
      "id: 3\tword: dynamic light scattering data\tupos: NOUN  \thead: Analyses                 \tdeprel: nmod\n",
      "id: 4\tword: by                       \tupos: ADP   \thead: stretched exponential fit\tdeprel: case\n",
      "id: 5\tword: stretched exponential fit\tupos: NOUN  \thead: Analyses                 \tdeprel: nmod\n",
      "id: 6\tword: show                     \tupos: VERB  \thead: root\tdeprel: root\n",
      "id: 7\tword: that                     \tupos: SCONJ \thead: has                      \tdeprel: mark\n",
      "id: 8\tword: vinculin                 \tupos: NOUN  \thead: has                      \tdeprel: nsubj\n",
      "id: 9\tword: has                      \tupos: VERB  \thead: show                     \tdeprel: ccomp\n",
      "id: 10\tword: a                        \tupos: DET   \thead: negligible influence     \tdeprel: det\n",
      "id: 11\tword: negligible influence     \tupos: NOUN  \thead: has                      \tdeprel: obj\n",
      "id: 12\tword: on                       \tupos: ADP   \thead: internal actin filament dynamics\tdeprel: case\n",
      "id: 13\tword: internal actin filament dynamics\tupos: NOUN  \thead: negligible influence     \tdeprel: nmod\n",
      "id: 14\tword: and                      \tupos: CONJ  \thead: actin bending stiffness  \tdeprel: cc\n",
      "id: 15\tword: actin bending stiffness  \tupos: NOUN  \thead: internal actin filament dynamics\tdeprel: conj\n",
      "id: 16\tword: which                    \tupos: PRON  \thead: contrasts                \tdeprel: nsubj\n",
      "id: 17\tword: contrasts                \tupos: VERB  \thead: negligible influence     \tdeprel: acl:relcl\n",
      "id: 18\tword: with                     \tupos: ADP   \thead: previous observations    \tdeprel: case\n",
      "id: 19\tword: our                      \tupos: PRON  \thead: previous observations    \tdeprel: nmod:poss\n",
      "id: 20\tword: previous observations    \tupos: NOUN  \thead: contrasts                \tdeprel: obl\n",
      "id: 21\tword: with                     \tupos: ADP   \thead: talin                    \tdeprel: case\n",
      "id: 22\tword: talin                    \tupos: NOUN  \thead: previous observations    \tdeprel: nmod\n",
      "id: 23\tword: ,                        \tupos: PUNCT \thead: talin                    \tdeprel: punct\n",
      "id: 24\tword: another                  \tupos: DET   \thead: actin                    \tdeprel: det\n",
      "id: 25\tword: actin                    \tupos: NOUN  \thead: talin                    \tdeprel: appos\n",
      "id: 26\tword: and                      \tupos: CONJ  \thead: vinculin-binding protein \tdeprel: cc\n",
      "id: 27\tword: vinculin-binding protein \tupos: NOUN  \thead: talin                    \tdeprel: conj\n",
      "id: 28\tword: from                     \tupos: ADP   \thead: focal adhesions          \tdeprel: case\n",
      "id: 29\tword: focal adhesions          \tupos: NOUN  \thead: actin                    \tdeprel: nmod\n",
      "id: 30\tword: .                        \tupos: PUNCT \thead: show                     \tdeprel: punct\n"
     ]
    }
   ],
   "source": [
    "print(*[f'id: {word.id}\\tword: {word.text.ljust(25, \" \")}\\tupos: {word.upos.ljust(6, \" \")}\\thead: {sent.words[word.head-1].text.ljust(25, \" \") if word.head > 0 else \"root\"}\\tdeprel: {word.deprel}' for sent in doc.sentences for word in sent.words], sep='\\n')\n",
    "\n"
   ]
  },
  {
   "cell_type": "code",
   "execution_count": 12,
   "id": "38ebcee5",
   "metadata": {},
   "outputs": [
    {
     "name": "stdout",
     "output_type": "stream",
     "text": [
      "CPU times: user 3 µs, sys: 5 µs, total: 8 µs\n",
      "Wall time: 4.29 µs\n"
     ]
    }
   ],
   "source": [
    "%time\n",
    "H = nx.Graph() # using undirected graph to establish a baseline behavior\n",
    "for sent in doc.sentences:\n",
    "    for word in sent.words:\n",
    "        head = word.text\n",
    "        tail = sent.words[word.head-1].text\n",
    "        if word.upos == 'PUNCT' or sent.words[word.head-1].upos=='PUNCT':\n",
    "            pass\n",
    "        else:\n",
    "            \n",
    "            H.add_node(head, pos=word.upos, deprel=word.deprel)\n",
    "            H.add_node(tail, pos=sent.words[word.head-1].upos, deprel=sent.words[word.head-1].deprel)\n",
    "            H.add_edge(head, tail, weight=1)"
   ]
  },
  {
   "cell_type": "code",
   "execution_count": 13,
   "id": "de83a88f",
   "metadata": {},
   "outputs": [
    {
     "data": {
      "image/png": "[encoded data removed]",
      "text/plain": [
       "<Figure size 1440x1440 with 1 Axes>"
      ]
     },
     "metadata": {},
     "output_type": "display_data"
    }
   ],
   "source": [
    "bmt.plot_network(H)"
   ]
  },
  {
   "cell_type": "code",
   "execution_count": 14,
   "id": "dc18679e",
   "metadata": {},
   "outputs": [
    {
     "data": {
      "text/plain": [
       "['vinculin',\n",
       " 'internal actin filament dynamics',\n",
       " 'actin bending stiffness',\n",
       " 'talin',\n",
       " 'actin',\n",
       " 'vinculin-binding protein']"
      ]
     },
     "execution_count": 14,
     "metadata": {},
     "output_type": "execute_result"
    }
   ],
   "source": [
    "# Let's examine if 'actin', 'talin', and 'vinculin' exist as distinct nodes\n",
    "entities = ['actin','talin','vinculin']\n",
    "nodes = H.nodes()\n",
    "atoms = []\n",
    "for node in nodes:\n",
    "    for entity in entities:\n",
    "        if entity in node:\n",
    "            atoms.append(node)\n",
    "atoms"
   ]
  },
  {
   "cell_type": "code",
   "execution_count": 15,
   "id": "d97c59d7",
   "metadata": {},
   "outputs": [
    {
     "name": "stdout",
     "output_type": "stream",
     "text": [
      "CPU times: user 6 µs, sys: 1e+03 ns, total: 7 µs\n",
      "Wall time: 13.8 µs\n"
     ]
    }
   ],
   "source": [
    "%time\n",
    "tuples = permutations(atoms, 2)\n",
    "simple_path = []\n",
    "for t in tuples:\n",
    "    #print (t)\n",
    "    paths = list(nx.all_simple_paths(H, source=t[0], target=t[1]))\n",
    "    for p in paths:\n",
    "        #print (p)\n",
    "        simple_path.append(p)"
   ]
  },
  {
   "cell_type": "code",
   "execution_count": 37,
   "id": "c30f8f80",
   "metadata": {},
   "outputs": [
    {
     "name": "stdout",
     "output_type": "stream",
     "text": [
      "0 - ('vinculin', 'internal actin filament dynamics')\n",
      "1 - ('vinculin', 'actin bending stiffness')\n",
      "2 - ('vinculin', 'talin')\n",
      "3 - ('vinculin', 'actin')\n",
      "4 - ('vinculin', 'vinculin-binding protein')\n",
      "5 - ('internal actin filament dynamics', 'vinculin')\n",
      "6 - ('internal actin filament dynamics', 'actin bending stiffness')\n",
      "7 - ('internal actin filament dynamics', 'talin')\n",
      "8 - ('internal actin filament dynamics', 'actin')\n",
      "9 - ('internal actin filament dynamics', 'vinculin-binding protein')\n",
      "10 - ('actin bending stiffness', 'vinculin')\n",
      "11 - ('actin bending stiffness', 'internal actin filament dynamics')\n",
      "12 - ('actin bending stiffness', 'talin')\n",
      "13 - ('actin bending stiffness', 'actin')\n",
      "14 - ('actin bending stiffness', 'vinculin-binding protein')\n",
      "15 - ('talin', 'vinculin')\n",
      "16 - ('talin', 'internal actin filament dynamics')\n",
      "17 - ('talin', 'actin bending stiffness')\n",
      "18 - ('talin', 'actin')\n",
      "19 - ('talin', 'vinculin-binding protein')\n",
      "20 - ('actin', 'vinculin')\n",
      "21 - ('actin', 'internal actin filament dynamics')\n",
      "22 - ('actin', 'actin bending stiffness')\n",
      "23 - ('actin', 'talin')\n",
      "24 - ('actin', 'vinculin-binding protein')\n",
      "25 - ('vinculin-binding protein', 'vinculin')\n",
      "26 - ('vinculin-binding protein', 'internal actin filament dynamics')\n",
      "27 - ('vinculin-binding protein', 'actin bending stiffness')\n",
      "28 - ('vinculin-binding protein', 'talin')\n",
      "29 - ('vinculin-binding protein', 'actin')\n"
     ]
    }
   ],
   "source": [
    "tuples = permutations(atoms, 2)\n",
    "for index, t in enumerate(tuples):\n",
    "    print (index, '-', t)"
   ]
  },
  {
   "cell_type": "code",
   "execution_count": 17,
   "id": "a35c8beb",
   "metadata": {},
   "outputs": [
    {
     "name": "stdout",
     "output_type": "stream",
     "text": [
      "0 : ['vinculin', 'has', 'negligible influence', 'internal actin filament dynamics']\n",
      "1 : ['vinculin', 'has', 'negligible influence', 'contrasts', 'previous observations', 'with', 'talin', 'vinculin-binding protein', 'and', 'actin bending stiffness', 'internal actin filament dynamics']\n",
      "2 : ['vinculin', 'has', 'negligible influence', 'contrasts', 'previous observations', 'talin', 'vinculin-binding protein', 'and', 'actin bending stiffness', 'internal actin filament dynamics']\n",
      "3 : ['vinculin', 'has', 'negligible influence', 'internal actin filament dynamics', 'actin bending stiffness']\n",
      "4 : ['vinculin', 'has', 'negligible influence', 'contrasts', 'previous observations', 'with', 'talin', 'vinculin-binding protein', 'and', 'actin bending stiffness']\n",
      "5 : ['vinculin', 'has', 'negligible influence', 'contrasts', 'previous observations', 'talin', 'vinculin-binding protein', 'and', 'actin bending stiffness']\n",
      "6 : ['vinculin', 'has', 'negligible influence', 'internal actin filament dynamics', 'actin bending stiffness', 'and', 'vinculin-binding protein', 'talin']\n",
      "7 : ['vinculin', 'has', 'negligible influence', 'contrasts', 'previous observations', 'with', 'talin']\n",
      "8 : ['vinculin', 'has', 'negligible influence', 'contrasts', 'previous observations', 'talin']\n",
      "9 : ['vinculin', 'has', 'negligible influence', 'internal actin filament dynamics', 'actin bending stiffness', 'and', 'vinculin-binding protein', 'talin', 'actin']\n",
      "10 : ['vinculin', 'has', 'negligible influence', 'contrasts', 'previous observations', 'with', 'talin', 'actin']\n",
      "11 : ['vinculin', 'has', 'negligible influence', 'contrasts', 'previous observations', 'talin', 'actin']\n",
      "12 : ['vinculin', 'has', 'negligible influence', 'internal actin filament dynamics', 'actin bending stiffness', 'and', 'vinculin-binding protein']\n",
      "13 : ['vinculin', 'has', 'negligible influence', 'contrasts', 'previous observations', 'with', 'talin', 'vinculin-binding protein']\n",
      "14 : ['vinculin', 'has', 'negligible influence', 'contrasts', 'previous observations', 'talin', 'vinculin-binding protein']\n",
      "15 : ['internal actin filament dynamics', 'negligible influence', 'has', 'vinculin']\n",
      "16 : ['internal actin filament dynamics', 'actin bending stiffness', 'and', 'vinculin-binding protein', 'talin', 'with', 'previous observations', 'contrasts', 'negligible influence', 'has', 'vinculin']\n",
      "17 : ['internal actin filament dynamics', 'actin bending stiffness', 'and', 'vinculin-binding protein', 'talin', 'previous observations', 'contrasts', 'negligible influence', 'has', 'vinculin']\n",
      "18 : ['internal actin filament dynamics', 'negligible influence', 'contrasts', 'previous observations', 'with', 'talin', 'vinculin-binding protein', 'and', 'actin bending stiffness']\n",
      "19 : ['internal actin filament dynamics', 'negligible influence', 'contrasts', 'previous observations', 'talin', 'vinculin-binding protein', 'and', 'actin bending stiffness']\n",
      "20 : ['internal actin filament dynamics', 'actin bending stiffness']\n",
      "21 : ['internal actin filament dynamics', 'negligible influence', 'contrasts', 'previous observations', 'with', 'talin']\n",
      "22 : ['internal actin filament dynamics', 'negligible influence', 'contrasts', 'previous observations', 'talin']\n",
      "23 : ['internal actin filament dynamics', 'actin bending stiffness', 'and', 'vinculin-binding protein', 'talin']\n",
      "24 : ['internal actin filament dynamics', 'negligible influence', 'contrasts', 'previous observations', 'with', 'talin', 'actin']\n",
      "25 : ['internal actin filament dynamics', 'negligible influence', 'contrasts', 'previous observations', 'talin', 'actin']\n",
      "26 : ['internal actin filament dynamics', 'actin bending stiffness', 'and', 'vinculin-binding protein', 'talin', 'actin']\n",
      "27 : ['internal actin filament dynamics', 'negligible influence', 'contrasts', 'previous observations', 'with', 'talin', 'vinculin-binding protein']\n",
      "28 : ['internal actin filament dynamics', 'negligible influence', 'contrasts', 'previous observations', 'talin', 'vinculin-binding protein']\n",
      "29 : ['internal actin filament dynamics', 'actin bending stiffness', 'and', 'vinculin-binding protein']\n",
      "30 : ['actin bending stiffness', 'and', 'vinculin-binding protein', 'talin', 'with', 'previous observations', 'contrasts', 'negligible influence', 'has', 'vinculin']\n",
      "31 : ['actin bending stiffness', 'and', 'vinculin-binding protein', 'talin', 'previous observations', 'contrasts', 'negligible influence', 'has', 'vinculin']\n",
      "32 : ['actin bending stiffness', 'internal actin filament dynamics', 'negligible influence', 'has', 'vinculin']\n",
      "33 : ['actin bending stiffness', 'and', 'vinculin-binding protein', 'talin', 'with', 'previous observations', 'contrasts', 'negligible influence', 'internal actin filament dynamics']\n",
      "34 : ['actin bending stiffness', 'and', 'vinculin-binding protein', 'talin', 'previous observations', 'contrasts', 'negligible influence', 'internal actin filament dynamics']\n",
      "35 : ['actin bending stiffness', 'internal actin filament dynamics']\n",
      "36 : ['actin bending stiffness', 'and', 'vinculin-binding protein', 'talin']\n",
      "37 : ['actin bending stiffness', 'internal actin filament dynamics', 'negligible influence', 'contrasts', 'previous observations', 'with', 'talin']\n",
      "38 : ['actin bending stiffness', 'internal actin filament dynamics', 'negligible influence', 'contrasts', 'previous observations', 'talin']\n",
      "39 : ['actin bending stiffness', 'and', 'vinculin-binding protein', 'talin', 'actin']\n",
      "40 : ['actin bending stiffness', 'internal actin filament dynamics', 'negligible influence', 'contrasts', 'previous observations', 'with', 'talin', 'actin']\n",
      "41 : ['actin bending stiffness', 'internal actin filament dynamics', 'negligible influence', 'contrasts', 'previous observations', 'talin', 'actin']\n",
      "42 : ['actin bending stiffness', 'and', 'vinculin-binding protein']\n",
      "43 : ['actin bending stiffness', 'internal actin filament dynamics', 'negligible influence', 'contrasts', 'previous observations', 'with', 'talin', 'vinculin-binding protein']\n",
      "44 : ['actin bending stiffness', 'internal actin filament dynamics', 'negligible influence', 'contrasts', 'previous observations', 'talin', 'vinculin-binding protein']\n",
      "45 : ['talin', 'with', 'previous observations', 'contrasts', 'negligible influence', 'has', 'vinculin']\n",
      "46 : ['talin', 'previous observations', 'contrasts', 'negligible influence', 'has', 'vinculin']\n",
      "47 : ['talin', 'vinculin-binding protein', 'and', 'actin bending stiffness', 'internal actin filament dynamics', 'negligible influence', 'has', 'vinculin']\n",
      "48 : ['talin', 'with', 'previous observations', 'contrasts', 'negligible influence', 'internal actin filament dynamics']\n",
      "49 : ['talin', 'previous observations', 'contrasts', 'negligible influence', 'internal actin filament dynamics']\n",
      "50 : ['talin', 'vinculin-binding protein', 'and', 'actin bending stiffness', 'internal actin filament dynamics']\n",
      "51 : ['talin', 'with', 'previous observations', 'contrasts', 'negligible influence', 'internal actin filament dynamics', 'actin bending stiffness']\n",
      "52 : ['talin', 'previous observations', 'contrasts', 'negligible influence', 'internal actin filament dynamics', 'actin bending stiffness']\n",
      "53 : ['talin', 'vinculin-binding protein', 'and', 'actin bending stiffness']\n",
      "54 : ['talin', 'actin']\n",
      "55 : ['talin', 'with', 'previous observations', 'contrasts', 'negligible influence', 'internal actin filament dynamics', 'actin bending stiffness', 'and', 'vinculin-binding protein']\n",
      "56 : ['talin', 'previous observations', 'contrasts', 'negligible influence', 'internal actin filament dynamics', 'actin bending stiffness', 'and', 'vinculin-binding protein']\n",
      "57 : ['talin', 'vinculin-binding protein']\n",
      "58 : ['actin', 'talin', 'with', 'previous observations', 'contrasts', 'negligible influence', 'has', 'vinculin']\n",
      "59 : ['actin', 'talin', 'previous observations', 'contrasts', 'negligible influence', 'has', 'vinculin']\n",
      "60 : ['actin', 'talin', 'vinculin-binding protein', 'and', 'actin bending stiffness', 'internal actin filament dynamics', 'negligible influence', 'has', 'vinculin']\n",
      "61 : ['actin', 'talin', 'with', 'previous observations', 'contrasts', 'negligible influence', 'internal actin filament dynamics']\n",
      "62 : ['actin', 'talin', 'previous observations', 'contrasts', 'negligible influence', 'internal actin filament dynamics']\n",
      "63 : ['actin', 'talin', 'vinculin-binding protein', 'and', 'actin bending stiffness', 'internal actin filament dynamics']\n",
      "64 : ['actin', 'talin', 'with', 'previous observations', 'contrasts', 'negligible influence', 'internal actin filament dynamics', 'actin bending stiffness']\n",
      "65 : ['actin', 'talin', 'previous observations', 'contrasts', 'negligible influence', 'internal actin filament dynamics', 'actin bending stiffness']\n",
      "66 : ['actin', 'talin', 'vinculin-binding protein', 'and', 'actin bending stiffness']\n",
      "67 : ['actin', 'talin']\n",
      "68 : ['actin', 'talin', 'with', 'previous observations', 'contrasts', 'negligible influence', 'internal actin filament dynamics', 'actin bending stiffness', 'and', 'vinculin-binding protein']\n",
      "69 : ['actin', 'talin', 'previous observations', 'contrasts', 'negligible influence', 'internal actin filament dynamics', 'actin bending stiffness', 'and', 'vinculin-binding protein']\n",
      "70 : ['actin', 'talin', 'vinculin-binding protein']\n",
      "71 : ['vinculin-binding protein', 'and', 'actin bending stiffness', 'internal actin filament dynamics', 'negligible influence', 'has', 'vinculin']\n",
      "72 : ['vinculin-binding protein', 'talin', 'with', 'previous observations', 'contrasts', 'negligible influence', 'has', 'vinculin']\n",
      "73 : ['vinculin-binding protein', 'talin', 'previous observations', 'contrasts', 'negligible influence', 'has', 'vinculin']\n",
      "74 : ['vinculin-binding protein', 'and', 'actin bending stiffness', 'internal actin filament dynamics']\n",
      "75 : ['vinculin-binding protein', 'talin', 'with', 'previous observations', 'contrasts', 'negligible influence', 'internal actin filament dynamics']\n",
      "76 : ['vinculin-binding protein', 'talin', 'previous observations', 'contrasts', 'negligible influence', 'internal actin filament dynamics']\n",
      "77 : ['vinculin-binding protein', 'and', 'actin bending stiffness']\n",
      "78 : ['vinculin-binding protein', 'talin', 'with', 'previous observations', 'contrasts', 'negligible influence', 'internal actin filament dynamics', 'actin bending stiffness']\n",
      "79 : ['vinculin-binding protein', 'talin', 'previous observations', 'contrasts', 'negligible influence', 'internal actin filament dynamics', 'actin bending stiffness']\n",
      "80 : ['vinculin-binding protein', 'and', 'actin bending stiffness', 'internal actin filament dynamics', 'negligible influence', 'contrasts', 'previous observations', 'with', 'talin']\n",
      "81 : ['vinculin-binding protein', 'and', 'actin bending stiffness', 'internal actin filament dynamics', 'negligible influence', 'contrasts', 'previous observations', 'talin']\n",
      "82 : ['vinculin-binding protein', 'talin']\n",
      "83 : ['vinculin-binding protein', 'and', 'actin bending stiffness', 'internal actin filament dynamics', 'negligible influence', 'contrasts', 'previous observations', 'with', 'talin', 'actin']\n",
      "84 : ['vinculin-binding protein', 'and', 'actin bending stiffness', 'internal actin filament dynamics', 'negligible influence', 'contrasts', 'previous observations', 'talin', 'actin']\n",
      "85 : ['vinculin-binding protein', 'talin', 'actin']\n"
     ]
    }
   ],
   "source": [
    "for index, p in enumerate(simple_path):\n",
    "    print (index, ':', p)"
   ]
  },
  {
   "cell_type": "code",
   "execution_count": 18,
   "id": "6660710e",
   "metadata": {},
   "outputs": [],
   "source": [
    "pos = nx.get_node_attributes(H, 'pos')"
   ]
  },
  {
   "cell_type": "code",
   "execution_count": 19,
   "id": "c27d9fb0",
   "metadata": {},
   "outputs": [
    {
     "data": {
      "text/plain": [
       "{'Analyses': 'NOUN',\n",
       " 'show': 'VERB',\n",
       " 'of': 'ADP',\n",
       " 'dynamic light scattering data': 'NOUN',\n",
       " 'by': 'ADP',\n",
       " 'stretched exponential fit': 'NOUN',\n",
       " 'that': 'SCONJ',\n",
       " 'has': 'VERB',\n",
       " 'vinculin': 'NOUN',\n",
       " 'a': 'DET',\n",
       " 'negligible influence': 'NOUN',\n",
       " 'on': 'ADP',\n",
       " 'internal actin filament dynamics': 'NOUN',\n",
       " 'and': 'CONJ',\n",
       " 'actin bending stiffness': 'NOUN',\n",
       " 'which': 'PRON',\n",
       " 'contrasts': 'VERB',\n",
       " 'with': 'ADP',\n",
       " 'previous observations': 'NOUN',\n",
       " 'our': 'PRON',\n",
       " 'talin': 'NOUN',\n",
       " 'another': 'DET',\n",
       " 'actin': 'NOUN',\n",
       " 'vinculin-binding protein': 'NOUN',\n",
       " 'from': 'ADP',\n",
       " 'focal adhesions': 'NOUN'}"
      ]
     },
     "execution_count": 19,
     "metadata": {},
     "output_type": "execute_result"
    }
   ],
   "source": [
    "pos"
   ]
  },
  {
   "cell_type": "code",
   "execution_count": 20,
   "id": "4623baf0",
   "metadata": {},
   "outputs": [
    {
     "name": "stdout",
     "output_type": "stream",
     "text": [
      "CPU times: user 750 µs, sys: 230 µs, total: 980 µs\n",
      "Wall time: 1.09 ms\n"
     ]
    }
   ],
   "source": [
    "%%time\n",
    "# Regenerate those paths by replacing the token with its corresponding POS tag\n",
    "POS_path = []\n",
    "for p in simple_path:\n",
    "    path = []\n",
    "    for entry in p:\n",
    "        path.append(pos[entry])\n",
    "    POS_path.append(path)"
   ]
  },
  {
   "cell_type": "code",
   "execution_count": 21,
   "id": "e4a98c7b",
   "metadata": {},
   "outputs": [
    {
     "name": "stdout",
     "output_type": "stream",
     "text": [
      "0 : ['NOUN', 'VERB', 'NOUN', 'NOUN']\n",
      "1 : ['NOUN', 'VERB', 'NOUN', 'VERB', 'NOUN', 'ADP', 'NOUN', 'NOUN', 'CONJ', 'NOUN', 'NOUN']\n",
      "2 : ['NOUN', 'VERB', 'NOUN', 'VERB', 'NOUN', 'NOUN', 'NOUN', 'CONJ', 'NOUN', 'NOUN']\n",
      "3 : ['NOUN', 'VERB', 'NOUN', 'NOUN', 'NOUN']\n",
      "4 : ['NOUN', 'VERB', 'NOUN', 'VERB', 'NOUN', 'ADP', 'NOUN', 'NOUN', 'CONJ', 'NOUN']\n",
      "5 : ['NOUN', 'VERB', 'NOUN', 'VERB', 'NOUN', 'NOUN', 'NOUN', 'CONJ', 'NOUN']\n",
      "6 : ['NOUN', 'VERB', 'NOUN', 'NOUN', 'NOUN', 'CONJ', 'NOUN', 'NOUN']\n",
      "7 : ['NOUN', 'VERB', 'NOUN', 'VERB', 'NOUN', 'ADP', 'NOUN']\n",
      "8 : ['NOUN', 'VERB', 'NOUN', 'VERB', 'NOUN', 'NOUN']\n",
      "9 : ['NOUN', 'VERB', 'NOUN', 'NOUN', 'NOUN', 'CONJ', 'NOUN', 'NOUN', 'NOUN']\n",
      "10 : ['NOUN', 'VERB', 'NOUN', 'VERB', 'NOUN', 'ADP', 'NOUN', 'NOUN']\n",
      "11 : ['NOUN', 'VERB', 'NOUN', 'VERB', 'NOUN', 'NOUN', 'NOUN']\n",
      "12 : ['NOUN', 'VERB', 'NOUN', 'NOUN', 'NOUN', 'CONJ', 'NOUN']\n",
      "13 : ['NOUN', 'VERB', 'NOUN', 'VERB', 'NOUN', 'ADP', 'NOUN', 'NOUN']\n",
      "14 : ['NOUN', 'VERB', 'NOUN', 'VERB', 'NOUN', 'NOUN', 'NOUN']\n",
      "15 : ['NOUN', 'NOUN', 'VERB', 'NOUN']\n",
      "16 : ['NOUN', 'NOUN', 'CONJ', 'NOUN', 'NOUN', 'ADP', 'NOUN', 'VERB', 'NOUN', 'VERB', 'NOUN']\n",
      "17 : ['NOUN', 'NOUN', 'CONJ', 'NOUN', 'NOUN', 'NOUN', 'VERB', 'NOUN', 'VERB', 'NOUN']\n",
      "18 : ['NOUN', 'NOUN', 'VERB', 'NOUN', 'ADP', 'NOUN', 'NOUN', 'CONJ', 'NOUN']\n",
      "19 : ['NOUN', 'NOUN', 'VERB', 'NOUN', 'NOUN', 'NOUN', 'CONJ', 'NOUN']\n",
      "20 : ['NOUN', 'NOUN']\n",
      "21 : ['NOUN', 'NOUN', 'VERB', 'NOUN', 'ADP', 'NOUN']\n",
      "22 : ['NOUN', 'NOUN', 'VERB', 'NOUN', 'NOUN']\n",
      "23 : ['NOUN', 'NOUN', 'CONJ', 'NOUN', 'NOUN']\n",
      "24 : ['NOUN', 'NOUN', 'VERB', 'NOUN', 'ADP', 'NOUN', 'NOUN']\n",
      "25 : ['NOUN', 'NOUN', 'VERB', 'NOUN', 'NOUN', 'NOUN']\n",
      "26 : ['NOUN', 'NOUN', 'CONJ', 'NOUN', 'NOUN', 'NOUN']\n",
      "27 : ['NOUN', 'NOUN', 'VERB', 'NOUN', 'ADP', 'NOUN', 'NOUN']\n",
      "28 : ['NOUN', 'NOUN', 'VERB', 'NOUN', 'NOUN', 'NOUN']\n",
      "29 : ['NOUN', 'NOUN', 'CONJ', 'NOUN']\n",
      "30 : ['NOUN', 'CONJ', 'NOUN', 'NOUN', 'ADP', 'NOUN', 'VERB', 'NOUN', 'VERB', 'NOUN']\n",
      "31 : ['NOUN', 'CONJ', 'NOUN', 'NOUN', 'NOUN', 'VERB', 'NOUN', 'VERB', 'NOUN']\n",
      "32 : ['NOUN', 'NOUN', 'NOUN', 'VERB', 'NOUN']\n",
      "33 : ['NOUN', 'CONJ', 'NOUN', 'NOUN', 'ADP', 'NOUN', 'VERB', 'NOUN', 'NOUN']\n",
      "34 : ['NOUN', 'CONJ', 'NOUN', 'NOUN', 'NOUN', 'VERB', 'NOUN', 'NOUN']\n",
      "35 : ['NOUN', 'NOUN']\n",
      "36 : ['NOUN', 'CONJ', 'NOUN', 'NOUN']\n",
      "37 : ['NOUN', 'NOUN', 'NOUN', 'VERB', 'NOUN', 'ADP', 'NOUN']\n",
      "38 : ['NOUN', 'NOUN', 'NOUN', 'VERB', 'NOUN', 'NOUN']\n",
      "39 : ['NOUN', 'CONJ', 'NOUN', 'NOUN', 'NOUN']\n",
      "40 : ['NOUN', 'NOUN', 'NOUN', 'VERB', 'NOUN', 'ADP', 'NOUN', 'NOUN']\n",
      "41 : ['NOUN', 'NOUN', 'NOUN', 'VERB', 'NOUN', 'NOUN', 'NOUN']\n",
      "42 : ['NOUN', 'CONJ', 'NOUN']\n",
      "43 : ['NOUN', 'NOUN', 'NOUN', 'VERB', 'NOUN', 'ADP', 'NOUN', 'NOUN']\n",
      "44 : ['NOUN', 'NOUN', 'NOUN', 'VERB', 'NOUN', 'NOUN', 'NOUN']\n",
      "45 : ['NOUN', 'ADP', 'NOUN', 'VERB', 'NOUN', 'VERB', 'NOUN']\n",
      "46 : ['NOUN', 'NOUN', 'VERB', 'NOUN', 'VERB', 'NOUN']\n",
      "47 : ['NOUN', 'NOUN', 'CONJ', 'NOUN', 'NOUN', 'NOUN', 'VERB', 'NOUN']\n",
      "48 : ['NOUN', 'ADP', 'NOUN', 'VERB', 'NOUN', 'NOUN']\n",
      "49 : ['NOUN', 'NOUN', 'VERB', 'NOUN', 'NOUN']\n",
      "50 : ['NOUN', 'NOUN', 'CONJ', 'NOUN', 'NOUN']\n",
      "51 : ['NOUN', 'ADP', 'NOUN', 'VERB', 'NOUN', 'NOUN', 'NOUN']\n",
      "52 : ['NOUN', 'NOUN', 'VERB', 'NOUN', 'NOUN', 'NOUN']\n",
      "53 : ['NOUN', 'NOUN', 'CONJ', 'NOUN']\n",
      "54 : ['NOUN', 'NOUN']\n",
      "55 : ['NOUN', 'ADP', 'NOUN', 'VERB', 'NOUN', 'NOUN', 'NOUN', 'CONJ', 'NOUN']\n",
      "56 : ['NOUN', 'NOUN', 'VERB', 'NOUN', 'NOUN', 'NOUN', 'CONJ', 'NOUN']\n",
      "57 : ['NOUN', 'NOUN']\n",
      "58 : ['NOUN', 'NOUN', 'ADP', 'NOUN', 'VERB', 'NOUN', 'VERB', 'NOUN']\n",
      "59 : ['NOUN', 'NOUN', 'NOUN', 'VERB', 'NOUN', 'VERB', 'NOUN']\n",
      "60 : ['NOUN', 'NOUN', 'NOUN', 'CONJ', 'NOUN', 'NOUN', 'NOUN', 'VERB', 'NOUN']\n",
      "61 : ['NOUN', 'NOUN', 'ADP', 'NOUN', 'VERB', 'NOUN', 'NOUN']\n",
      "62 : ['NOUN', 'NOUN', 'NOUN', 'VERB', 'NOUN', 'NOUN']\n",
      "63 : ['NOUN', 'NOUN', 'NOUN', 'CONJ', 'NOUN', 'NOUN']\n",
      "64 : ['NOUN', 'NOUN', 'ADP', 'NOUN', 'VERB', 'NOUN', 'NOUN', 'NOUN']\n",
      "65 : ['NOUN', 'NOUN', 'NOUN', 'VERB', 'NOUN', 'NOUN', 'NOUN']\n",
      "66 : ['NOUN', 'NOUN', 'NOUN', 'CONJ', 'NOUN']\n",
      "67 : ['NOUN', 'NOUN']\n",
      "68 : ['NOUN', 'NOUN', 'ADP', 'NOUN', 'VERB', 'NOUN', 'NOUN', 'NOUN', 'CONJ', 'NOUN']\n",
      "69 : ['NOUN', 'NOUN', 'NOUN', 'VERB', 'NOUN', 'NOUN', 'NOUN', 'CONJ', 'NOUN']\n",
      "70 : ['NOUN', 'NOUN', 'NOUN']\n",
      "71 : ['NOUN', 'CONJ', 'NOUN', 'NOUN', 'NOUN', 'VERB', 'NOUN']\n",
      "72 : ['NOUN', 'NOUN', 'ADP', 'NOUN', 'VERB', 'NOUN', 'VERB', 'NOUN']\n",
      "73 : ['NOUN', 'NOUN', 'NOUN', 'VERB', 'NOUN', 'VERB', 'NOUN']\n",
      "74 : ['NOUN', 'CONJ', 'NOUN', 'NOUN']\n",
      "75 : ['NOUN', 'NOUN', 'ADP', 'NOUN', 'VERB', 'NOUN', 'NOUN']\n",
      "76 : ['NOUN', 'NOUN', 'NOUN', 'VERB', 'NOUN', 'NOUN']\n",
      "77 : ['NOUN', 'CONJ', 'NOUN']\n",
      "78 : ['NOUN', 'NOUN', 'ADP', 'NOUN', 'VERB', 'NOUN', 'NOUN', 'NOUN']\n",
      "79 : ['NOUN', 'NOUN', 'NOUN', 'VERB', 'NOUN', 'NOUN', 'NOUN']\n",
      "80 : ['NOUN', 'CONJ', 'NOUN', 'NOUN', 'NOUN', 'VERB', 'NOUN', 'ADP', 'NOUN']\n",
      "81 : ['NOUN', 'CONJ', 'NOUN', 'NOUN', 'NOUN', 'VERB', 'NOUN', 'NOUN']\n",
      "82 : ['NOUN', 'NOUN']\n",
      "83 : ['NOUN', 'CONJ', 'NOUN', 'NOUN', 'NOUN', 'VERB', 'NOUN', 'ADP', 'NOUN', 'NOUN']\n",
      "84 : ['NOUN', 'CONJ', 'NOUN', 'NOUN', 'NOUN', 'VERB', 'NOUN', 'NOUN', 'NOUN']\n",
      "85 : ['NOUN', 'NOUN', 'NOUN']\n"
     ]
    }
   ],
   "source": [
    "pos_tags = []\n",
    "for index, p in enumerate(POS_path):\n",
    "    print (index, ':', p)\n",
    "    for tag in p:\n",
    "        if tag not in pos_tags:\n",
    "            pos_tags.append(tag)"
   ]
  },
  {
   "cell_type": "code",
   "execution_count": 22,
   "id": "68cd1b69",
   "metadata": {},
   "outputs": [
    {
     "data": {
      "text/plain": [
       "['NOUN', 'VERB', 'ADP', 'CONJ']"
      ]
     },
     "execution_count": 22,
     "metadata": {},
     "output_type": "execute_result"
    }
   ],
   "source": [
    "pos_tags"
   ]
  },
  {
   "cell_type": "code",
   "execution_count": 23,
   "id": "04bd6c76",
   "metadata": {},
   "outputs": [],
   "source": [
    "merged = zip(simple_path, POS_path)"
   ]
  },
  {
   "cell_type": "code",
   "execution_count": 24,
   "id": "bbcbb8d1",
   "metadata": {},
   "outputs": [
    {
     "name": "stdout",
     "output_type": "stream",
     "text": [
      "(['vinculin', 'has', 'negligible influence', 'internal actin filament dynamics'], ['NOUN', 'VERB', 'NOUN', 'NOUN'])\n",
      "(['vinculin', 'has', 'negligible influence', 'contrasts', 'previous observations', 'with', 'talin', 'vinculin-binding protein', 'and', 'actin bending stiffness', 'internal actin filament dynamics'], ['NOUN', 'VERB', 'NOUN', 'VERB', 'NOUN', 'ADP', 'NOUN', 'NOUN', 'CONJ', 'NOUN', 'NOUN'])\n",
      "(['vinculin', 'has', 'negligible influence', 'contrasts', 'previous observations', 'talin', 'vinculin-binding protein', 'and', 'actin bending stiffness', 'internal actin filament dynamics'], ['NOUN', 'VERB', 'NOUN', 'VERB', 'NOUN', 'NOUN', 'NOUN', 'CONJ', 'NOUN', 'NOUN'])\n",
      "(['vinculin', 'has', 'negligible influence', 'internal actin filament dynamics', 'actin bending stiffness'], ['NOUN', 'VERB', 'NOUN', 'NOUN', 'NOUN'])\n",
      "(['vinculin', 'has', 'negligible influence', 'contrasts', 'previous observations', 'with', 'talin', 'vinculin-binding protein', 'and', 'actin bending stiffness'], ['NOUN', 'VERB', 'NOUN', 'VERB', 'NOUN', 'ADP', 'NOUN', 'NOUN', 'CONJ', 'NOUN'])\n",
      "(['vinculin', 'has', 'negligible influence', 'contrasts', 'previous observations', 'talin', 'vinculin-binding protein', 'and', 'actin bending stiffness'], ['NOUN', 'VERB', 'NOUN', 'VERB', 'NOUN', 'NOUN', 'NOUN', 'CONJ', 'NOUN'])\n",
      "(['vinculin', 'has', 'negligible influence', 'internal actin filament dynamics', 'actin bending stiffness', 'and', 'vinculin-binding protein', 'talin'], ['NOUN', 'VERB', 'NOUN', 'NOUN', 'NOUN', 'CONJ', 'NOUN', 'NOUN'])\n",
      "(['vinculin', 'has', 'negligible influence', 'contrasts', 'previous observations', 'with', 'talin'], ['NOUN', 'VERB', 'NOUN', 'VERB', 'NOUN', 'ADP', 'NOUN'])\n",
      "(['vinculin', 'has', 'negligible influence', 'contrasts', 'previous observations', 'talin'], ['NOUN', 'VERB', 'NOUN', 'VERB', 'NOUN', 'NOUN'])\n",
      "(['vinculin', 'has', 'negligible influence', 'internal actin filament dynamics', 'actin bending stiffness', 'and', 'vinculin-binding protein', 'talin', 'actin'], ['NOUN', 'VERB', 'NOUN', 'NOUN', 'NOUN', 'CONJ', 'NOUN', 'NOUN', 'NOUN'])\n",
      "(['vinculin', 'has', 'negligible influence', 'contrasts', 'previous observations', 'with', 'talin', 'actin'], ['NOUN', 'VERB', 'NOUN', 'VERB', 'NOUN', 'ADP', 'NOUN', 'NOUN'])\n",
      "(['vinculin', 'has', 'negligible influence', 'contrasts', 'previous observations', 'talin', 'actin'], ['NOUN', 'VERB', 'NOUN', 'VERB', 'NOUN', 'NOUN', 'NOUN'])\n",
      "(['vinculin', 'has', 'negligible influence', 'internal actin filament dynamics', 'actin bending stiffness', 'and', 'vinculin-binding protein'], ['NOUN', 'VERB', 'NOUN', 'NOUN', 'NOUN', 'CONJ', 'NOUN'])\n",
      "(['vinculin', 'has', 'negligible influence', 'contrasts', 'previous observations', 'with', 'talin', 'vinculin-binding protein'], ['NOUN', 'VERB', 'NOUN', 'VERB', 'NOUN', 'ADP', 'NOUN', 'NOUN'])\n",
      "(['vinculin', 'has', 'negligible influence', 'contrasts', 'previous observations', 'talin', 'vinculin-binding protein'], ['NOUN', 'VERB', 'NOUN', 'VERB', 'NOUN', 'NOUN', 'NOUN'])\n",
      "(['internal actin filament dynamics', 'negligible influence', 'has', 'vinculin'], ['NOUN', 'NOUN', 'VERB', 'NOUN'])\n",
      "(['internal actin filament dynamics', 'actin bending stiffness', 'and', 'vinculin-binding protein', 'talin', 'with', 'previous observations', 'contrasts', 'negligible influence', 'has', 'vinculin'], ['NOUN', 'NOUN', 'CONJ', 'NOUN', 'NOUN', 'ADP', 'NOUN', 'VERB', 'NOUN', 'VERB', 'NOUN'])\n",
      "(['internal actin filament dynamics', 'actin bending stiffness', 'and', 'vinculin-binding protein', 'talin', 'previous observations', 'contrasts', 'negligible influence', 'has', 'vinculin'], ['NOUN', 'NOUN', 'CONJ', 'NOUN', 'NOUN', 'NOUN', 'VERB', 'NOUN', 'VERB', 'NOUN'])\n",
      "(['internal actin filament dynamics', 'negligible influence', 'contrasts', 'previous observations', 'with', 'talin', 'vinculin-binding protein', 'and', 'actin bending stiffness'], ['NOUN', 'NOUN', 'VERB', 'NOUN', 'ADP', 'NOUN', 'NOUN', 'CONJ', 'NOUN'])\n",
      "(['internal actin filament dynamics', 'negligible influence', 'contrasts', 'previous observations', 'talin', 'vinculin-binding protein', 'and', 'actin bending stiffness'], ['NOUN', 'NOUN', 'VERB', 'NOUN', 'NOUN', 'NOUN', 'CONJ', 'NOUN'])\n",
      "(['internal actin filament dynamics', 'actin bending stiffness'], ['NOUN', 'NOUN'])\n",
      "(['internal actin filament dynamics', 'negligible influence', 'contrasts', 'previous observations', 'with', 'talin'], ['NOUN', 'NOUN', 'VERB', 'NOUN', 'ADP', 'NOUN'])\n",
      "(['internal actin filament dynamics', 'negligible influence', 'contrasts', 'previous observations', 'talin'], ['NOUN', 'NOUN', 'VERB', 'NOUN', 'NOUN'])\n",
      "(['internal actin filament dynamics', 'actin bending stiffness', 'and', 'vinculin-binding protein', 'talin'], ['NOUN', 'NOUN', 'CONJ', 'NOUN', 'NOUN'])\n",
      "(['internal actin filament dynamics', 'negligible influence', 'contrasts', 'previous observations', 'with', 'talin', 'actin'], ['NOUN', 'NOUN', 'VERB', 'NOUN', 'ADP', 'NOUN', 'NOUN'])\n",
      "(['internal actin filament dynamics', 'negligible influence', 'contrasts', 'previous observations', 'talin', 'actin'], ['NOUN', 'NOUN', 'VERB', 'NOUN', 'NOUN', 'NOUN'])\n",
      "(['internal actin filament dynamics', 'actin bending stiffness', 'and', 'vinculin-binding protein', 'talin', 'actin'], ['NOUN', 'NOUN', 'CONJ', 'NOUN', 'NOUN', 'NOUN'])\n",
      "(['internal actin filament dynamics', 'negligible influence', 'contrasts', 'previous observations', 'with', 'talin', 'vinculin-binding protein'], ['NOUN', 'NOUN', 'VERB', 'NOUN', 'ADP', 'NOUN', 'NOUN'])\n",
      "(['internal actin filament dynamics', 'negligible influence', 'contrasts', 'previous observations', 'talin', 'vinculin-binding protein'], ['NOUN', 'NOUN', 'VERB', 'NOUN', 'NOUN', 'NOUN'])\n",
      "(['internal actin filament dynamics', 'actin bending stiffness', 'and', 'vinculin-binding protein'], ['NOUN', 'NOUN', 'CONJ', 'NOUN'])\n",
      "(['actin bending stiffness', 'and', 'vinculin-binding protein', 'talin', 'with', 'previous observations', 'contrasts', 'negligible influence', 'has', 'vinculin'], ['NOUN', 'CONJ', 'NOUN', 'NOUN', 'ADP', 'NOUN', 'VERB', 'NOUN', 'VERB', 'NOUN'])\n",
      "(['actin bending stiffness', 'and', 'vinculin-binding protein', 'talin', 'previous observations', 'contrasts', 'negligible influence', 'has', 'vinculin'], ['NOUN', 'CONJ', 'NOUN', 'NOUN', 'NOUN', 'VERB', 'NOUN', 'VERB', 'NOUN'])\n",
      "(['actin bending stiffness', 'internal actin filament dynamics', 'negligible influence', 'has', 'vinculin'], ['NOUN', 'NOUN', 'NOUN', 'VERB', 'NOUN'])\n",
      "(['actin bending stiffness', 'and', 'vinculin-binding protein', 'talin', 'with', 'previous observations', 'contrasts', 'negligible influence', 'internal actin filament dynamics'], ['NOUN', 'CONJ', 'NOUN', 'NOUN', 'ADP', 'NOUN', 'VERB', 'NOUN', 'NOUN'])\n",
      "(['actin bending stiffness', 'and', 'vinculin-binding protein', 'talin', 'previous observations', 'contrasts', 'negligible influence', 'internal actin filament dynamics'], ['NOUN', 'CONJ', 'NOUN', 'NOUN', 'NOUN', 'VERB', 'NOUN', 'NOUN'])\n",
      "(['actin bending stiffness', 'internal actin filament dynamics'], ['NOUN', 'NOUN'])\n",
      "(['actin bending stiffness', 'and', 'vinculin-binding protein', 'talin'], ['NOUN', 'CONJ', 'NOUN', 'NOUN'])\n",
      "(['actin bending stiffness', 'internal actin filament dynamics', 'negligible influence', 'contrasts', 'previous observations', 'with', 'talin'], ['NOUN', 'NOUN', 'NOUN', 'VERB', 'NOUN', 'ADP', 'NOUN'])\n",
      "(['actin bending stiffness', 'internal actin filament dynamics', 'negligible influence', 'contrasts', 'previous observations', 'talin'], ['NOUN', 'NOUN', 'NOUN', 'VERB', 'NOUN', 'NOUN'])\n",
      "(['actin bending stiffness', 'and', 'vinculin-binding protein', 'talin', 'actin'], ['NOUN', 'CONJ', 'NOUN', 'NOUN', 'NOUN'])\n",
      "(['actin bending stiffness', 'internal actin filament dynamics', 'negligible influence', 'contrasts', 'previous observations', 'with', 'talin', 'actin'], ['NOUN', 'NOUN', 'NOUN', 'VERB', 'NOUN', 'ADP', 'NOUN', 'NOUN'])\n",
      "(['actin bending stiffness', 'internal actin filament dynamics', 'negligible influence', 'contrasts', 'previous observations', 'talin', 'actin'], ['NOUN', 'NOUN', 'NOUN', 'VERB', 'NOUN', 'NOUN', 'NOUN'])\n",
      "(['actin bending stiffness', 'and', 'vinculin-binding protein'], ['NOUN', 'CONJ', 'NOUN'])\n",
      "(['actin bending stiffness', 'internal actin filament dynamics', 'negligible influence', 'contrasts', 'previous observations', 'with', 'talin', 'vinculin-binding protein'], ['NOUN', 'NOUN', 'NOUN', 'VERB', 'NOUN', 'ADP', 'NOUN', 'NOUN'])\n",
      "(['actin bending stiffness', 'internal actin filament dynamics', 'negligible influence', 'contrasts', 'previous observations', 'talin', 'vinculin-binding protein'], ['NOUN', 'NOUN', 'NOUN', 'VERB', 'NOUN', 'NOUN', 'NOUN'])\n",
      "(['talin', 'with', 'previous observations', 'contrasts', 'negligible influence', 'has', 'vinculin'], ['NOUN', 'ADP', 'NOUN', 'VERB', 'NOUN', 'VERB', 'NOUN'])\n",
      "(['talin', 'previous observations', 'contrasts', 'negligible influence', 'has', 'vinculin'], ['NOUN', 'NOUN', 'VERB', 'NOUN', 'VERB', 'NOUN'])\n",
      "(['talin', 'vinculin-binding protein', 'and', 'actin bending stiffness', 'internal actin filament dynamics', 'negligible influence', 'has', 'vinculin'], ['NOUN', 'NOUN', 'CONJ', 'NOUN', 'NOUN', 'NOUN', 'VERB', 'NOUN'])\n",
      "(['talin', 'with', 'previous observations', 'contrasts', 'negligible influence', 'internal actin filament dynamics'], ['NOUN', 'ADP', 'NOUN', 'VERB', 'NOUN', 'NOUN'])\n",
      "(['talin', 'previous observations', 'contrasts', 'negligible influence', 'internal actin filament dynamics'], ['NOUN', 'NOUN', 'VERB', 'NOUN', 'NOUN'])\n",
      "(['talin', 'vinculin-binding protein', 'and', 'actin bending stiffness', 'internal actin filament dynamics'], ['NOUN', 'NOUN', 'CONJ', 'NOUN', 'NOUN'])\n",
      "(['talin', 'with', 'previous observations', 'contrasts', 'negligible influence', 'internal actin filament dynamics', 'actin bending stiffness'], ['NOUN', 'ADP', 'NOUN', 'VERB', 'NOUN', 'NOUN', 'NOUN'])\n",
      "(['talin', 'previous observations', 'contrasts', 'negligible influence', 'internal actin filament dynamics', 'actin bending stiffness'], ['NOUN', 'NOUN', 'VERB', 'NOUN', 'NOUN', 'NOUN'])\n",
      "(['talin', 'vinculin-binding protein', 'and', 'actin bending stiffness'], ['NOUN', 'NOUN', 'CONJ', 'NOUN'])\n",
      "(['talin', 'actin'], ['NOUN', 'NOUN'])\n",
      "(['talin', 'with', 'previous observations', 'contrasts', 'negligible influence', 'internal actin filament dynamics', 'actin bending stiffness', 'and', 'vinculin-binding protein'], ['NOUN', 'ADP', 'NOUN', 'VERB', 'NOUN', 'NOUN', 'NOUN', 'CONJ', 'NOUN'])\n",
      "(['talin', 'previous observations', 'contrasts', 'negligible influence', 'internal actin filament dynamics', 'actin bending stiffness', 'and', 'vinculin-binding protein'], ['NOUN', 'NOUN', 'VERB', 'NOUN', 'NOUN', 'NOUN', 'CONJ', 'NOUN'])\n",
      "(['talin', 'vinculin-binding protein'], ['NOUN', 'NOUN'])\n",
      "(['actin', 'talin', 'with', 'previous observations', 'contrasts', 'negligible influence', 'has', 'vinculin'], ['NOUN', 'NOUN', 'ADP', 'NOUN', 'VERB', 'NOUN', 'VERB', 'NOUN'])\n",
      "(['actin', 'talin', 'previous observations', 'contrasts', 'negligible influence', 'has', 'vinculin'], ['NOUN', 'NOUN', 'NOUN', 'VERB', 'NOUN', 'VERB', 'NOUN'])\n",
      "(['actin', 'talin', 'vinculin-binding protein', 'and', 'actin bending stiffness', 'internal actin filament dynamics', 'negligible influence', 'has', 'vinculin'], ['NOUN', 'NOUN', 'NOUN', 'CONJ', 'NOUN', 'NOUN', 'NOUN', 'VERB', 'NOUN'])\n",
      "(['actin', 'talin', 'with', 'previous observations', 'contrasts', 'negligible influence', 'internal actin filament dynamics'], ['NOUN', 'NOUN', 'ADP', 'NOUN', 'VERB', 'NOUN', 'NOUN'])\n",
      "(['actin', 'talin', 'previous observations', 'contrasts', 'negligible influence', 'internal actin filament dynamics'], ['NOUN', 'NOUN', 'NOUN', 'VERB', 'NOUN', 'NOUN'])\n",
      "(['actin', 'talin', 'vinculin-binding protein', 'and', 'actin bending stiffness', 'internal actin filament dynamics'], ['NOUN', 'NOUN', 'NOUN', 'CONJ', 'NOUN', 'NOUN'])\n",
      "(['actin', 'talin', 'with', 'previous observations', 'contrasts', 'negligible influence', 'internal actin filament dynamics', 'actin bending stiffness'], ['NOUN', 'NOUN', 'ADP', 'NOUN', 'VERB', 'NOUN', 'NOUN', 'NOUN'])\n",
      "(['actin', 'talin', 'previous observations', 'contrasts', 'negligible influence', 'internal actin filament dynamics', 'actin bending stiffness'], ['NOUN', 'NOUN', 'NOUN', 'VERB', 'NOUN', 'NOUN', 'NOUN'])\n",
      "(['actin', 'talin', 'vinculin-binding protein', 'and', 'actin bending stiffness'], ['NOUN', 'NOUN', 'NOUN', 'CONJ', 'NOUN'])\n",
      "(['actin', 'talin'], ['NOUN', 'NOUN'])\n",
      "(['actin', 'talin', 'with', 'previous observations', 'contrasts', 'negligible influence', 'internal actin filament dynamics', 'actin bending stiffness', 'and', 'vinculin-binding protein'], ['NOUN', 'NOUN', 'ADP', 'NOUN', 'VERB', 'NOUN', 'NOUN', 'NOUN', 'CONJ', 'NOUN'])\n",
      "(['actin', 'talin', 'previous observations', 'contrasts', 'negligible influence', 'internal actin filament dynamics', 'actin bending stiffness', 'and', 'vinculin-binding protein'], ['NOUN', 'NOUN', 'NOUN', 'VERB', 'NOUN', 'NOUN', 'NOUN', 'CONJ', 'NOUN'])\n",
      "(['actin', 'talin', 'vinculin-binding protein'], ['NOUN', 'NOUN', 'NOUN'])\n",
      "(['vinculin-binding protein', 'and', 'actin bending stiffness', 'internal actin filament dynamics', 'negligible influence', 'has', 'vinculin'], ['NOUN', 'CONJ', 'NOUN', 'NOUN', 'NOUN', 'VERB', 'NOUN'])\n",
      "(['vinculin-binding protein', 'talin', 'with', 'previous observations', 'contrasts', 'negligible influence', 'has', 'vinculin'], ['NOUN', 'NOUN', 'ADP', 'NOUN', 'VERB', 'NOUN', 'VERB', 'NOUN'])\n",
      "(['vinculin-binding protein', 'talin', 'previous observations', 'contrasts', 'negligible influence', 'has', 'vinculin'], ['NOUN', 'NOUN', 'NOUN', 'VERB', 'NOUN', 'VERB', 'NOUN'])\n",
      "(['vinculin-binding protein', 'and', 'actin bending stiffness', 'internal actin filament dynamics'], ['NOUN', 'CONJ', 'NOUN', 'NOUN'])\n",
      "(['vinculin-binding protein', 'talin', 'with', 'previous observations', 'contrasts', 'negligible influence', 'internal actin filament dynamics'], ['NOUN', 'NOUN', 'ADP', 'NOUN', 'VERB', 'NOUN', 'NOUN'])\n",
      "(['vinculin-binding protein', 'talin', 'previous observations', 'contrasts', 'negligible influence', 'internal actin filament dynamics'], ['NOUN', 'NOUN', 'NOUN', 'VERB', 'NOUN', 'NOUN'])\n",
      "(['vinculin-binding protein', 'and', 'actin bending stiffness'], ['NOUN', 'CONJ', 'NOUN'])\n",
      "(['vinculin-binding protein', 'talin', 'with', 'previous observations', 'contrasts', 'negligible influence', 'internal actin filament dynamics', 'actin bending stiffness'], ['NOUN', 'NOUN', 'ADP', 'NOUN', 'VERB', 'NOUN', 'NOUN', 'NOUN'])\n",
      "(['vinculin-binding protein', 'talin', 'previous observations', 'contrasts', 'negligible influence', 'internal actin filament dynamics', 'actin bending stiffness'], ['NOUN', 'NOUN', 'NOUN', 'VERB', 'NOUN', 'NOUN', 'NOUN'])\n",
      "(['vinculin-binding protein', 'and', 'actin bending stiffness', 'internal actin filament dynamics', 'negligible influence', 'contrasts', 'previous observations', 'with', 'talin'], ['NOUN', 'CONJ', 'NOUN', 'NOUN', 'NOUN', 'VERB', 'NOUN', 'ADP', 'NOUN'])\n",
      "(['vinculin-binding protein', 'and', 'actin bending stiffness', 'internal actin filament dynamics', 'negligible influence', 'contrasts', 'previous observations', 'talin'], ['NOUN', 'CONJ', 'NOUN', 'NOUN', 'NOUN', 'VERB', 'NOUN', 'NOUN'])\n",
      "(['vinculin-binding protein', 'talin'], ['NOUN', 'NOUN'])\n",
      "(['vinculin-binding protein', 'and', 'actin bending stiffness', 'internal actin filament dynamics', 'negligible influence', 'contrasts', 'previous observations', 'with', 'talin', 'actin'], ['NOUN', 'CONJ', 'NOUN', 'NOUN', 'NOUN', 'VERB', 'NOUN', 'ADP', 'NOUN', 'NOUN'])\n",
      "(['vinculin-binding protein', 'and', 'actin bending stiffness', 'internal actin filament dynamics', 'negligible influence', 'contrasts', 'previous observations', 'talin', 'actin'], ['NOUN', 'CONJ', 'NOUN', 'NOUN', 'NOUN', 'VERB', 'NOUN', 'NOUN', 'NOUN'])\n",
      "(['vinculin-binding protein', 'talin', 'actin'], ['NOUN', 'NOUN', 'NOUN'])\n",
      "86\n"
     ]
    }
   ],
   "source": [
    "count = 0\n",
    "for m in merged:\n",
    "    count +=1\n",
    "    print (m)\n",
    "print (count)"
   ]
  },
  {
   "cell_type": "code",
   "execution_count": 25,
   "id": "b9a943a2",
   "metadata": {},
   "outputs": [
    {
     "name": "stdout",
     "output_type": "stream",
     "text": [
      "CPU times: user 156 µs, sys: 4 µs, total: 160 µs\n",
      "Wall time: 122 µs\n"
     ]
    }
   ],
   "source": [
    "%%time\n",
    "# Let's sort out those sentences with 'negligible influence' and 'contrast' and those without\n",
    "merged = zip(simple_path, POS_path)\n",
    "with_keyword = []\n",
    "without_keyword = []\n",
    "for m in merged:\n",
    "    #print (m)\n",
    "    if 'negligible influence' in m[0] or 'contrasts' in m[0]:\n",
    "        with_keyword.append(m)\n",
    "    else:\n",
    "        without_keyword.append(m)"
   ]
  },
  {
   "cell_type": "code",
   "execution_count": 26,
   "id": "0b466135",
   "metadata": {},
   "outputs": [
    {
     "data": {
      "text/plain": [
       "(66, 20)"
      ]
     },
     "execution_count": 26,
     "metadata": {},
     "output_type": "execute_result"
    }
   ],
   "source": [
    "len(with_keyword), len(without_keyword)"
   ]
  },
  {
   "cell_type": "code",
   "execution_count": 27,
   "id": "a3a65629",
   "metadata": {},
   "outputs": [
    {
     "name": "stdout",
     "output_type": "stream",
     "text": [
      "CPU times: user 346 µs, sys: 6 µs, total: 352 µs\n",
      "Wall time: 368 µs\n"
     ]
    }
   ],
   "source": [
    "%%time\n",
    "tag_count = {}\n",
    "for tag in pos_tags:\n",
    "    tag_count[tag] = 0\n",
    "\n",
    "for entry in with_keyword:\n",
    "    for item in entry[1]:\n",
    "        tag_count[item] +=1/len(entry[1]) # normalise for length of the path\n",
    "\n",
    "for tag in pos_tags:\n",
    "    tag_count[tag] = round(tag_count[tag]/len(with_keyword),4) # normalize for the number of paths\n",
    "    "
   ]
  },
  {
   "cell_type": "code",
   "execution_count": 28,
   "id": "a27dd443",
   "metadata": {},
   "outputs": [
    {
     "data": {
      "text/plain": [
       "{'NOUN': 0.7257, 'VERB': 0.1769, 'ADP': 0.0531, 'CONJ': 0.0444}"
      ]
     },
     "execution_count": 28,
     "metadata": {},
     "output_type": "execute_result"
    }
   ],
   "source": [
    "tag_count"
   ]
  },
  {
   "cell_type": "code",
   "execution_count": 29,
   "id": "69081765",
   "metadata": {},
   "outputs": [
    {
     "name": "stdout",
     "output_type": "stream",
     "text": [
      "CPU times: user 114 µs, sys: 14 µs, total: 128 µs\n",
      "Wall time: 320 µs\n"
     ]
    }
   ],
   "source": [
    "%%time\n",
    "tag_count = {}\n",
    "for tag in pos_tags:\n",
    "    tag_count[tag] = 0\n",
    "\n",
    "for entry in without_keyword:\n",
    "    for item in entry[1]:\n",
    "        tag_count[item] +=1/len(entry[1])\n",
    "\n",
    "for tag in pos_tags:\n",
    "    tag_count[tag] = round(tag_count[tag]/len(without_keyword),4)"
   ]
  },
  {
   "cell_type": "code",
   "execution_count": 30,
   "id": "239f57ce",
   "metadata": {},
   "outputs": [
    {
     "data": {
      "text/plain": [
       "{'NOUN': 0.86, 'VERB': 0.0, 'ADP': 0.0, 'CONJ': 0.14}"
      ]
     },
     "execution_count": 30,
     "metadata": {},
     "output_type": "execute_result"
    }
   ],
   "source": [
    "tag_count"
   ]
  },
  {
   "cell_type": "markdown",
   "id": "b3c1a7b9",
   "metadata": {},
   "source": [
    "#### Observation 1:\n",
    "For single sentence, paths that have meaningful causal relationship (i.e. keywords) shows a different distribution in terms of common POS tags like 'NOUN' and 'VERB'.  This may form one of many rules to classify if a sentence contains causal explanation between two entities of interest.\n",
    "\n",
    "Follow-up is to do a sampling with more sentences with causal relationship to see if this heuristic will stand."
   ]
  },
  {
   "cell_type": "markdown",
   "id": "aef44237",
   "metadata": {},
   "source": [
    "### Analysis of Shortest Path of the Graph"
   ]
  },
  {
   "cell_type": "markdown",
   "id": "c55b9b6d",
   "metadata": {},
   "source": [
    "In article <b><i>\"All-paths graph kernel for protein-protein interaction extraction with evaluation of cross-corpus learning\"</i></b> (from Natural Language Processing in Biomedicine (BioNLP) ACL Workshop 2008 Columbus, OH, USA. 19 June 2008, BMC Bioinformatics 2008, 9(Suppl 11):S2 doi:10.1186/1471-2105-9-S11-S2, published: 19 November 2008), authors suggested that [...] words between the candidate entities or connecting them in a syntactic representation are particularly likely to carry information regarding their relationship; Bunescu and Mooney formalize this intuition for dependency graphs as the <b>shortest path hypothesis</b>.[...]\n",
    "\n",
    "Following this hypothesis, I also analyse the shortest path connecting those entities of interest and see if there is any pattern that I can uncover and code into Labelling Function."
   ]
  },
  {
   "cell_type": "code",
   "execution_count": 38,
   "id": "0ef11fd2",
   "metadata": {},
   "outputs": [
    {
     "name": "stdout",
     "output_type": "stream",
     "text": [
      "0 : ['internal actin filament dynamics', 'negligible influence', 'has', 'vinculin']\n",
      "1 : ['actin bending stiffness', 'internal actin filament dynamics', 'negligible influence', 'has', 'vinculin']\n",
      "2 : ['talin', 'previous observations', 'contrasts', 'negligible influence', 'has', 'vinculin']\n",
      "3 : ['actin', 'talin', 'previous observations', 'contrasts', 'negligible influence', 'has', 'vinculin']\n",
      "4 : ['vinculin-binding protein', 'and', 'actin bending stiffness', 'internal actin filament dynamics', 'negligible influence', 'has', 'vinculin']\n",
      "5 : ['vinculin', 'has', 'negligible influence', 'internal actin filament dynamics']\n",
      "6 : ['actin bending stiffness', 'internal actin filament dynamics']\n",
      "7 : ['talin', 'previous observations', 'contrasts', 'negligible influence', 'internal actin filament dynamics']\n",
      "8 : ['actin', 'talin', 'previous observations', 'contrasts', 'negligible influence', 'internal actin filament dynamics']\n",
      "9 : ['vinculin-binding protein', 'and', 'actin bending stiffness', 'internal actin filament dynamics']\n",
      "10 : ['vinculin', 'has', 'negligible influence', 'internal actin filament dynamics', 'actin bending stiffness']\n",
      "11 : ['internal actin filament dynamics', 'actin bending stiffness']\n",
      "12 : ['talin', 'vinculin-binding protein', 'and', 'actin bending stiffness']\n",
      "13 : ['actin', 'talin', 'vinculin-binding protein', 'and', 'actin bending stiffness']\n",
      "14 : ['vinculin-binding protein', 'and', 'actin bending stiffness']\n",
      "15 : ['vinculin', 'has', 'negligible influence', 'contrasts', 'previous observations', 'talin']\n",
      "16 : ['internal actin filament dynamics', 'negligible influence', 'contrasts', 'previous observations', 'talin']\n",
      "17 : ['actin bending stiffness', 'and', 'vinculin-binding protein', 'talin']\n",
      "18 : ['actin', 'talin']\n",
      "19 : ['vinculin-binding protein', 'talin']\n",
      "20 : ['vinculin', 'has', 'negligible influence', 'contrasts', 'previous observations', 'talin', 'actin']\n",
      "21 : ['internal actin filament dynamics', 'negligible influence', 'contrasts', 'previous observations', 'talin', 'actin']\n",
      "22 : ['actin bending stiffness', 'and', 'vinculin-binding protein', 'talin', 'actin']\n",
      "23 : ['talin', 'actin']\n",
      "24 : ['vinculin-binding protein', 'talin', 'actin']\n",
      "25 : ['vinculin', 'has', 'negligible influence', 'internal actin filament dynamics', 'actin bending stiffness', 'and', 'vinculin-binding protein']\n",
      "26 : ['internal actin filament dynamics', 'actin bending stiffness', 'and', 'vinculin-binding protein']\n",
      "27 : ['actin bending stiffness', 'and', 'vinculin-binding protein']\n",
      "28 : ['talin', 'vinculin-binding protein']\n",
      "29 : ['actin', 'talin', 'vinculin-binding protein']\n"
     ]
    }
   ],
   "source": [
    "# Find shortest path(s) connecting specified nodes\n",
    "tsp = nx.approximation.traveling_salesman_problem\n",
    "tuples = permutations(atoms, 2)\n",
    "for index, t in enumerate(tuples):\n",
    "    path = tsp(H, nodes=t, cycle=False)\n",
    "    print (index, ':', path) # looks useful"
   ]
  },
  {
   "cell_type": "code",
   "execution_count": 39,
   "id": "f6b51b6c",
   "metadata": {},
   "outputs": [
    {
     "name": "stdout",
     "output_type": "stream",
     "text": [
      "CPU times: user 40.8 ms, sys: 2.38 ms, total: 43.2 ms\n",
      "Wall time: 43.8 ms\n"
     ]
    }
   ],
   "source": [
    "%%time\n",
    "# Extract those shortest paths with VERB in it\n",
    "path_with_vb = []\n",
    "token_tag = nx.get_node_attributes(H, 'pos')\n",
    "tuples = permutations(atoms, 2)\n",
    "for index, t in enumerate(tuples):\n",
    "    path = tsp(H, nodes=t, cycle=False)\n",
    "    for atom in path:\n",
    "        if token_tag[atom]=='VERB':\n",
    "            path_with_vb.append(path)"
   ]
  },
  {
   "cell_type": "code",
   "execution_count": 41,
   "id": "175ee3f5",
   "metadata": {},
   "outputs": [
    {
     "name": "stdout",
     "output_type": "stream",
     "text": [
      "0 : ['internal actin filament dynamics', 'negligible influence', 'has', 'vinculin']\n",
      "1 : ['actin bending stiffness', 'internal actin filament dynamics', 'negligible influence', 'has', 'vinculin']\n",
      "2 : ['talin', 'previous observations', 'contrasts', 'negligible influence', 'has', 'vinculin']\n",
      "3 : ['talin', 'previous observations', 'contrasts', 'negligible influence', 'has', 'vinculin']\n",
      "4 : ['actin', 'talin', 'previous observations', 'contrasts', 'negligible influence', 'has', 'vinculin']\n",
      "5 : ['actin', 'talin', 'previous observations', 'contrasts', 'negligible influence', 'has', 'vinculin']\n",
      "6 : ['vinculin-binding protein', 'and', 'actin bending stiffness', 'internal actin filament dynamics', 'negligible influence', 'has', 'vinculin']\n",
      "7 : ['vinculin', 'has', 'negligible influence', 'internal actin filament dynamics']\n",
      "8 : ['talin', 'previous observations', 'contrasts', 'negligible influence', 'internal actin filament dynamics']\n",
      "9 : ['actin', 'talin', 'previous observations', 'contrasts', 'negligible influence', 'internal actin filament dynamics']\n",
      "10 : ['vinculin', 'has', 'negligible influence', 'internal actin filament dynamics', 'actin bending stiffness']\n",
      "11 : ['vinculin', 'has', 'negligible influence', 'contrasts', 'previous observations', 'talin']\n",
      "12 : ['vinculin', 'has', 'negligible influence', 'contrasts', 'previous observations', 'talin']\n",
      "13 : ['internal actin filament dynamics', 'negligible influence', 'contrasts', 'previous observations', 'talin']\n",
      "14 : ['vinculin', 'has', 'negligible influence', 'contrasts', 'previous observations', 'talin', 'actin']\n",
      "15 : ['vinculin', 'has', 'negligible influence', 'contrasts', 'previous observations', 'talin', 'actin']\n",
      "16 : ['internal actin filament dynamics', 'negligible influence', 'contrasts', 'previous observations', 'talin', 'actin']\n",
      "17 : ['vinculin', 'has', 'negligible influence', 'internal actin filament dynamics', 'actin bending stiffness', 'and', 'vinculin-binding protein']\n"
     ]
    }
   ],
   "source": [
    "for index, entry in enumerate(path_with_vb):\n",
    "    print (index, ':', entry)"
   ]
  },
  {
   "cell_type": "markdown",
   "id": "6f7fc6dd",
   "metadata": {},
   "source": [
    "#### Obervations 2:\n",
    "\n",
    "From above extractions, it's obvious that token(s) between two entities of interest do convey the polarity of the relationship between then. \n",
    "\n",
    "Question is how to correctly label the polarity of each in-between token and summarize the relationship."
   ]
  },
  {
   "cell_type": "code",
   "execution_count": null,
   "id": "0f3ce1bf",
   "metadata": {},
   "outputs": [],
   "source": []
  }
 ],
 "metadata": {
  "kernelspec": {
   "display_name": "Python 3 (ipykernel)",
   "language": "python",
   "name": "python3"
  },
  "language_info": {
   "codemirror_mode": {
    "name": "ipython",
    "version": 3
   },
   "file_extension": ".py",
   "mimetype": "text/x-python",
   "name": "python",
   "nbconvert_exporter": "python",
   "pygments_lexer": "ipython3",
   "version": "3.9.7"
  }
 },
 "nbformat": 4,
 "nbformat_minor": 5
}
