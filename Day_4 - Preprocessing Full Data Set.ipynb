{
 "cells": [
  {
   "cell_type": "code",
   "execution_count": 1,
   "id": "92752cbb",
   "metadata": {},
   "outputs": [
    {
     "name": "stderr",
     "output_type": "stream",
     "text": [
      "2022-02-02 10:47:04 INFO: Loading these models for language: en (English):\n",
      "==========================\n",
      "| Processor | Package    |\n",
      "--------------------------\n",
      "| tokenize  | craft      |\n",
      "| pos       | craft      |\n",
      "| lemma     | craft      |\n",
      "| depparse  | craft      |\n",
      "| ner       | bionlp13cg |\n",
      "==========================\n",
      "\n",
      "2022-02-02 10:47:04 INFO: Use device: cpu\n",
      "2022-02-02 10:47:04 INFO: Loading: tokenize\n",
      "2022-02-02 10:47:04 INFO: Loading: pos\n",
      "2022-02-02 10:47:04 INFO: Loading: lemma\n",
      "2022-02-02 10:47:04 INFO: Loading: depparse\n",
      "2022-02-02 10:47:04 INFO: Loading: ner\n",
      "2022-02-02 10:47:05 INFO: Done loading processors!\n",
      "2022-02-02 10:47:05 INFO: Loading these models for language: en (English):\n",
      "=======================\n",
      "| Processor | Package |\n",
      "-----------------------\n",
      "| tokenize  | craft   |\n",
      "| pos       | craft   |\n",
      "| lemma     | craft   |\n",
      "| depparse  | craft   |\n",
      "=======================\n",
      "\n",
      "2022-02-02 10:47:05 INFO: Use device: cpu\n",
      "2022-02-02 10:47:05 INFO: Loading: tokenize\n",
      "2022-02-02 10:47:05 INFO: Loading: pos\n",
      "2022-02-02 10:47:05 INFO: Loading: lemma\n",
      "2022-02-02 10:47:05 INFO: Loading: depparse\n",
      "2022-02-02 10:47:05 INFO: Done loading processors!\n"
     ]
    }
   ],
   "source": [
    "import BMTextTokenizer as bmt\n",
    "import pandas as pd\n",
    "import networkx as nx\n",
    "import time\n",
    "import matplotlib.pyplot as plt\n",
    "import stanza\n",
    "from itertools import permutations\n",
    "%matplotlib inline"
   ]
  },
  {
   "cell_type": "code",
   "execution_count": 2,
   "id": "7fbaee30",
   "metadata": {},
   "outputs": [
    {
     "name": "stderr",
     "output_type": "stream",
     "text": [
      "2022-02-02 10:47:06 INFO: Loading these models for language: en (English):\n",
      "==========================\n",
      "| Processor | Package    |\n",
      "--------------------------\n",
      "| tokenize  | craft      |\n",
      "| pos       | craft      |\n",
      "| lemma     | craft      |\n",
      "| depparse  | craft      |\n",
      "| ner       | bionlp13cg |\n",
      "==========================\n",
      "\n",
      "2022-02-02 10:47:06 INFO: Use device: cpu\n",
      "2022-02-02 10:47:06 INFO: Loading: tokenize\n",
      "2022-02-02 10:47:06 INFO: Loading: pos\n",
      "2022-02-02 10:47:06 INFO: Loading: lemma\n",
      "2022-02-02 10:47:06 INFO: Loading: depparse\n",
      "2022-02-02 10:47:07 INFO: Loading: ner\n",
      "2022-02-02 10:47:07 INFO: Done loading processors!\n",
      "2022-02-02 10:47:07 INFO: Loading these models for language: en (English):\n",
      "=======================\n",
      "| Processor | Package |\n",
      "-----------------------\n",
      "| tokenize  | craft   |\n",
      "| pos       | craft   |\n",
      "| lemma     | craft   |\n",
      "| depparse  | craft   |\n",
      "=======================\n",
      "\n",
      "2022-02-02 10:47:07 INFO: Use device: cpu\n",
      "2022-02-02 10:47:07 INFO: Loading: tokenize\n",
      "2022-02-02 10:47:07 INFO: Loading: pos\n",
      "2022-02-02 10:47:07 INFO: Loading: lemma\n",
      "2022-02-02 10:47:07 INFO: Loading: depparse\n",
      "2022-02-02 10:47:07 INFO: Done loading processors!\n"
     ]
    }
   ],
   "source": [
    "# Default stanza pipeline to be used throughout this notebook\n",
    "nlp = stanza.Pipeline('en', package='craft', processors={'ner': 'BioNLP13CG'})\n",
    "pretokenized_nlp = stanza.Pipeline(lang='en', package='craft', processor='tokenize', tokenize_pretokenized=True) "
   ]
  },
  {
   "cell_type": "code",
   "execution_count": 3,
   "id": "ed267bc2",
   "metadata": {},
   "outputs": [],
   "source": [
    "path = '/Volumes/GoogleDrive/My Drive/_My Data Analytics Exercise/Exercise/Biopython/CE/'"
   ]
  },
  {
   "cell_type": "code",
   "execution_count": 4,
   "id": "a688c132",
   "metadata": {},
   "outputs": [
    {
     "name": "stdout",
     "output_type": "stream",
     "text": [
      "<class 'pandas.core.frame.DataFrame'>\n",
      "RangeIndex: 1124 entries, 0 to 1123\n",
      "Data columns (total 5 columns):\n",
      " #   Column         Non-Null Count  Dtype \n",
      "---  ------         --------------  ----- \n",
      " 0   interactionId  1124 non-null   object\n",
      " 1   sentence       1124 non-null   object\n",
      " 2   entities       1124 non-null   object\n",
      " 3   interaction    1124 non-null   object\n",
      " 4   relationship   1124 non-null   int64 \n",
      "dtypes: int64(1), object(4)\n",
      "memory usage: 44.0+ KB\n",
      "CPU times: user 20.3 ms, sys: 7.75 ms, total: 28 ms\n",
      "Wall time: 46 ms\n"
     ]
    }
   ],
   "source": [
    "%%time\n",
    "df = pd.read_csv(path+'all_interactions.csv')\n",
    "df.info()"
   ]
  },
  {
   "cell_type": "code",
   "execution_count": 5,
   "id": "7329e4aa",
   "metadata": {},
   "outputs": [
    {
     "name": "stdout",
     "output_type": "stream",
     "text": [
      "CPU times: user 1.74 ms, sys: 3.19 ms, total: 4.93 ms\n",
      "Wall time: 11.6 ms\n"
     ]
    },
    {
     "data": {
      "text/plain": [
       "['VERB',\n",
       " 'NOUN',\n",
       " 'ADJ',\n",
       " 'NUM',\n",
       " 'ADP',\n",
       " 'PUNCT',\n",
       " 'CONJ',\n",
       " 'DET',\n",
       " 'PROPN',\n",
       " 'PRON',\n",
       " 'SCONJ',\n",
       " 'SYM',\n",
       " 'ADV',\n",
       " 'AUX',\n",
       " 'PART',\n",
       " 'X',\n",
       " 'CCONJ']"
      ]
     },
     "execution_count": 5,
     "metadata": {},
     "output_type": "execute_result"
    }
   ],
   "source": [
    "%%time\n",
    "pos_tag = []\n",
    "with open('upos_tag.txt', 'r') as f:\n",
    "    lines = f.readlines()\n",
    "    for line in lines:\n",
    "        pos_tag.append(line.replace('\\n',''))\n",
    "pos_tag       "
   ]
  },
  {
   "cell_type": "code",
   "execution_count": 6,
   "id": "b2dd25a5",
   "metadata": {},
   "outputs": [],
   "source": [
    "with_interactions = df[df['relationship']==1].copy()\n",
    "without_interactions = df[df['relationship']==0].copy()"
   ]
  },
  {
   "cell_type": "code",
   "execution_count": 7,
   "id": "5016d7c1",
   "metadata": {},
   "outputs": [
    {
     "name": "stdout",
     "output_type": "stream",
     "text": [
      "<class 'pandas.core.frame.DataFrame'>\n",
      "Int64Index: 825 entries, 1 to 1122\n",
      "Data columns (total 5 columns):\n",
      " #   Column         Non-Null Count  Dtype \n",
      "---  ------         --------------  ----- \n",
      " 0   interactionId  825 non-null    object\n",
      " 1   sentence       825 non-null    object\n",
      " 2   entities       825 non-null    object\n",
      " 3   interaction    825 non-null    object\n",
      " 4   relationship   825 non-null    int64 \n",
      "dtypes: int64(1), object(4)\n",
      "memory usage: 38.7+ KB\n"
     ]
    }
   ],
   "source": [
    "with_interactions.info()"
   ]
  },
  {
   "cell_type": "code",
   "execution_count": 8,
   "id": "65c0f0e0",
   "metadata": {},
   "outputs": [
    {
     "name": "stdout",
     "output_type": "stream",
     "text": [
      "<class 'pandas.core.frame.DataFrame'>\n",
      "Int64Index: 299 entries, 0 to 1123\n",
      "Data columns (total 5 columns):\n",
      " #   Column         Non-Null Count  Dtype \n",
      "---  ------         --------------  ----- \n",
      " 0   interactionId  299 non-null    object\n",
      " 1   sentence       299 non-null    object\n",
      " 2   entities       299 non-null    object\n",
      " 3   interaction    299 non-null    object\n",
      " 4   relationship   299 non-null    int64 \n",
      "dtypes: int64(1), object(4)\n",
      "memory usage: 14.0+ KB\n"
     ]
    }
   ],
   "source": [
    "without_interactions.info()"
   ]
  },
  {
   "cell_type": "code",
   "execution_count": 9,
   "id": "501a6925",
   "metadata": {},
   "outputs": [
    {
     "data": {
      "text/html": [
       "<div>\n",
       "<style scoped>\n",
       "    .dataframe tbody tr th:only-of-type {\n",
       "        vertical-align: middle;\n",
       "    }\n",
       "\n",
       "    .dataframe tbody tr th {\n",
       "        vertical-align: top;\n",
       "    }\n",
       "\n",
       "    .dataframe thead th {\n",
       "        text-align: right;\n",
       "    }\n",
       "</style>\n",
       "<table border=\"1\" class=\"dataframe\">\n",
       "  <thead>\n",
       "    <tr style=\"text-align: right;\">\n",
       "      <th></th>\n",
       "      <th>interactionId</th>\n",
       "      <th>sentence</th>\n",
       "      <th>entities</th>\n",
       "      <th>interaction</th>\n",
       "      <th>relationship</th>\n",
       "    </tr>\n",
       "  </thead>\n",
       "  <tbody>\n",
       "    <tr>\n",
       "      <th>1</th>\n",
       "      <td>BioInfer_d682</td>\n",
       "      <td>The recombinant material is similar to authent...</td>\n",
       "      <td>[('skeletal actin#', 'T1', 'Individual_protein...</td>\n",
       "      <td>{'R1': ('T1', 'T3')}</td>\n",
       "      <td>1</td>\n",
       "    </tr>\n",
       "    <tr>\n",
       "      <th>3</th>\n",
       "      <td>BioInfer_d595</td>\n",
       "      <td>The common denominator is impaired beta-cateni...</td>\n",
       "      <td>[('beta-catenin#', 'T1', 'Individual_protein',...</td>\n",
       "      <td>{'R1': ('T1', 'T2'), 'R2': ('T1', 'T3')}</td>\n",
       "      <td>1</td>\n",
       "    </tr>\n",
       "    <tr>\n",
       "      <th>8</th>\n",
       "      <td>BioInfer_d538</td>\n",
       "      <td>Significantly, those actin mutants exhibiting ...</td>\n",
       "      <td>[('actin#', 'T4', 'Gene/protein/RNA', (21, 26)...</td>\n",
       "      <td>{'R1': ('T1', 'T2'), 'R2': ('T1', 'T3')}</td>\n",
       "      <td>1</td>\n",
       "    </tr>\n",
       "    <tr>\n",
       "      <th>11</th>\n",
       "      <td>BioInfer_d54</td>\n",
       "      <td>Analyses of dynamic light scattering data by s...</td>\n",
       "      <td>[('actin#', 'T6', 'Individual_protein', (129, ...</td>\n",
       "      <td>{'R1': ('T1', 'T3'), 'R2': ('T2', 'T4'), 'R3':...</td>\n",
       "      <td>1</td>\n",
       "    </tr>\n",
       "    <tr>\n",
       "      <th>12</th>\n",
       "      <td>BioInfer_d777</td>\n",
       "      <td>Treatment with HNE resulted in activation of e...</td>\n",
       "      <td>[('extracellular signal-regulated protein kina...</td>\n",
       "      <td>{'R1': ('T1', 'T6'), 'R2': ('T2', 'T6')}</td>\n",
       "      <td>1</td>\n",
       "    </tr>\n",
       "  </tbody>\n",
       "</table>\n",
       "</div>"
      ],
      "text/plain": [
       "    interactionId                                           sentence  \\\n",
       "1   BioInfer_d682  The recombinant material is similar to authent...   \n",
       "3   BioInfer_d595  The common denominator is impaired beta-cateni...   \n",
       "8   BioInfer_d538  Significantly, those actin mutants exhibiting ...   \n",
       "11   BioInfer_d54  Analyses of dynamic light scattering data by s...   \n",
       "12  BioInfer_d777  Treatment with HNE resulted in activation of e...   \n",
       "\n",
       "                                             entities  \\\n",
       "1   [('skeletal actin#', 'T1', 'Individual_protein...   \n",
       "3   [('beta-catenin#', 'T1', 'Individual_protein',...   \n",
       "8   [('actin#', 'T4', 'Gene/protein/RNA', (21, 26)...   \n",
       "11  [('actin#', 'T6', 'Individual_protein', (129, ...   \n",
       "12  [('extracellular signal-regulated protein kina...   \n",
       "\n",
       "                                          interaction  relationship  \n",
       "1                                {'R1': ('T1', 'T3')}             1  \n",
       "3            {'R1': ('T1', 'T2'), 'R2': ('T1', 'T3')}             1  \n",
       "8            {'R1': ('T1', 'T2'), 'R2': ('T1', 'T3')}             1  \n",
       "11  {'R1': ('T1', 'T3'), 'R2': ('T2', 'T4'), 'R3':...             1  \n",
       "12           {'R1': ('T1', 'T6'), 'R2': ('T2', 'T6')}             1  "
      ]
     },
     "execution_count": 9,
     "metadata": {},
     "output_type": "execute_result"
    }
   ],
   "source": [
    "with_interactions.head()"
   ]
  },
  {
   "cell_type": "markdown",
   "id": "c60f3c65",
   "metadata": {},
   "source": [
    "### Preprocessing of Sentences for further analysis"
   ]
  },
  {
   "cell_type": "code",
   "execution_count": 17,
   "id": "7fa291aa",
   "metadata": {},
   "outputs": [
    {
     "name": "stderr",
     "output_type": "stream",
     "text": [
      "\r",
      "  0%|                                                   | 0/100 [00:00<?, ?it/s]"
     ]
    },
    {
     "name": "stdout",
     "output_type": "stream",
     "text": [
      "189 Studies on cultured cells have suggested that both alpha-catenin and plakoglobin are important for the adhesive function of cadherins. #\n",
      "Prev size: 21 Vs. Next size 17\n"
     ]
    },
    {
     "name": "stderr",
     "output_type": "stream",
     "text": [
      "\r",
      "  1%|▍                                          | 1/100 [00:00<00:30,  3.25it/s]"
     ]
    },
    {
     "name": "stdout",
     "output_type": "stream",
     "text": [
      "Prev size: 17 Vs. Next size 17\n",
      "353 These results suggest that profilin may be involved in the pathogenesis of glomerulonephritis by reorganizing actin cytoskeleton. #\n",
      "Prev size: 19 Vs. Next size 18\n"
     ]
    },
    {
     "name": "stderr",
     "output_type": "stream",
     "text": [
      "\r",
      "  2%|▊                                          | 2/100 [00:00<00:35,  2.76it/s]"
     ]
    },
    {
     "name": "stdout",
     "output_type": "stream",
     "text": [
      "Prev size: 18 Vs. Next size 17\n",
      "Prev size: 17 Vs. Next size 17\n",
      "59 ActA appears to control at least four functions that collectively lead to actin-based motility: (1) initiation of actin polymerization, (2) polarization of ActA function, (3) transformation of actin polymerization into a motile force and (4) acceleration of movement mediated by the host protein profilin. #\n",
      "Prev size: 48 Vs. Next size 42\n",
      "Prev size: 42 Vs. Next size 40\n"
     ]
    },
    {
     "name": "stderr",
     "output_type": "stream",
     "text": [
      "\r",
      "  3%|█▎                                         | 3/100 [00:01<00:58,  1.67it/s]"
     ]
    },
    {
     "name": "stdout",
     "output_type": "stream",
     "text": [
      "Prev size: 40 Vs. Next size 39\n",
      "Prev size: 39 Vs. Next size 39\n",
      "682 The multifunctional protein profilin is one of the most abundant proteins in the cytoplasm and is thought to regulate actin assembly and the phosphoinositide signaling pathway. #\n",
      "Prev size: 28 Vs. Next size 24\n",
      "Prev size: 24 Vs. Next size 21\n"
     ]
    },
    {
     "name": "stderr",
     "output_type": "stream",
     "text": [
      "\r",
      "  4%|█▋                                         | 4/100 [00:02<00:56,  1.69it/s]"
     ]
    },
    {
     "name": "stdout",
     "output_type": "stream",
     "text": [
      "Prev size: 21 Vs. Next size 21\n",
      "1095 In the present study, we observed evidence of cross-talk between the cannabinoid receptor CB1 and the orexin 1 receptor (OX1R) using a heterologous system. In contrast to OX1R, the potency of direct activation of CB1 was not affected by co-expression with OX1R. In addition, electron microscopy experiments revealed that CB1 and OX1R are closely apposed at the plasma membrane level; they are close enough to form hetero-oligomers. #\n",
      "Prev size: 73 Vs. Next size 63\n",
      "Prev size: 63 Vs. Next size 59\n"
     ]
    },
    {
     "name": "stderr",
     "output_type": "stream",
     "text": [
      "\r",
      "  5%|██▏                                        | 5/100 [00:03<01:07,  1.41it/s]"
     ]
    },
    {
     "name": "stdout",
     "output_type": "stream",
     "text": [
      "Prev size: 59 Vs. Next size 59\n",
      "976 Insulin-like signaling in yeast: modulation of protein phosphatase 2A, protein kinase A, cAMP-specific phosphodiesterase, and glycosyl-phosphatidylinositol-specific phospholipase C activities In addition, glycosyl-phosphatidylinositol-specific phospholipase C (GPI-PLC), which in isolated rat adipocytes is activated by insulin, was stimulated to up to 5-fold by glucose and 10-fold by glucose plus insulin in both yeast spheroplasts and intact cells leading to a concentration-dependent leftward shift of the glucose-response curve for activation of the GPI-PLC GPI-PLC was most pronouncedly stimulated by authentic human insulin compared to various insulin analogues and insulin-like growth factor I As the GPI-PLC reaction is rate limiting, the efficiency of the two-step anchor cleavage was significantly increased when insulin was present together with glucose as compared to glucose alone The insulin concentrations effective in modulating PP2A, PKA, cAMP-PDE, and GPI-PLC activities correlate well with those required for half-saturation of the specific binding sites as well as for stimulation of protein phosphorylation and glycogen accumulation The data suggest that mammalian insulin-sensitive cells and yeast share (part of) the key regulatory mechanism (consisting of PP2A, PKA, cAMP-PDE, and GPI-PLC) involved in the transduction of the insulin signal from the respective receptor systems to glycogen synthase and phosphorylase. #\n",
      "Prev size: 209 Vs. Next size 175\n",
      "Prev size: 175 Vs. Next size 155\n",
      "Prev size: 155 Vs. Next size 151\n"
     ]
    },
    {
     "name": "stderr",
     "output_type": "stream",
     "text": [
      "\r",
      "  6%|██▌                                        | 6/100 [00:05<02:08,  1.37s/it]"
     ]
    },
    {
     "name": "stdout",
     "output_type": "stream",
     "text": [
      "Prev size: 151 Vs. Next size 151\n",
      "199 Other than monomeric actin, no major profilin ligands are detected in crude extracts. Our results show that the major pool of polymerizable actin monomers is complexed with profilin and spread throughout the cytoplasm. Selective monoclonal antibodies confirm that most of the profilin is bound to actin: 65% in extract immunoadsorption assays and 74-89% by fluorescent antibody staining. We used biochemical fractionation, immunoassays and microscopy of live and fixed Acanthamoeba to determine how much profilin is bound to its known ligands: actin, membrane PIP(2), Arp2/3 complex and polyproline sequences. #\n",
      "Prev size: 94 Vs. Next size 77\n",
      "Prev size: 77 Vs. Next size 69\n",
      "Prev size: 69 Vs. Next size 67\n"
     ]
    },
    {
     "name": "stderr",
     "output_type": "stream",
     "text": [
      "\r",
      "  7%|███                                        | 7/100 [00:07<02:14,  1.45s/it]"
     ]
    },
    {
     "name": "stdout",
     "output_type": "stream",
     "text": [
      "Prev size: 67 Vs. Next size 67\n",
      "1084 Pinin/DRS/memA interacts with SRp75, SRm300 and SRrp130 in corneal epithelial cells. Three SR-rich proteins were identified that interact with the C-terminus of Pnn: SRp75 and SRm300, known components of spliceosome machinery, and a novel 130-kDa nuclear protein, SRrp130. #\n",
      "Prev size: 44 Vs. Next size 35\n",
      "Prev size: 35 Vs. Next size 31\n",
      "Prev size: 31 Vs. Next size 30\n",
      "Prev size: 30 Vs. Next size 29\n"
     ]
    },
    {
     "name": "stderr",
     "output_type": "stream",
     "text": [
      "\r",
      "  8%|███▍                                       | 8/100 [00:08<02:09,  1.41s/it]"
     ]
    },
    {
     "name": "stdout",
     "output_type": "stream",
     "text": [
      "Prev size: 29 Vs. Next size 29\n",
      "301 The N-terminal talin polypeptide eventually disrupted actin stress fibres whereas the C-terminal polypeptide was without effect. The Pro1176 to Thr substitution found in talin from Wistar-Furth rats does not destroy the capacity of this region of the protein to bind actin or vinculin. #\n",
      "Prev size: 45 Vs. Next size 38\n",
      "Prev size: 38 Vs. Next size 36\n"
     ]
    },
    {
     "name": "stderr",
     "output_type": "stream",
     "text": [
      "\r",
      "  9%|███▊                                       | 9/100 [00:09<01:49,  1.20s/it]"
     ]
    },
    {
     "name": "stdout",
     "output_type": "stream",
     "text": [
      "Prev size: 36 Vs. Next size 36\n",
      "813 The herpes simplex virus type 1 UL8 protein influences the intracellular localization of the UL52 but not the ICP8 or POL replication proteins in virus-infected cells. #\n",
      "Prev size: 28 Vs. Next size 20\n",
      "Prev size: 20 Vs. Next size 18\n",
      "Prev size: 18 Vs. Next size 17\n",
      "Prev size: 17 Vs. Next size 16\n"
     ]
    },
    {
     "name": "stderr",
     "output_type": "stream",
     "text": [
      "\r",
      " 10%|████▏                                     | 10/100 [00:10<01:42,  1.14s/it]"
     ]
    },
    {
     "name": "stdout",
     "output_type": "stream",
     "text": [
      "Prev size: 16 Vs. Next size 16\n",
      "710 Binding of talin to actin occurs at a maximal molar ratio of 1:3 as determined by fluorescencetitration under G-buffer conditions. Platelet talin binds to actin in vitro and hence is an actin binding protein. #\n",
      "Prev size: 36 Vs. Next size 32\n",
      "Prev size: 32 Vs. Next size 29\n"
     ]
    },
    {
     "name": "stderr",
     "output_type": "stream",
     "text": [
      "\r",
      " 11%|████▌                                     | 11/100 [00:11<01:27,  1.01it/s]"
     ]
    },
    {
     "name": "stdout",
     "output_type": "stream",
     "text": [
      "Prev size: 29 Vs. Next size 29\n",
      "314 Furthermore, a simultaneous expression of profilin, actin and extracellular matrix proteins was observed during the regeneration of rat liver, that is, all mRNAs of these proteins showed biphasic peaks around 6 h and 48 h after partial hepatectomy. #\n",
      "Prev size: 44 Vs. Next size 39\n",
      "Prev size: 39 Vs. Next size 37\n"
     ]
    },
    {
     "name": "stderr",
     "output_type": "stream",
     "text": [
      "\r",
      " 12%|█████                                     | 12/100 [00:12<01:27,  1.01it/s]"
     ]
    },
    {
     "name": "stdout",
     "output_type": "stream",
     "text": [
      "Prev size: 37 Vs. Next size 36\n",
      "Prev size: 36 Vs. Next size 36\n",
      "196 Such motifs are known to bind to profilins (PFNs), small proteins engaged in the control of actin dynamics. #\n"
     ]
    },
    {
     "name": "stderr",
     "output_type": "stream",
     "text": [
      "\r",
      " 13%|█████▍                                    | 13/100 [00:12<01:10,  1.24it/s]"
     ]
    },
    {
     "name": "stdout",
     "output_type": "stream",
     "text": [
      "Prev size: 21 Vs. Next size 17\n",
      "Prev size: 17 Vs. Next size 17\n",
      "485 Detection of loss of heterozygosity at RAD51, RAD52, RAD54 and BRCA1 and BRCA2 loci in breast cancer: pathological correlations. LOH was found in the RAD51 region in 32% of tumours, in the RAD52 region in 16%, in RAD54 in 20% and in the BRCA1 and BRCA2 regions in 49% and 44% respectively. We investigate allelic losses in microsatellites of the RAD51, RAD52, RAD54, BRCA1 and BRCA2 regions, and their correlations with nine pathologic parameters in 127 breast carcinomas. #\n",
      "Prev size: 88 Vs. Next size 74\n",
      "Prev size: 74 Vs. Next size 69\n",
      "Prev size: 69 Vs. Next size 68\n"
     ]
    },
    {
     "name": "stderr",
     "output_type": "stream",
     "text": [
      "\r",
      " 14%|█████▉                                    | 14/100 [00:14<01:30,  1.05s/it]"
     ]
    },
    {
     "name": "stdout",
     "output_type": "stream",
     "text": [
      "Prev size: 68 Vs. Next size 68\n",
      "243 Integrin (beta) chains, for example, interact with actin-binding proteins (e.g. talin and filamin), which form mechanical links to the cytoskeleton. #\n",
      "Prev size: 25 Vs. Next size 20\n",
      "Prev size: 20 Vs. Next size 19\n"
     ]
    },
    {
     "name": "stderr",
     "output_type": "stream",
     "text": [
      "\r",
      " 15%|██████▎                                   | 15/100 [00:14<01:16,  1.11it/s]"
     ]
    },
    {
     "name": "stdout",
     "output_type": "stream",
     "text": [
      "Prev size: 19 Vs. Next size 19\n",
      "422 Stable transfection of mutant plakoglobin molecules showed that deletion of the N-cadherin binding domain, but not the alpha-catenin binding domain, abolished beta-catenin downregulation. #\n",
      "Prev size: 27 Vs. Next size 22\n",
      "Prev size: 22 Vs. Next size 19\n"
     ]
    },
    {
     "name": "stderr",
     "output_type": "stream",
     "text": [
      "\r",
      " 16%|██████▋                                   | 16/100 [00:15<01:07,  1.24it/s]"
     ]
    },
    {
     "name": "stdout",
     "output_type": "stream",
     "text": [
      "Prev size: 19 Vs. Next size 19\n",
      "240 In vitro, actin purified from some of these mutants is defective in polymerization or binding fimbrin. #\n",
      "Prev size: 19 Vs. Next size 17\n",
      "Prev size: 17 Vs. Next size 16\n"
     ]
    },
    {
     "name": "stderr",
     "output_type": "stream",
     "text": [
      "\r",
      " 17%|███████▏                                  | 17/100 [00:15<01:00,  1.38it/s]"
     ]
    },
    {
     "name": "stdout",
     "output_type": "stream",
     "text": [
      "Prev size: 16 Vs. Next size 16\n",
      "361 The interaction of bovine respiratory syncytial virus (BRSV) phosphoprotein (P) with nucleocapsid (N) and large polymerase (L) proteins was investigated using an intracellular BRSV-CAT minigenome replication system. #\n",
      "Prev size: 29 Vs. Next size 22\n",
      "Prev size: 22 Vs. Next size 17\n",
      "Prev size: 17 Vs. Next size 14\n",
      "Prev size: 14 Vs. Next size 13\n"
     ]
    },
    {
     "name": "stderr",
     "output_type": "stream",
     "text": [
      "\r",
      " 18%|███████▌                                  | 18/100 [00:16<01:04,  1.27it/s]"
     ]
    },
    {
     "name": "stdout",
     "output_type": "stream",
     "text": [
      "Prev size: 13 Vs. Next size 13\n",
      "1032 To assess the possible involvement of PKC in AVP and IL-1 action in Leydig cells, the PKC inhibitor Calphostin C was tested These results confirm that AVP and PMA activate PKC and indicate that IL-1 likely does not activate PKC in Leydig cells. #\n",
      "Prev size: 46 Vs. Next size 37\n",
      "Prev size: 37 Vs. Next size 35\n"
     ]
    },
    {
     "name": "stderr",
     "output_type": "stream",
     "text": [
      "\r",
      " 19%|███████▉                                  | 19/100 [00:17<01:02,  1.31it/s]"
     ]
    },
    {
     "name": "stdout",
     "output_type": "stream",
     "text": [
      "Prev size: 35 Vs. Next size 35\n",
      "949 Activation of EGFR overexpressing 3T3-L1 adipocytes leads to a 3.4 +/- 1.2-fold stimulation of PLC activity over basal levels vs. only 1.06 +/- 0.01-fold stimulation by insulin. Despite the low levels of insulin-induced PLC activity, insulin-stimulated glucose transport activity was similarly inhibited by U73122 (55.9 +/- 13.1% inhibition) Inhibition of PLC activation did not impair either EGF- or insulin-induced activation of glycogen synthase or incorporation of glucose into lipid, supporting the hypothesis that both EGF- and insulin-induced glucose disposal can be independent of GLUT4-mediated glucose transport. The diminution of glucose transport secondary to inhibition of PLC activity was reflected by a decrease in GLUT4 translocation to the plasma membrane upon either EGF or insulin stimulation. #\n",
      "Prev size: 119 Vs. Next size 97\n",
      "Prev size: 97 Vs. Next size 87\n",
      "Prev size: 87 Vs. Next size 85\n"
     ]
    },
    {
     "name": "stderr",
     "output_type": "stream",
     "text": [
      "\r",
      " 20%|████████▍                                 | 20/100 [00:19<01:32,  1.16s/it]"
     ]
    },
    {
     "name": "stdout",
     "output_type": "stream",
     "text": [
      "Prev size: 85 Vs. Next size 85\n",
      "659 The domains in CBP that are involved in CREB binding and transcriptional activation are highly related to the adenoviral E1A-associated cellular protein p300 (refs 2, 3), and to two hypothetical proteins from Caenorhabditis elegans, R10E11.1 and K03H1.10 (refs 4 and 5, respectively), whose functions are unknown. #\n",
      "Prev size: 53 Vs. Next size 44\n",
      "Prev size: 44 Vs. Next size 39\n",
      "Prev size: 39 Vs. Next size 38\n",
      "Prev size: 38 Vs. Next size 37\n"
     ]
    },
    {
     "name": "stderr",
     "output_type": "stream",
     "text": [
      "\r",
      " 21%|████████▊                                 | 21/100 [00:20<01:38,  1.25s/it]"
     ]
    },
    {
     "name": "stdout",
     "output_type": "stream",
     "text": [
      "Prev size: 37 Vs. Next size 37\n",
      "74 By site-directed mutagenesis of profilin II from Dictyostelium discoideum the point mutations K114E and W3N were generated by PCR thus changing actin and poly-(L)-proline-binding activity respectively. The K114E profilin exhibited a profound decrease in its ability to interact with actin, whereas binding to poly-(L)-proline was essentially unchanged. #\n",
      "Prev size: 50 Vs. Next size 40\n",
      "Prev size: 40 Vs. Next size 38\n"
     ]
    },
    {
     "name": "stderr",
     "output_type": "stream",
     "text": [
      "\r",
      " 22%|█████████▏                                | 22/100 [00:22<01:36,  1.24s/it]"
     ]
    },
    {
     "name": "stdout",
     "output_type": "stream",
     "text": [
      "Prev size: 38 Vs. Next size 37\n",
      "Prev size: 37 Vs. Next size 37\n",
      "835 [Activation induces dephosphorylation of cofilin (an actin/PIP2-binding protein) and its translocation to plasma membranes in leukocytes]. #\n"
     ]
    },
    {
     "name": "stderr",
     "output_type": "stream",
     "text": [
      "\r",
      " 23%|█████████▋                                | 23/100 [00:22<01:15,  1.02it/s]"
     ]
    },
    {
     "name": "stdout",
     "output_type": "stream",
     "text": [
      "Prev size: 18 Vs. Next size 16\n",
      "Prev size: 16 Vs. Next size 16\n",
      "572 Dynamic actin structures stabilized by profilin. The distribution of actin filaments is altered by profilin overexpression. While parallel actin bundles crossing the cells are virtually absent in cells overexpressing profilin, the submembranous actin network of these cells is denser than in control cells. #\n",
      "Prev size: 46 Vs. Next size 39\n",
      "Prev size: 39 Vs. Next size 35\n"
     ]
    },
    {
     "name": "stderr",
     "output_type": "stream",
     "text": [
      "\r",
      " 24%|██████████                                | 24/100 [00:23<01:08,  1.11it/s]"
     ]
    },
    {
     "name": "stdout",
     "output_type": "stream",
     "text": [
      "Prev size: 35 Vs. Next size 35\n",
      "1038 The induction of alpha-amylase triggered by gibberellic acid in barley embryos is repressed by sugars Our results indicate that glucose represses gibberellin signalling late along this hormone transduction pathway, downstream of transcription of the gibberellin-modulated transcriptional activator (GAMYB) needed for alpha-amylase induction. #\n",
      "Prev size: 45 Vs. Next size 39\n",
      "Prev size: 39 Vs. Next size 37\n",
      "Prev size: 37 Vs. Next size 36\n",
      "Prev size: 36 Vs. Next size 36\n"
     ]
    },
    {
     "name": "stderr",
     "output_type": "stream",
     "text": [
      "\r",
      " 25%|██████████▌                               | 25/100 [00:24<01:13,  1.02it/s]"
     ]
    },
    {
     "name": "stdout",
     "output_type": "stream",
     "text": [
      "948 These observations suggest that bradykinin, like oxytocin, activates phospholipase C which generates IP3 with a subsequent release of Ca2+ from intracellular stores followed by store-operated Ca2+ influx. #\n",
      "Prev size: 31 Vs. Next size 27\n",
      "Prev size: 27 Vs. Next size 26\n"
     ]
    },
    {
     "name": "stderr",
     "output_type": "stream",
     "text": [
      "\r",
      " 26%|██████████▉                               | 26/100 [00:25<01:04,  1.14it/s]"
     ]
    },
    {
     "name": "stdout",
     "output_type": "stream",
     "text": [
      "Prev size: 26 Vs. Next size 26\n",
      "861 This stress-induced increase in ykzA expression is absolutely dependent on the alternative sigma factor sigmaB, which controls a large stationary-phase and stress regulon. #\n",
      "Prev size: 26 Vs. Next size 21\n",
      "Prev size: 21 Vs. Next size 19\n"
     ]
    },
    {
     "name": "stderr",
     "output_type": "stream",
     "text": [
      "\r",
      " 27%|███████████▎                              | 27/100 [00:25<00:58,  1.25it/s]"
     ]
    },
    {
     "name": "stdout",
     "output_type": "stream",
     "text": [
      "Prev size: 19 Vs. Next size 19\n",
      "667 In infected cells, C protein was detected exclusively in the cytoplasm as granular fluorescence, which coincided very well with the distribution of nucleocapsid protein NP and phosphoprotein P, which were also detected with specific antisera. #\n",
      "Prev size: 40 Vs. Next size 33\n",
      "Prev size: 33 Vs. Next size 32\n"
     ]
    },
    {
     "name": "stderr",
     "output_type": "stream",
     "text": [
      "\r",
      " 28%|███████████▊                              | 28/100 [00:26<01:00,  1.19it/s]"
     ]
    },
    {
     "name": "stdout",
     "output_type": "stream",
     "text": [
      "Prev size: 32 Vs. Next size 31\n",
      "Prev size: 31 Vs. Next size 31\n",
      "1089 Subsequent amino acid sequencing revealed many peptides involving involucrin cross-linked either to itself or to a variety of other known CE protein components, including cystatin alpha, desmoplakin, elafin, keratins, members of the small proline-rich superfamily, loricrin, and unknown proteins related to the desmoplakin family. Specific glutamines or lysines of involucrin were used to cross-link the different proteins, such as glutamines 495 and 496 to desmoplakin, glutamine 288 to keratins, and lysines 468, 485, and 508 and glutamines 465 and 489 for interchain involucrin cross-links. #\n",
      "Prev size: 98 Vs. Next size 82\n",
      "Prev size: 82 Vs. Next size 75\n",
      "Prev size: 75 Vs. Next size 73\n",
      "Prev size: 73 Vs. Next size 71\n"
     ]
    },
    {
     "name": "stderr",
     "output_type": "stream",
     "text": [
      "\r",
      " 29%|████████████▏                             | 29/100 [00:28<01:25,  1.20s/it]"
     ]
    },
    {
     "name": "stdout",
     "output_type": "stream",
     "text": [
      "Prev size: 71 Vs. Next size 71\n",
      "389 In extracts from mouse brain, profilin I and profilin II can form complexes with regulators of endocytosis, synaptic vesicle recycling and actin assembly. In mouse brain profilin I and profilin II associate with regulators of the endocytic pathway and actin assembly. Our findings strongly suggest that in brain profilin I and profilin II complexes link the actin cytoskeleton and endocytic membrane flow, directing actin and clathrin assembly to distinct membrane domains. #\n",
      "Prev size: 76 Vs. Next size 59\n",
      "Prev size: 59 Vs. Next size 49\n",
      "Prev size: 49 Vs. Next size 43\n"
     ]
    },
    {
     "name": "stderr",
     "output_type": "stream",
     "text": [
      "\r",
      " 30%|████████████▌                             | 30/100 [00:30<01:28,  1.26s/it]"
     ]
    },
    {
     "name": "stdout",
     "output_type": "stream",
     "text": [
      "Prev size: 43 Vs. Next size 43\n",
      "765 Effects of macrophage profilin on actin in the presence and absence of acumentin and gelsolin. #\n"
     ]
    },
    {
     "name": "stderr",
     "output_type": "stream",
     "text": [
      "\r",
      " 31%|█████████████                             | 31/100 [00:30<01:07,  1.02it/s]"
     ]
    },
    {
     "name": "stdout",
     "output_type": "stream",
     "text": [
      "Prev size: 17 Vs. Next size 12\n",
      "Prev size: 12 Vs. Next size 12\n",
      "675 Hypertonicity provoked Fyn-dependent tyrosine phosphorylation in beta-catenin, alpha-catenin, and p120(Cas) and caused the dissociation of beta-catenin from the contacts. #\n",
      "Prev size: 23 Vs. Next size 22\n"
     ]
    },
    {
     "name": "stderr",
     "output_type": "stream",
     "text": [
      "\r",
      " 32%|█████████████▍                            | 32/100 [00:31<01:03,  1.08it/s]"
     ]
    },
    {
     "name": "stdout",
     "output_type": "stream",
     "text": [
      "Prev size: 22 Vs. Next size 21\n",
      "Prev size: 21 Vs. Next size 21\n",
      "820 This is the first report describing the coexistence of profilin with actin filaments in the division furrow, implying the possible involvement of profilin in assembly and disassembly of contractile ring microfilaments in the process of cytokinesis. #\n",
      "Prev size: 39 Vs. Next size 32\n"
     ]
    },
    {
     "name": "stderr",
     "output_type": "stream",
     "text": [
      "\r",
      " 33%|█████████████▊                            | 33/100 [00:31<00:59,  1.12it/s]"
     ]
    },
    {
     "name": "stdout",
     "output_type": "stream",
     "text": [
      "Prev size: 32 Vs. Next size 31\n",
      "Prev size: 31 Vs. Next size 31\n",
      "210 Modifying preselected sites on proteins: the stretch of residues 633-642 of the myosin heavy chain is part of the actin-binding site. #\n",
      "Prev size: 23 Vs. Next size 19\n",
      "Prev size: 19 Vs. Next size 17\n"
     ]
    },
    {
     "name": "stderr",
     "output_type": "stream",
     "text": [
      "\r",
      " 34%|██████████████▎                           | 34/100 [00:32<00:52,  1.27it/s]"
     ]
    },
    {
     "name": "stdout",
     "output_type": "stream",
     "text": [
      "Prev size: 17 Vs. Next size 17\n",
      "1112 Cutting edge: CD43 functions as a T cell counterreceptor for the macrophage adhesion receptor sialoadhesin (Siglec-1). The 130- and 240-kDa sialoadhesin-binding glycoproteins were identified as the sialomucins CD43 and P-selectin glycoprotein ligand 1 (CD162), respectively. CD43 expressed in COS cells supported increased binding to immobilized sialoadhesin. Finally, sialoadhesin bound different glycoforms of CD43 expressed in Chinese hamster ovary cells, including unbranched (core 1) and branched (core 2) O:-linked glycans, that are normally found on CD43 in resting and activated T cells, respectively. These results identify CD43 as a T cell counterreceptor for sialoadhesin and suggest that in addition to its anti-adhesive role CD43 may promote cell-cell interactions. #\n",
      "Prev size: 114 Vs. Next size 92\n",
      "Prev size: 92 Vs. Next size 78\n",
      "Prev size: 78 Vs. Next size 73\n"
     ]
    },
    {
     "name": "stderr",
     "output_type": "stream",
     "text": [
      "\r",
      " 35%|██████████████▋                           | 35/100 [00:34<01:10,  1.09s/it]"
     ]
    },
    {
     "name": "stdout",
     "output_type": "stream",
     "text": [
      "Prev size: 73 Vs. Next size 73\n",
      "782 Mechanism of inhibition of proliferating cell nuclear antigen-dependent DNA synthesis by the cyclin-dependent kinase inhibitor p21. #\n",
      "Prev size: 18 Vs. Next size 14\n",
      "Prev size: 14 Vs. Next size 12\n",
      "Prev size: 12 Vs. Next size 11\n"
     ]
    },
    {
     "name": "stderr",
     "output_type": "stream",
     "text": [
      "\r",
      " 36%|███████████████                           | 36/100 [00:34<01:00,  1.05it/s]"
     ]
    },
    {
     "name": "stdout",
     "output_type": "stream",
     "text": [
      "Prev size: 11 Vs. Next size 10\n",
      "Prev size: 10 Vs. Next size 10\n",
      "162 Saccharomyces cerevisiae RAD14 was identified in a two-hybrid screen using MSH2 as \"bait,\" and pairwise interactions between MSH2 and RAD1, RAD2, RAD3, RAD10, RAD14, and RAD25 subsequently were demonstrated by two-hybrid analysis. #\n",
      "Prev size: 40 Vs. Next size 33\n",
      "Prev size: 33 Vs. Next size 30\n",
      "Prev size: 30 Vs. Next size 28\n"
     ]
    },
    {
     "name": "stderr",
     "output_type": "stream",
     "text": [
      "\r",
      " 37%|███████████████▌                          | 37/100 [00:35<00:59,  1.05it/s]"
     ]
    },
    {
     "name": "stdout",
     "output_type": "stream",
     "text": [
      "Prev size: 28 Vs. Next size 28\n",
      "273 Here we identify a pathway for the regulation of cofilin, a ubiquitous actin-binding protein that is essential for effective depolymerization of actin filaments. Our results define a mechanism for the regulation of cofilin and hence of actin dynamics in vivo. Phosphorylation by LIM-kinase 1 inactivates cofilin, leading to accumulation of actin filaments. Regulation of actin dynamics through phosphorylation of cofilin by LIM-kinase. #\n",
      "Prev size: 66 Vs. Next size 58\n",
      "Prev size: 58 Vs. Next size 56\n"
     ]
    },
    {
     "name": "stderr",
     "output_type": "stream",
     "text": [
      "\r",
      " 38%|███████████████▉                          | 38/100 [00:36<00:59,  1.04it/s]"
     ]
    },
    {
     "name": "stdout",
     "output_type": "stream",
     "text": [
      "Prev size: 56 Vs. Next size 56\n",
      "396 Kinetic studies on the effect of yeast cofilin on yeast actin polymerization. The results suggest some cooperativity with respect to cofilin binding to filamentous actin which may be pH dependent. #\n",
      "Prev size: 32 Vs. Next size 27\n",
      "Prev size: 27 Vs. Next size 26\n"
     ]
    },
    {
     "name": "stderr",
     "output_type": "stream",
     "text": [
      "\r",
      " 39%|████████████████▍                         | 39/100 [00:37<00:52,  1.16it/s]"
     ]
    },
    {
     "name": "stdout",
     "output_type": "stream",
     "text": [
      "Prev size: 26 Vs. Next size 26\n",
      "459 Immediately after synthesis, E-cadherin, beta-catenin, and plakoglobin cosedimented as complexes. alpha-Catenin was not associated with these complexes after synthesis, but a subpopulation of alpha-catenin joined the complex at a time coincident with the arrival of E-cadherin at the plasma membrane. #\n"
     ]
    },
    {
     "name": "stderr",
     "output_type": "stream",
     "text": [
      "\r",
      " 40%|████████████████▊                         | 40/100 [00:38<00:46,  1.30it/s]"
     ]
    },
    {
     "name": "stdout",
     "output_type": "stream",
     "text": [
      "Prev size: 46 Vs. Next size 44\n",
      "Prev size: 44 Vs. Next size 44\n",
      "849 The class includes AsiA form bacteriophage T4, which inhibits Escherichia coli sigma 70; FlgM, present in both gram-positive and gram-negative bacteria, which inhibits the flagella sigma factor sigma 28; SpoIIAB, which inhibits the sporulation-specific sigma factor, sigma F and sigma G, of Bacillus subtilis; RbsW of B. subtilis, which inhibits stress response sigma factor sigma B; and DnaK, a general regulator of the heat shock response, which in bacteria inhibits the heat shock sigma factor sigma 32. #\n",
      "Prev size: 92 Vs. Next size 73\n",
      "Prev size: 73 Vs. Next size 65\n",
      "Prev size: 65 Vs. Next size 62\n"
     ]
    },
    {
     "name": "stderr",
     "output_type": "stream",
     "text": [
      "\r",
      " 41%|█████████████████▏                        | 41/100 [00:39<01:03,  1.07s/it]"
     ]
    },
    {
     "name": "stdout",
     "output_type": "stream",
     "text": [
      "Prev size: 62 Vs. Next size 62\n",
      "407 Production of PIP and PIP2 may be important downstream signals since these polyphosphoinositides are able to regulate the interaction of gelsolin and profilin with actin. #\n",
      "Prev size: 27 Vs. Next size 22\n"
     ]
    },
    {
     "name": "stderr",
     "output_type": "stream",
     "text": [
      "\r",
      " 42%|█████████████████▋                        | 42/100 [00:40<00:55,  1.05it/s]"
     ]
    },
    {
     "name": "stdout",
     "output_type": "stream",
     "text": [
      "Prev size: 22 Vs. Next size 21\n",
      "Prev size: 21 Vs. Next size 21\n",
      "53 Two cDNAs, isolated from a Xenopus laevis embryonic library, encode proteins of 168 amino acids, both of which are 77% identical to chick cofilin and 66% identical to chick actin-depolymerizing factor (ADF), two structurally and functionally related proteins. #\n",
      "Prev size: 44 Vs. Next size 37\n",
      "Prev size: 37 Vs. Next size 32\n",
      "Prev size: 32 Vs. Next size 32\n"
     ]
    },
    {
     "name": "stderr",
     "output_type": "stream",
     "text": [
      "\r",
      " 43%|██████████████████                        | 43/100 [00:41<00:51,  1.10it/s]"
     ]
    },
    {
     "name": "stdout",
     "output_type": "stream",
     "text": [
      "1056 The gibberellin-responsive elements conserved in cereal alpha-amylase genes are not included in the 5'-upstream region of Rep1 or RepA. #\n",
      "Prev size: 21 Vs. Next size 16\n",
      "Prev size: 16 Vs. Next size 15\n"
     ]
    },
    {
     "name": "stderr",
     "output_type": "stream",
     "text": [
      "\r",
      " 44%|██████████████████▍                       | 44/100 [00:41<00:45,  1.23it/s]"
     ]
    },
    {
     "name": "stdout",
     "output_type": "stream",
     "text": [
      "Prev size: 15 Vs. Next size 15\n",
      "477 Monoclonal antibodies recognizing the N- and C-terminal regions of talin disrupt actin stress fibers when microinjected into human fibroblasts. These results show that the C-terminal actin-binding site is distinct from the region recognized by the anti-functional antibody TD77, raising the possibility that it binds to a novel functionally important ligand-binding site in the talin molecule. To investigate the possibility that TD77 disrupts actin stress fibers by binding directly to the C-terminal actin binding site, additional talin fusion proteins were generated and analyzed for TD77 and actin binding. #\n",
      "Prev size: 91 Vs. Next size 76\n",
      "Prev size: 76 Vs. Next size 66\n",
      "Prev size: 66 Vs. Next size 65\n",
      "Prev size: 65 Vs. Next size 64\n"
     ]
    },
    {
     "name": "stderr",
     "output_type": "stream",
     "text": [
      "\r",
      " 45%|██████████████████▉                       | 45/100 [00:43<01:03,  1.15s/it]"
     ]
    },
    {
     "name": "stdout",
     "output_type": "stream",
     "text": [
      "Prev size: 64 Vs. Next size 64\n",
      "130 Finally, we used in vitro translated proteins in an immunoprecipitation assay to show that, like beta 1-syntrophin, both beta 2- and alpha 1-syntrophin interact with peptides encoding the syntrophin-binding region of dystrophin, utrophin/dystrophin related protein, and the Torpedo 87K protein. #\n",
      "Prev size: 47 Vs. Next size 39\n",
      "Prev size: 39 Vs. Next size 35\n"
     ]
    },
    {
     "name": "stderr",
     "output_type": "stream",
     "text": [
      "\r",
      " 46%|███████████████████▎                      | 46/100 [00:44<00:57,  1.06s/it]"
     ]
    },
    {
     "name": "stdout",
     "output_type": "stream",
     "text": [
      "Prev size: 35 Vs. Next size 35\n",
      "816 OBJECTIVE: To determine whether other glycoprotein 130 (gp130) binding cytokines can mimic the effects of oncostatin M (OSM) in acting synergistically with interleukin-1alpha (IL-1alpha) to induce cartilage collagen breakdown and collagenase expression, and to determine which receptors mediate these effects. #\n",
      "Prev size: 43 Vs. Next size 36\n",
      "Prev size: 36 Vs. Next size 32\n",
      "Prev size: 32 Vs. Next size 30\n"
     ]
    },
    {
     "name": "stderr",
     "output_type": "stream",
     "text": [
      "\r",
      " 47%|███████████████████▋                      | 47/100 [00:45<00:56,  1.07s/it]"
     ]
    },
    {
     "name": "stdout",
     "output_type": "stream",
     "text": [
      "Prev size: 30 Vs. Next size 30\n",
      "248 In this study we demonstrate that histone H3 and histone H4 synthesized in young (5 hr) conjugating Tetrahymena are deposited into micronuclei in acetylated forms. #\n",
      "Prev size: 27 Vs. Next size 24\n",
      "Prev size: 24 Vs. Next size 22\n"
     ]
    },
    {
     "name": "stderr",
     "output_type": "stream",
     "text": [
      "\r",
      " 48%|████████████████████▏                     | 48/100 [00:46<00:48,  1.07it/s]"
     ]
    },
    {
     "name": "stdout",
     "output_type": "stream",
     "text": [
      "Prev size: 22 Vs. Next size 22\n",
      "943 Insulin secretion is regulated by changes in blood glucose, as well as by peptides from the gastrointestinal tract and neurotransmitters that activate the pancreatic islet adenylyl cyclase (e.g., glucagon-like peptide-1) and phospholipase C (PLC) (e.g., acetylcholine) signaling pathways to further potentiate glucose-induced insulin secretion However, leptin did constrain the enhanced PLC-mediated insulin secretion characteristic of islets from ob/ob mice, without influencing release from islets of lean mice A specific enhancement in PLC-mediated insulin secretion is the earliest reported developmental alteration in insulin secretion from islets of ob/ob mice, and thus a logical target for leptin action This action of leptin on PLC-mediated insulin secretion was dose-dependent, rapid-onset (i.e., within 3 min), and reversible Leptin was equally effective in constraining the enhanced insulin release from islets of ob/ob mice caused by protein kinase C (PKC) activation, a downstream mediator of the PLC signal pathway One function of leptin in control of body composition is thus to target a PKC-regulated component of the PLC-PKC signaling system within islets to prevent hypersecretion of insulin. #\n",
      "Prev size: 183 Vs. Next size 150\n",
      "Prev size: 150 Vs. Next size 135\n",
      "Prev size: 135 Vs. Next size 130\n"
     ]
    },
    {
     "name": "stderr",
     "output_type": "stream",
     "text": [
      "\r",
      " 49%|████████████████████▌                     | 49/100 [00:49<01:13,  1.44s/it]"
     ]
    },
    {
     "name": "stdout",
     "output_type": "stream",
     "text": [
      "Prev size: 130 Vs. Next size 130\n",
      "553 Photochemical cleavage of myosin heavy chain and the effect on the interaction with actin. #\n"
     ]
    },
    {
     "name": "stderr",
     "output_type": "stream",
     "text": [
      "\r",
      " 50%|█████████████████████                     | 50/100 [00:49<00:58,  1.18s/it]"
     ]
    },
    {
     "name": "stdout",
     "output_type": "stream",
     "text": [
      "Prev size: 16 Vs. Next size 14\n",
      "Prev size: 14 Vs. Next size 13\n",
      "Prev size: 13 Vs. Next size 13\n",
      "594 Here we describe the TNF-dependent activation of acid SMase (A-SMase) through the p55 TNF receptor-associated proteins TRADD and FADD. TNF receptor death domain-associated proteins TRADD and FADD signal activation of acid sphingomyelinase. #\n",
      "Prev size: 34 Vs. Next size 22\n",
      "Prev size: 22 Vs. Next size 17\n",
      "Prev size: 17 Vs. Next size 15\n"
     ]
    },
    {
     "name": "stderr",
     "output_type": "stream",
     "text": [
      "\r",
      " 51%|█████████████████████▍                    | 51/100 [00:50<00:57,  1.17s/it]"
     ]
    },
    {
     "name": "stdout",
     "output_type": "stream",
     "text": [
      "Prev size: 15 Vs. Next size 14\n",
      "Prev size: 14 Vs. Next size 14\n",
      "217 Analysis of V3, a hamster equivalent of SCID, indicates that the protein level increases of RAD51 and RAD52 from G0 to G1/S/G2 do not require DNA-PK. In this study, cell cycle-dependent expression of human and rodent RAD51 and RAD52 proteins was monitored using two approaches. #\n",
      "Prev size: 50 Vs. Next size 44\n",
      "Prev size: 44 Vs. Next size 40\n",
      "Prev size: 40 Vs. Next size 40\n"
     ]
    },
    {
     "name": "stderr",
     "output_type": "stream",
     "text": [
      "\r",
      " 52%|█████████████████████▊                    | 52/100 [00:51<00:52,  1.09s/it]"
     ]
    },
    {
     "name": "stdout",
     "output_type": "stream",
     "text": [
      "692 Biochemical analyses revealed a strong induction of VEGF-receptor-2 (flk-1/KDR) tyrosine-autophosphorylation by VEGF which was maximal after 5 minutes and was followed by receptor downregulation. #\n",
      "Prev size: 26 Vs. Next size 22\n"
     ]
    },
    {
     "name": "stderr",
     "output_type": "stream",
     "text": [
      "\r",
      " 53%|██████████████████████▎                   | 53/100 [00:52<00:47,  1.00s/it]"
     ]
    },
    {
     "name": "stdout",
     "output_type": "stream",
     "text": [
      "Prev size: 22 Vs. Next size 21\n",
      "Prev size: 21 Vs. Next size 21\n",
      "275 DR3 signal transduction is mediated by a complex of intracellular signaling molecules including TRADD, TRAF2, FADD, and FLICE. #\n",
      "Prev size: 23 Vs. Next size 20\n",
      "Prev size: 20 Vs. Next size 18\n",
      "Prev size: 18 Vs. Next size 17\n"
     ]
    },
    {
     "name": "stderr",
     "output_type": "stream",
     "text": [
      "\r",
      " 54%|██████████████████████▋                   | 54/100 [00:53<00:43,  1.05it/s]"
     ]
    },
    {
     "name": "stdout",
     "output_type": "stream",
     "text": [
      "Prev size: 17 Vs. Next size 17\n",
      "19 Analyses of beta-catenin or E-cadherin immunoprecipitates from BMMC lysate revealed that alpha-catenin, beta-catenin, and E-cadherin were co-precipitated, suggesting that E-cadherin and catenins form a complex in mast cells. #\n",
      "Prev size: 33 Vs. Next size 27\n",
      "Prev size: 27 Vs. Next size 26\n"
     ]
    },
    {
     "name": "stderr",
     "output_type": "stream",
     "text": [
      "\r",
      " 55%|███████████████████████                   | 55/100 [00:53<00:39,  1.14it/s]"
     ]
    },
    {
     "name": "stdout",
     "output_type": "stream",
     "text": [
      "Prev size: 26 Vs. Next size 26\n",
      "198 We find that profilin and cofilin regulate actin-filament formation throughout the cell cortex. #\n"
     ]
    },
    {
     "name": "stderr",
     "output_type": "stream",
     "text": [
      "\r",
      " 56%|███████████████████████▌                  | 56/100 [00:54<00:31,  1.41it/s]"
     ]
    },
    {
     "name": "stdout",
     "output_type": "stream",
     "text": [
      "Prev size: 15 Vs. Next size 11\n",
      "Prev size: 11 Vs. Next size 11\n",
      "188 These data strongly suggest that the head, neck, and tail domains of all myosin heavy chains, and light chains at least of class II myosins, have coevolved and are likely to be functionally interdependent, consistent with biochemical evidence showing that regulated actin-dependent MgATPase activity of Dictyostelium myosin II requires isoform specific interactions between the heavy chain head and tail and light chains. #\n",
      "Prev size: 69 Vs. Next size 57\n",
      "Prev size: 57 Vs. Next size 51\n",
      "Prev size: 51 Vs. Next size 48\n",
      "Prev size: 48 Vs. Next size 48\n"
     ]
    },
    {
     "name": "stderr",
     "output_type": "stream",
     "text": [
      "\r",
      " 57%|███████████████████████▉                  | 57/100 [00:55<00:35,  1.22it/s]"
     ]
    },
    {
     "name": "stdout",
     "output_type": "stream",
     "text": [
      "29 The cellular transcription co-activators p300 and the CREB-binding protein CBP are cellular targets for transformation by the E1A proteins of non-oncogenic adenovirus 5 (Ad5). #\n",
      "Prev size: 26 Vs. Next size 20\n",
      "Prev size: 20 Vs. Next size 18\n"
     ]
    },
    {
     "name": "stderr",
     "output_type": "stream",
     "text": [
      "\r",
      " 58%|████████████████████████▎                 | 58/100 [00:55<00:31,  1.35it/s]"
     ]
    },
    {
     "name": "stdout",
     "output_type": "stream",
     "text": [
      "Prev size: 18 Vs. Next size 18\n",
      "190 Although binding patterns of different sera were not identical, almost all sera caused IgG binding to platelet components of 87-90 kD, 140 kD (identified as vinculin) and 220-240 kD (tentatively identified as talin and actin-binding protein). #\n",
      "Prev size: 40 Vs. Next size 35\n"
     ]
    },
    {
     "name": "stderr",
     "output_type": "stream",
     "text": [
      "\r",
      " 59%|████████████████████████▊                 | 59/100 [00:56<00:31,  1.29it/s]"
     ]
    },
    {
     "name": "stdout",
     "output_type": "stream",
     "text": [
      "Prev size: 35 Vs. Next size 33\n",
      "Prev size: 33 Vs. Next size 33\n",
      "1072 Association of the insulin receptor with phospholipase C-gamma (PLCgamma) in 3T3-L1 adipocytes suggests a role for PLCgamma in metabolic signaling by insulin To determine the functional significance of the interaction of PLCgamma and the IR, we used a specific inhibitor of PLC, U73122, or microinjection of SH2 domain glutathione S-transferase fusion proteins derived from PLCgamma to block insulin-stimulated GLUT4 translocation. #\n",
      "Prev size: 65 Vs. Next size 55\n",
      "Prev size: 55 Vs. Next size 52\n",
      "Prev size: 52 Vs. Next size 51\n"
     ]
    },
    {
     "name": "stderr",
     "output_type": "stream",
     "text": [
      "\r",
      " 60%|█████████████████████████▏                | 60/100 [00:58<00:40,  1.00s/it]"
     ]
    },
    {
     "name": "stdout",
     "output_type": "stream",
     "text": [
      "Prev size: 51 Vs. Next size 51\n",
      "734 The results clearly showed that the mutated cofilin possessing KTLKK instead of KKRKK did not translocate into the nuclei in response to heat shock whereas a recombinant cofilin with the unaltered sequence of KKRKK responded to heat shock and formed intranuclear rods together with actin. #\n",
      "Prev size: 47 Vs. Next size 40\n",
      "Prev size: 40 Vs. Next size 39\n"
     ]
    },
    {
     "name": "stderr",
     "output_type": "stream",
     "text": [
      "\r",
      " 61%|█████████████████████████▌                | 61/100 [00:59<00:39,  1.00s/it]"
     ]
    },
    {
     "name": "stdout",
     "output_type": "stream",
     "text": [
      "Prev size: 39 Vs. Next size 39\n",
      "496 Thus, actin was found in association with fimbrin in the mechanoreceptive region of hair cells, whereas supporting cells, although rich in actin, did not reveal fimbrin. #\n",
      "Prev size: 32 Vs. Next size 29\n",
      "Prev size: 29 Vs. Next size 29\n"
     ]
    },
    {
     "name": "stderr",
     "output_type": "stream",
     "text": [
      "\r",
      " 62%|██████████████████████████                | 62/100 [00:59<00:32,  1.17it/s]"
     ]
    },
    {
     "name": "stdout",
     "output_type": "stream",
     "text": [
      "739 Membranous staining and concomitant cytoplasmic localization of E-cadherin, alpha-catenin and gamma-catenin were seen in one case with abnormal beta-catenin immunoreactivity. #\n",
      "Prev size: 23 Vs. Next size 18\n",
      "Prev size: 18 Vs. Next size 16\n",
      "Prev size: 16 Vs. Next size 14\n"
     ]
    },
    {
     "name": "stderr",
     "output_type": "stream",
     "text": [
      "\r",
      " 63%|██████████████████████████▍               | 63/100 [01:00<00:32,  1.13it/s]"
     ]
    },
    {
     "name": "stdout",
     "output_type": "stream",
     "text": [
      "Prev size: 14 Vs. Next size 14\n",
      "844 Most cot genes, and the gerE gene, are transcribed by sigmaK RNA polymerase. Previously, it was shown that the GerE protein inhibits transcription in vitro of the sigK gene encoding sigmaK. These results demonstrate that sigmaK-dependent transcription of gerE initiates a negative feedback loop in which GerE acts as a repressor to limit production of sigmaK. A low level of GerE activated transcription of cotD by sigmaK RNA polymerase in vitro, but a higher level of GerE repressed cotD transcription. Here, we show that GerE binds near the sigK transcriptional start site, to act as a repressor. We show that GerE binds to two sites that span the -35 region of the cotD promoter. These results suggest that a rising level of GerE in sporulating cells may first activate cotD transcription from the upstream site then repress transcription as the downstream site becomes occupied. #\n",
      "Prev size: 152 Vs. Next size 133\n",
      "Prev size: 133 Vs. Next size 126\n",
      "Prev size: 126 Vs. Next size 125\n"
     ]
    },
    {
     "name": "stderr",
     "output_type": "stream",
     "text": [
      "\r",
      " 64%|██████████████████████████▉               | 64/100 [01:03<00:50,  1.41s/it]"
     ]
    },
    {
     "name": "stdout",
     "output_type": "stream",
     "text": [
      "Prev size: 125 Vs. Next size 125\n",
      "1088 Modification of de novo DNA methyltransferase 3a (Dnmt3a) by SUMO-1 modulates its interaction with histone deacetylases (HDACs) and its capacity to repress transcription. Here we show that Dnmt3a interacts with multiple components of the sumoylation machinery, namely the E2 sumo conjugating enzyme Ubc9 and the E3 sumo ligases PIAS1 and PIASxalpha, all of which are involved in conjugating the small ubiquitin-like modifier polypeptide, SUMO-1, to its target proteins. Dnmt3a is modified by SUMO-1 in vivo and in vitro and the region of Dnmt3a responsible for interaction maps to the N-terminal regulatory domain. Functionally, sumoylation of Dnmt3a disrupts its ability to interact with histone deacetylases (HDAC1/2), but not with another interaction partner, Dnmt3b. #\n",
      "Prev size: 121 Vs. Next size 107\n",
      "Prev size: 107 Vs. Next size 99\n",
      "Prev size: 99 Vs. Next size 95\n"
     ]
    },
    {
     "name": "stderr",
     "output_type": "stream",
     "text": [
      "\r",
      " 65%|███████████████████████████▎              | 65/100 [01:05<00:52,  1.51s/it]"
     ]
    },
    {
     "name": "stdout",
     "output_type": "stream",
     "text": [
      "Prev size: 95 Vs. Next size 95\n",
      "673 Evaluation of the binding of Acanthamoeba profilin to pyrene-labeled actin by fluorescence enhancement. #\n"
     ]
    },
    {
     "name": "stderr",
     "output_type": "stream",
     "text": [
      "\r",
      " 66%|███████████████████████████▋              | 66/100 [01:05<00:39,  1.15s/it]"
     ]
    },
    {
     "name": "stdout",
     "output_type": "stream",
     "text": [
      "Prev size: 15 Vs. Next size 12\n",
      "Prev size: 12 Vs. Next size 12\n",
      "170 Requirement of yeast fimbrin for actin organization and morphogenesis in vivo. #\n"
     ]
    },
    {
     "name": "stderr",
     "output_type": "stream",
     "text": [
      "\r",
      " 67%|████████████████████████████▏             | 67/100 [01:05<00:29,  1.11it/s]"
     ]
    },
    {
     "name": "stdout",
     "output_type": "stream",
     "text": [
      "Prev size: 13 Vs. Next size 11\n",
      "Prev size: 11 Vs. Next size 9\n",
      "Prev size: 9 Vs. Next size 9\n",
      "598 There are only 14 non-conservative substitutions in the two myosin heavy chains, three of which are located in the secondary actin-binding loop and flanking regions and others correspond to residues so far not assigned a functional role, including two residues in the proximal S2 domain. #\n",
      "Prev size: 49 Vs. Next size 40\n",
      "Prev size: 40 Vs. Next size 37\n",
      "Prev size: 37 Vs. Next size 36\n"
     ]
    },
    {
     "name": "stderr",
     "output_type": "stream",
     "text": [
      "\r",
      " 68%|████████████████████████████▌             | 68/100 [01:06<00:31,  1.01it/s]"
     ]
    },
    {
     "name": "stdout",
     "output_type": "stream",
     "text": [
      "Prev size: 36 Vs. Next size 36\n",
      "72 ORC1, ORC4 and Cdc6 were stable (T1/2 &gt;2 h) and associated with a chromatin-containing fraction throughout the cell cycle. Green fluorescent protein-tagged ORC1 associated with chromatin throughout mitosis in living cells and co-localized with ORC4 in metaphase spreads. #\n",
      "Prev size: 42 Vs. Next size 34\n",
      "Prev size: 34 Vs. Next size 33\n",
      "Prev size: 33 Vs. Next size 32\n",
      "Prev size: 32 Vs. Next size 31\n"
     ]
    },
    {
     "name": "stderr",
     "output_type": "stream",
     "text": [
      "\r",
      " 69%|████████████████████████████▉             | 69/100 [01:08<00:33,  1.09s/it]"
     ]
    },
    {
     "name": "stdout",
     "output_type": "stream",
     "text": [
      "Prev size: 31 Vs. Next size 31\n",
      "937 Oxytocin-treated male rats had increased circulating levels of cholecystokinin, a tendency to increased plasma levels of insulin (p = 0.066), and relatively more adipose tissue in the thigh and interscapular region, compared with controls. #\n",
      "Prev size: 39 Vs. Next size 33\n",
      "Prev size: 33 Vs. Next size 27\n"
     ]
    },
    {
     "name": "stderr",
     "output_type": "stream",
     "text": [
      "\r",
      " 70%|█████████████████████████████▍            | 70/100 [01:09<00:31,  1.06s/it]"
     ]
    },
    {
     "name": "stdout",
     "output_type": "stream",
     "text": [
      "Prev size: 27 Vs. Next size 26\n",
      "Prev size: 26 Vs. Next size 26\n",
      "160 The interaction of a mouse monoclonal antibody (4A6) and birch profilin, a structurally well conserved actin- and phosphoinositide-binding protein and cross-reactive allergen, was characterized. #\n",
      "Prev size: 28 Vs. Next size 22\n",
      "Prev size: 22 Vs. Next size 20\n",
      "Prev size: 20 Vs. Next size 18\n",
      "Prev size: 18 Vs. Next size 15\n"
     ]
    },
    {
     "name": "stderr",
     "output_type": "stream",
     "text": [
      "\r",
      " 71%|█████████████████████████████▊            | 71/100 [01:10<00:29,  1.03s/it]"
     ]
    },
    {
     "name": "stdout",
     "output_type": "stream",
     "text": [
      "Prev size: 15 Vs. Next size 15\n",
      "543 Microinjection or stable expression of V12Ras into keratinocytes promotes the loss of E-cadherin and alpha-catenin and relocalization of beta-catenin to the cytoplasm and nucleus. #\n",
      "Prev size: 26 Vs. Next size 21\n",
      "Prev size: 21 Vs. Next size 17\n"
     ]
    },
    {
     "name": "stderr",
     "output_type": "stream",
     "text": [
      "\r",
      " 72%|██████████████████████████████▏           | 72/100 [01:10<00:26,  1.06it/s]"
     ]
    },
    {
     "name": "stdout",
     "output_type": "stream",
     "text": [
      "Prev size: 17 Vs. Next size 17\n",
      "1017 A barley gene encoding a novel DNA-binding protein (HRT) was identified by southwestern screening with baits containing a gibberellin phytohormone response element from an alpha-amylase promoter. #\n",
      "Prev size: 28 Vs. Next size 22\n",
      "Prev size: 22 Vs. Next size 20\n"
     ]
    },
    {
     "name": "stderr",
     "output_type": "stream",
     "text": [
      "\r",
      " 73%|██████████████████████████████▋           | 73/100 [01:11<00:25,  1.06it/s]"
     ]
    },
    {
     "name": "stdout",
     "output_type": "stream",
     "text": [
      "Prev size: 20 Vs. Next size 19\n",
      "Prev size: 19 Vs. Next size 19\n",
      "1069 In the fasting state UCP-2 expression correlated inversely with body mass index (r = -0.45; P = 0.026), percent body fat (r = -0.41; P = 0.05), plasma insulin (r = -0.47; P = 0.02), epigastric venous fatty acids (r = -0.45; P = 0.04), and leptin (r = -0.50; P = 0.018) UCP-2 expression remained inversely related with plasma leptin after controlling for percent body (r = -0.45; P = 0.038) In conclusion, 1) UCP-2 messenger ribonucleic acid expression in sc adipose tissue is inversely related to adiposity and independently linked to local plasma leptin levels; and 2) UCP-2 expression is not acutely regulated by food intake, insulin, or fatty acids. #\n",
      "Prev size: 128 Vs. Next size 108\n",
      "Prev size: 108 Vs. Next size 99\n",
      "Prev size: 99 Vs. Next size 97\n",
      "Prev size: 97 Vs. Next size 96\n"
     ]
    },
    {
     "name": "stderr",
     "output_type": "stream",
     "text": [
      "\r",
      " 74%|███████████████████████████████           | 74/100 [01:14<00:37,  1.43s/it]"
     ]
    },
    {
     "name": "stdout",
     "output_type": "stream",
     "text": [
      "Prev size: 96 Vs. Next size 96\n",
      "977 Oxytocin central injections to intact animals stimulated insulin synthesis and secretion without changing of islets area Thus, oxytocin administration stimulates insulin synthesis and secretion in intact and diabetic animals and this effect is more expressed with central injections. #\n",
      "Prev size: 41 Vs. Next size 33\n",
      "Prev size: 33 Vs. Next size 28\n"
     ]
    },
    {
     "name": "stderr",
     "output_type": "stream",
     "text": [
      "\r",
      " 75%|███████████████████████████████▌          | 75/100 [01:15<00:31,  1.25s/it]"
     ]
    },
    {
     "name": "stdout",
     "output_type": "stream",
     "text": [
      "Prev size: 28 Vs. Next size 28\n",
      "436 To determine the phenotypes of smooth muscle cells (SMCs) in such lesions, the authors conducted an immunohistochemical analysis of lung tissues from two patients with PPH, using two antimuscle actin antibodies, HHF35 and CGA7, and two anti-SMC myosin heavy chain markers, anti-SM1 and anti-SM2 antibodies and related antibodies. #\n",
      "Prev size: 55 Vs. Next size 43\n",
      "Prev size: 43 Vs. Next size 38\n",
      "Prev size: 38 Vs. Next size 35\n"
     ]
    },
    {
     "name": "stderr",
     "output_type": "stream",
     "text": [
      "\r",
      " 76%|███████████████████████████████▉          | 76/100 [01:16<00:30,  1.26s/it]"
     ]
    },
    {
     "name": "stdout",
     "output_type": "stream",
     "text": [
      "Prev size: 35 Vs. Next size 35\n",
      "945 SP ewes also had greater incorporation of [3H]inositol into inositol trisphosphate (IP3) (+3449%, p less than 0.01) and total inositol phosphate (IP) (+760%, p less than 0.08), in response to oxytocin, than did oCSP ewes (+553 and +168% for IP3 and total IP, respectively) in endometrium collected at ovariectomy/hysterectomy on Day 16 These results indicate that oTP-1 may prevent luteolysis by inhibiting development of endometrial responsiveness to oxytocin and, therefore, reduce oxytocin-induced synthesis of IP3 and PGF2 alpha. #\n",
      "Prev size: 87 Vs. Next size 73\n",
      "Prev size: 73 Vs. Next size 67\n",
      "Prev size: 67 Vs. Next size 66\n"
     ]
    },
    {
     "name": "stderr",
     "output_type": "stream",
     "text": [
      "\r",
      " 77%|████████████████████████████████▎         | 77/100 [01:18<00:32,  1.40s/it]"
     ]
    },
    {
     "name": "stdout",
     "output_type": "stream",
     "text": [
      "Prev size: 66 Vs. Next size 66\n",
      "277 Interestingly, the regions that show the most structural diversity are located at or near the actin-binding site of profilin. #\n",
      "Prev size: 22 Vs. Next size 20\n",
      "Prev size: 20 Vs. Next size 19\n"
     ]
    },
    {
     "name": "stderr",
     "output_type": "stream",
     "text": [
      "\r",
      " 78%|████████████████████████████████▊         | 78/100 [01:19<00:26,  1.19s/it]"
     ]
    },
    {
     "name": "stdout",
     "output_type": "stream",
     "text": [
      "Prev size: 19 Vs. Next size 19\n",
      "637 Birch pollen profilin and actin can be copurified as a complex, and purified recombinant birch profilin can be used as an affinity matrix to obtain birch pollen actin. In this study, profilin is identified as an actin-binding protein in higher plants which is present in monocot and dicot angiosperms. The binding of 125I-labeled recombinant birch pollen profilin to plant and animal actins can be blocked by profilin-specific antibodies that react with different epitopes of birch profilin. #\n",
      "Prev size: 80 Vs. Next size 63\n",
      "Prev size: 63 Vs. Next size 57\n",
      "Prev size: 57 Vs. Next size 55\n"
     ]
    },
    {
     "name": "stderr",
     "output_type": "stream",
     "text": [
      "\r",
      " 79%|█████████████████████████████████▏        | 79/100 [01:20<00:26,  1.28s/it]"
     ]
    },
    {
     "name": "stdout",
     "output_type": "stream",
     "text": [
      "Prev size: 55 Vs. Next size 55\n",
      "366 The sites on the myosin heavy chain that interact with actin and are responsible for force generation are ill-defined: crosslinking and experiments with isolated domains of the myosin head implicate regions in both the 50K and 20K (molecular weights in thousands) domains of the myosin head (subfragment 1, S1) in this process. #\n",
      "Prev size: 55 Vs. Next size 44\n",
      "Prev size: 44 Vs. Next size 39\n"
     ]
    },
    {
     "name": "stderr",
     "output_type": "stream",
     "text": [
      "\r",
      " 80%|█████████████████████████████████▌        | 80/100 [01:21<00:22,  1.13s/it]"
     ]
    },
    {
     "name": "stdout",
     "output_type": "stream",
     "text": [
      "Prev size: 39 Vs. Next size 39\n",
      "854 The rocG gene of Bacillus subtilis, encoding a catabolic glutamate dehydrogenase, is transcribed by SigL-containing RNA polymerase and requires for its expression RocR, a member of the NtrC/NifA family of proteins that bind to enhancer-like elements, called upstream activating sequences (UAS). Unlike the case for other sigma(54)-dependent genes, rocG has no UAS; instead, its expression depends on a sequence located 1.5 kilobases downstream of the rocG promoter, beyond the end of the rocG coding region. #\n",
      "Prev size: 85 Vs. Next size 74\n",
      "Prev size: 74 Vs. Next size 69\n",
      "Prev size: 69 Vs. Next size 68\n",
      "Prev size: 68 Vs. Next size 67\n"
     ]
    },
    {
     "name": "stderr",
     "output_type": "stream",
     "text": [
      "\r",
      " 81%|██████████████████████████████████        | 81/100 [01:23<00:26,  1.41s/it]"
     ]
    },
    {
     "name": "stdout",
     "output_type": "stream",
     "text": [
      "Prev size: 67 Vs. Next size 67\n",
      "577 Here we demonstrate that growth arrest and differentiation of NT2/D1 cells induced by HMBA involve increased expression of the cyclin-dependent kinase inhibitor p27, enhanced association of p27 with cyclin E/CDK2 complexes and suppression of kinase activity associated to cyclin E/CDK2 (but not to cyclin D3/CDK4). #\n",
      "Prev size: 48 Vs. Next size 36\n",
      "Prev size: 36 Vs. Next size 34\n"
     ]
    },
    {
     "name": "stderr",
     "output_type": "stream",
     "text": [
      "\r",
      " 82%|██████████████████████████████████▍       | 82/100 [01:24<00:24,  1.34s/it]"
     ]
    },
    {
     "name": "stdout",
     "output_type": "stream",
     "text": [
      "Prev size: 34 Vs. Next size 34\n",
      "42 A distinct modulating domain in glucocorticoid receptor monomers in the repression of activity of the transcription factor AP-1. #\n",
      "Prev size: 20 Vs. Next size 17\n",
      "Prev size: 17 Vs. Next size 14\n"
     ]
    },
    {
     "name": "stderr",
     "output_type": "stream",
     "text": [
      "\r",
      " 83%|██████████████████████████████████▊       | 83/100 [01:25<00:19,  1.12s/it]"
     ]
    },
    {
     "name": "stdout",
     "output_type": "stream",
     "text": [
      "Prev size: 14 Vs. Next size 14\n",
      "222 A null mutation of the actin gene (ACT1) is lethal, but null mutations in the tropomyosin (TPM1), fimbrin (SAC6), Abp1p (ABP1), and capping protein (CAP1 and CAP2) genes have relatively mild or no effects. #\n",
      "Prev size: 40 Vs. Next size 31\n",
      "Prev size: 31 Vs. Next size 29\n",
      "Prev size: 29 Vs. Next size 28\n"
     ]
    },
    {
     "name": "stderr",
     "output_type": "stream",
     "text": [
      "\r",
      " 84%|███████████████████████████████████▎      | 84/100 [01:27<00:21,  1.35s/it]"
     ]
    },
    {
     "name": "stdout",
     "output_type": "stream",
     "text": [
      "Prev size: 28 Vs. Next size 28\n",
      "118 Arp2/3 complex from Acanthamoeba binds profilin and cross-links actin filaments. By analytical ultracentrifugation, rhodamine-labeled profilin binds Arp2/3 complex with a Kd of 7 microM, an affinity intermediate between the low affinity of profilin for barbed ends of actin filaments and its high affinity for actin monomers. Here we show that the Arp2 subunit of the complex can be chemically cross-linked to the actin-binding site of profilin. #\n",
      "Prev size: 70 Vs. Next size 58\n",
      "Prev size: 58 Vs. Next size 56\n",
      "Prev size: 56 Vs. Next size 55\n"
     ]
    },
    {
     "name": "stderr",
     "output_type": "stream",
     "text": [
      "\r",
      " 85%|███████████████████████████████████▋      | 85/100 [01:29<00:25,  1.71s/it]"
     ]
    },
    {
     "name": "stdout",
     "output_type": "stream",
     "text": [
      "Prev size: 55 Vs. Next size 55\n",
      "749 Analysis of the formation of the calf spleen complex in the presence of varying concentrations of divalent cations gave evidence for the presence of a high-affinity divalent-cation-binding site on the spleen actin (beta, gamma) which appears to regulate the interaction with profilin. The interaction between calf spleen profilin and actin depends critically on the status of the C-terminus of the actin, and in the case of profilin, the C-terminus is of great importance for the physiochemical behaviour of the protein. #\n",
      "Prev size: 85 Vs. Next size 75\n",
      "Prev size: 75 Vs. Next size 71\n"
     ]
    },
    {
     "name": "stderr",
     "output_type": "stream",
     "text": [
      "\r",
      " 86%|████████████████████████████████████      | 86/100 [01:31<00:24,  1.78s/it]"
     ]
    },
    {
     "name": "stdout",
     "output_type": "stream",
     "text": [
      "Prev size: 71 Vs. Next size 71\n",
      "262 Coprecipitations revealed that transfected cadherin molecules are complexed with alpha-catenin and beta-catenin at plasma membranes. #\n",
      "Prev size: 17 Vs. Next size 13\n",
      "Prev size: 13 Vs. Next size 12\n"
     ]
    },
    {
     "name": "stderr",
     "output_type": "stream",
     "text": [
      "\r",
      " 87%|████████████████████████████████████▌     | 87/100 [01:32<00:19,  1.48s/it]"
     ]
    },
    {
     "name": "stdout",
     "output_type": "stream",
     "text": [
      "Prev size: 12 Vs. Next size 12\n",
      "351 In this actin clustering, profilin, a monomeric actin-binding protein that has been suggested to be involved in actin polymerization, was shown to be essential. #\n",
      "Prev size: 29 Vs. Next size 26\n",
      "Prev size: 26 Vs. Next size 25\n"
     ]
    },
    {
     "name": "stderr",
     "output_type": "stream",
     "text": [
      "\r",
      " 88%|████████████████████████████████████▉     | 88/100 [01:33<00:15,  1.30s/it]"
     ]
    },
    {
     "name": "stdout",
     "output_type": "stream",
     "text": [
      "Prev size: 25 Vs. Next size 25\n",
      "378 Discrete segments (70-150 amino acids) of PRT1 and TIF35 were found to be responsible for their binding to TIF34. The PRT1, TIF34, GCD10, and SUI1 proteins of Saccharomyces cerevisiae were found previously to copurify with eukaryotic translation initiation factor 3 (eIF3) activity. #\n",
      "Prev size: 47 Vs. Next size 38\n",
      "Prev size: 38 Vs. Next size 36\n",
      "Prev size: 36 Vs. Next size 34\n",
      "Prev size: 34 Vs. Next size 33\n"
     ]
    },
    {
     "name": "stderr",
     "output_type": "stream",
     "text": [
      "\r",
      " 89%|█████████████████████████████████████▍    | 89/100 [01:35<00:16,  1.48s/it]"
     ]
    },
    {
     "name": "stdout",
     "output_type": "stream",
     "text": [
      "Prev size: 33 Vs. Next size 33\n",
      "671 We have characterized this actin with respect to its ability to interact with yeast profilin and tropomyosin, the only yeast actin-binding proteins so far purified and characterized. Yeast profilin can sequester yeast actin monomers and thereby reduce the ability of yeast actin to polymerize, whereas it has little effect on the degree of polymerization of rabbit skeletal muscle actin. #\n",
      "Prev size: 63 Vs. Next size 55\n",
      "Prev size: 55 Vs. Next size 49\n",
      "Prev size: 49 Vs. Next size 48\n"
     ]
    },
    {
     "name": "stderr",
     "output_type": "stream",
     "text": [
      "\r",
      " 90%|█████████████████████████████████████▊    | 90/100 [01:36<00:15,  1.53s/it]"
     ]
    },
    {
     "name": "stdout",
     "output_type": "stream",
     "text": [
      "Prev size: 48 Vs. Next size 48\n",
      "133 Direct binding of the verprolin-homology domain in N-WASP to actin is essential for cytoskeletal reorganization. Recently, two mammalian proteins previously shown to regulate the actin cytoskeleton, Wiskott-Aldrich Syndrome Protein (WASP) and its homolog expressed in neurons (N-WASP), were found to possess short peptide motifs homologous to one part of verprolin. #\n",
      "Prev size: 55 Vs. Next size 46\n",
      "Prev size: 46 Vs. Next size 45\n"
     ]
    },
    {
     "name": "stderr",
     "output_type": "stream",
     "text": [
      "\r",
      " 91%|██████████████████████████████████████▏   | 91/100 [01:38<00:14,  1.56s/it]"
     ]
    },
    {
     "name": "stdout",
     "output_type": "stream",
     "text": [
      "Prev size: 45 Vs. Next size 45\n",
      "1033 Tolbutamide and diazoxide modulate phospholipase C-linked Ca(2+) signaling and insulin secretion in beta-cells We examined whether tolbutamide and diazoxide, which close or open ATP-sensitive K(+) channels (K(ATP) channels), respectively, interact with PLC-linked Ca(2+) signals in HIT-T15 and mouse beta-cells and with PLC-linked insulin secretion from HIT-T15 cells Thus tolbutamide and diazoxide regulate both PLC-linked Ca(2+) signaling and insulin secretion from pancreatic beta-cells by modulating K(ATP) channels, thereby determining voltage-sensitive Ca(2+) influx. #\n",
      "Prev size: 77 Vs. Next size 56\n",
      "Prev size: 56 Vs. Next size 46\n",
      "Prev size: 46 Vs. Next size 40\n",
      "Prev size: 40 Vs. Next size 38\n"
     ]
    },
    {
     "name": "stderr",
     "output_type": "stream",
     "text": [
      "\r",
      " 92%|██████████████████████████████████████▋   | 92/100 [01:41<00:16,  2.09s/it]"
     ]
    },
    {
     "name": "stdout",
     "output_type": "stream",
     "text": [
      "Prev size: 38 Vs. Next size 38\n",
      "745 Genetic analysis suggested that this phenotype was due to msh6-F337A sequestering MSH2 and preventing it from interacting with MSH3 and MSH6. #\n",
      "Prev size: 23 Vs. Next size 19\n",
      "Prev size: 19 Vs. Next size 18\n"
     ]
    },
    {
     "name": "stderr",
     "output_type": "stream",
     "text": [
      "\r",
      " 93%|███████████████████████████████████████   | 93/100 [01:42<00:12,  1.73s/it]"
     ]
    },
    {
     "name": "stdout",
     "output_type": "stream",
     "text": [
      "Prev size: 18 Vs. Next size 18\n",
      "78 Integrating the actin and vimentin cytoskeletons. #\n"
     ]
    },
    {
     "name": "stderr",
     "output_type": "stream",
     "text": [
      "\r",
      " 94%|███████████████████████████████████████▍  | 94/100 [01:42<00:07,  1.32s/it]"
     ]
    },
    {
     "name": "stdout",
     "output_type": "stream",
     "text": [
      "Prev size: 8 Vs. Next size 6\n",
      "Prev size: 6 Vs. Next size 5\n",
      "Prev size: 5 Vs. Next size 5\n",
      "716 Our results showed that cell morphology, cell adhesion pattern, actin organization, and distribution of integrin subunits, talin, vinculin, and phosphotyrosine-containing proteins are dependent on the supramolecular organization of the collagens. #\n",
      "Prev size: 38 Vs. Next size 32\n",
      "Prev size: 32 Vs. Next size 31\n"
     ]
    },
    {
     "name": "stderr",
     "output_type": "stream",
     "text": [
      "\r",
      " 95%|███████████████████████████████████████▉  | 95/100 [01:43<00:05,  1.17s/it]"
     ]
    },
    {
     "name": "stdout",
     "output_type": "stream",
     "text": [
      "Prev size: 31 Vs. Next size 31\n",
      "347 Characterization of the interactions of alpha-catenin with alpha-actinin and beta-catenin/plakoglobin. In this study we have used the yeast two-hybrid system to map the domains on alpha-catenin that allow it to associate with beta-catenin/plakoglobin and with alpha-actinin. beta-catenin or plakoglobin is associated directly with the cadherin; alpha-catenin binds to beta-catenin/plakoglobin and serves to link the cadherin/catenin complex to the actin cytoskeleton. #\n",
      "Prev size: 63 Vs. Next size 57\n",
      "Prev size: 57 Vs. Next size 54\n"
     ]
    },
    {
     "name": "stderr",
     "output_type": "stream",
     "text": [
      "\r",
      " 96%|████████████████████████████████████████▎ | 96/100 [01:44<00:04,  1.12s/it]"
     ]
    },
    {
     "name": "stdout",
     "output_type": "stream",
     "text": [
      "Prev size: 54 Vs. Next size 54\n",
      "497 Two isoforms of nonmuscle myosin heavy chain IIB (MHC-IIB) are generated by alternative splicing; MHC-IIB(B2) differs from MHC-IIB(DeltaB2) by the insertion of B2 exon cassette near the actin binding region. #\n",
      "Prev size: 33 Vs. Next size 27\n",
      "Prev size: 27 Vs. Next size 24\n"
     ]
    },
    {
     "name": "stderr",
     "output_type": "stream",
     "text": [
      "\r",
      " 97%|████████████████████████████████████████▋ | 97/100 [01:45<00:03,  1.01s/it]"
     ]
    },
    {
     "name": "stdout",
     "output_type": "stream",
     "text": [
      "Prev size: 24 Vs. Next size 23\n",
      "Prev size: 23 Vs. Next size 23\n",
      "847 During endospore formation in Bacillus subtilis, the DNA binding protein GerE stimulates transcription from several promoters that are used by RNA polymerase containing sigmaK GerE binds to a site on one of these promoters, cotX, that overlaps its -35 region. #\n",
      "Prev size: 45 Vs. Next size 38\n",
      "Prev size: 38 Vs. Next size 36\n",
      "Prev size: 36 Vs. Next size 35\n"
     ]
    },
    {
     "name": "stderr",
     "output_type": "stream",
     "text": [
      "\r",
      " 98%|█████████████████████████████████████████▏| 98/100 [01:46<00:02,  1.01s/it]"
     ]
    },
    {
     "name": "stdout",
     "output_type": "stream",
     "text": [
      "Prev size: 35 Vs. Next size 35\n",
      "323 Although neither activation of BCK1 (MEKK) by the dominant BCK1-20 mutation nor increased dosage of MKK1 (MEK) or MPK1 (MAP kinase) mimicked PKC1 as a glc7-10 dosage suppressor, extra copies of genes encoding upstream components of the Pkc1p pathway such as ROM2, RHO2, HCS77/WSC1/SLG1 and MID2 also suppressed glc7-10 effectively. #\n",
      "Prev size: 55 Vs. Next size 44\n",
      "Prev size: 44 Vs. Next size 39\n",
      "Prev size: 39 Vs. Next size 35\n"
     ]
    },
    {
     "name": "stderr",
     "output_type": "stream",
     "text": [
      "\r",
      " 99%|█████████████████████████████████████████▌| 99/100 [01:48<00:01,  1.15s/it]"
     ]
    },
    {
     "name": "stdout",
     "output_type": "stream",
     "text": [
      "Prev size: 35 Vs. Next size 35\n",
      "950 Analyses of hormone regulation of expression of mRNA for the aleurone RNase revealed that, like the pattern for alpha-amylase, mRNA levels increased in the presence of gibberellic acid, and its antagonist abscisic acid prevented this effect Quantitative studies at early times demonstrated that cycloheximide treatment of aleurone layers increased mRNA levels 4-fold, whereas a combination of gibberellin plus cycloheximide treatment was required to increase alpha-amylase mRNA levels to the same extent. #\n",
      "Prev size: 77 Vs. Next size 63\n",
      "Prev size: 63 Vs. Next size 60\n",
      "Prev size: 60 Vs. Next size 59\n"
     ]
    },
    {
     "name": "stderr",
     "output_type": "stream",
     "text": [
      "100%|█████████████████████████████████████████| 100/100 [01:49<00:00,  1.10s/it]"
     ]
    },
    {
     "name": "stdout",
     "output_type": "stream",
     "text": [
      "Prev size: 59 Vs. Next size 59\n",
      "CPU times: user 13min 6s, sys: 2min 43s, total: 15min 49s\n",
      "Wall time: 1min 49s\n"
     ]
    },
    {
     "name": "stderr",
     "output_type": "stream",
     "text": [
      "\n"
     ]
    }
   ],
   "source": [
    "%%time\n",
    "# Those sentences that have 'relationship' as indicated in original data set\n",
    "\n",
    "directory = '/Volumes/GoogleDrive/My Drive/_My Data Analytics Exercise/Exercise/Biopython/CE/graph/'\n",
    "from tqdm import tqdm\n",
    "from random import sample\n",
    "tokens_lst = dict()\n",
    "index = sample(sorted(with_interactions.index),100)\n",
    "special_attention = []\n",
    "for i in tqdm(index):\n",
    "    ids = with_interactions.loc[i, 'interactionId']\n",
    "    sent = bmt.cleanSentencefmDF(with_interactions.loc[i, 'sentence'])\n",
    "    print (i, sent)\n",
    "    ents = with_interactions.loc[i, 'entities']\n",
    "    doc = bmt.dynamicTokenizer(pretokenized_nlp, sent) # retokenize sentence to group chunks into single meaningful biomedical entity\n",
    "    entities = bmt.extractEntities(bmt.extractEntitiesfmDF(ents))\n",
    "    #print ('Number of unique entity:', len(entities), entities)\n",
    "    H = bmt.createTokenGraphwithContraction(doc) # create an undirected graph connecting various tokens\n",
    "    filename = directory+ids+\".gpickle\"\n",
    "    nx.write_gpickle(H, filename)\n",
    "    tokens = bmt.extractTokensOfInterestfmGraph(H, entities, threshold=0.8)\n",
    "    #print ('Number of Tokens:', len(tokens), tokens)\n",
    "    tokens_lst[ids] = tokens"
   ]
  },
  {
   "cell_type": "code",
   "execution_count": null,
   "id": "10cde154",
   "metadata": {},
   "outputs": [],
   "source": []
  }
 ],
 "metadata": {
  "kernelspec": {
   "display_name": "Python 3 (ipykernel)",
   "language": "python",
   "name": "python3"
  },
  "language_info": {
   "codemirror_mode": {
    "name": "ipython",
    "version": 3
   },
   "file_extension": ".py",
   "mimetype": "text/x-python",
   "name": "python",
   "nbconvert_exporter": "python",
   "pygments_lexer": "ipython3",
   "version": "3.9.7"
  }
 },
 "nbformat": 4,
 "nbformat_minor": 5
}
