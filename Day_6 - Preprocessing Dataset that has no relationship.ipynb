{
 "cells": [
  {
   "cell_type": "code",
   "execution_count": 1,
   "id": "92752cbb",
   "metadata": {},
   "outputs": [
    {
     "name": "stderr",
     "output_type": "stream",
     "text": [
      "2022-02-05 11:49:31 INFO: Loading these models for language: en (English):\n",
      "==========================\n",
      "| Processor | Package    |\n",
      "--------------------------\n",
      "| tokenize  | craft      |\n",
      "| pos       | craft      |\n",
      "| lemma     | craft      |\n",
      "| depparse  | craft      |\n",
      "| ner       | bionlp13cg |\n",
      "==========================\n",
      "\n",
      "2022-02-05 11:49:31 INFO: Use device: cpu\n",
      "2022-02-05 11:49:31 INFO: Loading: tokenize\n",
      "2022-02-05 11:49:31 INFO: Loading: pos\n",
      "2022-02-05 11:49:31 INFO: Loading: lemma\n",
      "2022-02-05 11:49:31 INFO: Loading: depparse\n",
      "2022-02-05 11:49:31 INFO: Loading: ner\n",
      "2022-02-05 11:49:31 INFO: Done loading processors!\n",
      "2022-02-05 11:49:31 INFO: Loading these models for language: en (English):\n",
      "=======================\n",
      "| Processor | Package |\n",
      "-----------------------\n",
      "| tokenize  | craft   |\n",
      "| pos       | craft   |\n",
      "| lemma     | craft   |\n",
      "| depparse  | craft   |\n",
      "=======================\n",
      "\n",
      "2022-02-05 11:49:31 INFO: Use device: cpu\n",
      "2022-02-05 11:49:31 INFO: Loading: tokenize\n",
      "2022-02-05 11:49:31 INFO: Loading: pos\n",
      "2022-02-05 11:49:31 INFO: Loading: lemma\n",
      "2022-02-05 11:49:31 INFO: Loading: depparse\n",
      "2022-02-05 11:49:32 INFO: Done loading processors!\n"
     ]
    }
   ],
   "source": [
    "import BMTextTokenizer as bmt\n",
    "import pandas as pd\n",
    "import networkx as nx\n",
    "import time\n",
    "import matplotlib.pyplot as plt\n",
    "import stanza\n",
    "from itertools import permutations\n",
    "%matplotlib inline"
   ]
  },
  {
   "cell_type": "code",
   "execution_count": 2,
   "id": "7fbaee30",
   "metadata": {},
   "outputs": [
    {
     "name": "stderr",
     "output_type": "stream",
     "text": [
      "2022-02-05 11:49:34 INFO: Loading these models for language: en (English):\n",
      "==========================\n",
      "| Processor | Package    |\n",
      "--------------------------\n",
      "| tokenize  | craft      |\n",
      "| pos       | craft      |\n",
      "| lemma     | craft      |\n",
      "| depparse  | craft      |\n",
      "| ner       | bionlp13cg |\n",
      "==========================\n",
      "\n",
      "2022-02-05 11:49:34 INFO: Use device: cpu\n",
      "2022-02-05 11:49:34 INFO: Loading: tokenize\n",
      "2022-02-05 11:49:34 INFO: Loading: pos\n",
      "2022-02-05 11:49:34 INFO: Loading: lemma\n",
      "2022-02-05 11:49:34 INFO: Loading: depparse\n",
      "2022-02-05 11:49:34 INFO: Loading: ner\n",
      "2022-02-05 11:49:35 INFO: Done loading processors!\n",
      "2022-02-05 11:49:35 INFO: Loading these models for language: en (English):\n",
      "=======================\n",
      "| Processor | Package |\n",
      "-----------------------\n",
      "| tokenize  | craft   |\n",
      "| pos       | craft   |\n",
      "| lemma     | craft   |\n",
      "| depparse  | craft   |\n",
      "=======================\n",
      "\n",
      "2022-02-05 11:49:35 INFO: Use device: cpu\n",
      "2022-02-05 11:49:35 INFO: Loading: tokenize\n",
      "2022-02-05 11:49:35 INFO: Loading: pos\n",
      "2022-02-05 11:49:35 INFO: Loading: lemma\n",
      "2022-02-05 11:49:35 INFO: Loading: depparse\n",
      "2022-02-05 11:49:35 INFO: Done loading processors!\n"
     ]
    }
   ],
   "source": [
    "# Default stanza pipeline to be used throughout this notebook\n",
    "nlp = stanza.Pipeline('en', package='craft', processors={'ner': 'BioNLP13CG'})\n",
    "pretokenized_nlp = stanza.Pipeline(lang='en', package='craft', processor='tokenize', tokenize_pretokenized=True) "
   ]
  },
  {
   "cell_type": "code",
   "execution_count": 3,
   "id": "ed267bc2",
   "metadata": {},
   "outputs": [],
   "source": [
    "path = '/Volumes/GoogleDrive/My Drive/_My Data Analytics Exercise/Exercise/Biopython/CE/'"
   ]
  },
  {
   "cell_type": "code",
   "execution_count": 4,
   "id": "a688c132",
   "metadata": {},
   "outputs": [
    {
     "name": "stdout",
     "output_type": "stream",
     "text": [
      "<class 'pandas.core.frame.DataFrame'>\n",
      "RangeIndex: 1124 entries, 0 to 1123\n",
      "Data columns (total 5 columns):\n",
      " #   Column         Non-Null Count  Dtype \n",
      "---  ------         --------------  ----- \n",
      " 0   interactionId  1124 non-null   object\n",
      " 1   sentence       1124 non-null   object\n",
      " 2   entities       1124 non-null   object\n",
      " 3   interaction    1124 non-null   object\n",
      " 4   relationship   1124 non-null   int64 \n",
      "dtypes: int64(1), object(4)\n",
      "memory usage: 44.0+ KB\n",
      "CPU times: user 18.5 ms, sys: 4.79 ms, total: 23.3 ms\n",
      "Wall time: 29.8 ms\n"
     ]
    }
   ],
   "source": [
    "%%time\n",
    "df = pd.read_csv(path+'all_interactions.csv')\n",
    "df.info()"
   ]
  },
  {
   "cell_type": "code",
   "execution_count": 5,
   "id": "7329e4aa",
   "metadata": {},
   "outputs": [
    {
     "name": "stdout",
     "output_type": "stream",
     "text": [
      "CPU times: user 1.53 ms, sys: 3.41 ms, total: 4.94 ms\n",
      "Wall time: 13.8 ms\n"
     ]
    },
    {
     "data": {
      "text/plain": [
       "['VERB',\n",
       " 'NOUN',\n",
       " 'ADJ',\n",
       " 'NUM',\n",
       " 'ADP',\n",
       " 'PUNCT',\n",
       " 'CONJ',\n",
       " 'DET',\n",
       " 'PROPN',\n",
       " 'PRON',\n",
       " 'SCONJ',\n",
       " 'SYM',\n",
       " 'ADV',\n",
       " 'AUX',\n",
       " 'PART',\n",
       " 'X',\n",
       " 'CCONJ']"
      ]
     },
     "execution_count": 5,
     "metadata": {},
     "output_type": "execute_result"
    }
   ],
   "source": [
    "%%time\n",
    "pos_tag = []\n",
    "with open('upos_tag.txt', 'r') as f:\n",
    "    lines = f.readlines()\n",
    "    for line in lines:\n",
    "        pos_tag.append(line.replace('\\n',''))\n",
    "pos_tag       "
   ]
  },
  {
   "cell_type": "code",
   "execution_count": 6,
   "id": "b2dd25a5",
   "metadata": {},
   "outputs": [],
   "source": [
    "with_interactions = df[df['relationship']==1].copy()\n",
    "without_interactions = df[df['relationship']==0].copy()"
   ]
  },
  {
   "cell_type": "code",
   "execution_count": 8,
   "id": "5016d7c1",
   "metadata": {},
   "outputs": [
    {
     "name": "stdout",
     "output_type": "stream",
     "text": [
      "<class 'pandas.core.frame.DataFrame'>\n",
      "Int64Index: 825 entries, 1 to 1122\n",
      "Data columns (total 5 columns):\n",
      " #   Column         Non-Null Count  Dtype \n",
      "---  ------         --------------  ----- \n",
      " 0   interactionId  825 non-null    object\n",
      " 1   sentence       825 non-null    object\n",
      " 2   entities       825 non-null    object\n",
      " 3   interaction    825 non-null    object\n",
      " 4   relationship   825 non-null    int64 \n",
      "dtypes: int64(1), object(4)\n",
      "memory usage: 38.7+ KB\n"
     ]
    }
   ],
   "source": [
    "with_interactions.info()"
   ]
  },
  {
   "cell_type": "code",
   "execution_count": 9,
   "id": "65c0f0e0",
   "metadata": {},
   "outputs": [
    {
     "name": "stdout",
     "output_type": "stream",
     "text": [
      "<class 'pandas.core.frame.DataFrame'>\n",
      "Int64Index: 299 entries, 0 to 1123\n",
      "Data columns (total 5 columns):\n",
      " #   Column         Non-Null Count  Dtype \n",
      "---  ------         --------------  ----- \n",
      " 0   interactionId  299 non-null    object\n",
      " 1   sentence       299 non-null    object\n",
      " 2   entities       299 non-null    object\n",
      " 3   interaction    299 non-null    object\n",
      " 4   relationship   299 non-null    int64 \n",
      "dtypes: int64(1), object(4)\n",
      "memory usage: 14.0+ KB\n"
     ]
    }
   ],
   "source": [
    "without_interactions.info()"
   ]
  },
  {
   "cell_type": "code",
   "execution_count": 10,
   "id": "501a6925",
   "metadata": {},
   "outputs": [
    {
     "data": {
      "text/html": [
       "<div>\n",
       "<style scoped>\n",
       "    .dataframe tbody tr th:only-of-type {\n",
       "        vertical-align: middle;\n",
       "    }\n",
       "\n",
       "    .dataframe tbody tr th {\n",
       "        vertical-align: top;\n",
       "    }\n",
       "\n",
       "    .dataframe thead th {\n",
       "        text-align: right;\n",
       "    }\n",
       "</style>\n",
       "<table border=\"1\" class=\"dataframe\">\n",
       "  <thead>\n",
       "    <tr style=\"text-align: right;\">\n",
       "      <th></th>\n",
       "      <th>interactionId</th>\n",
       "      <th>sentence</th>\n",
       "      <th>entities</th>\n",
       "      <th>interaction</th>\n",
       "      <th>relationship</th>\n",
       "    </tr>\n",
       "  </thead>\n",
       "  <tbody>\n",
       "    <tr>\n",
       "      <th>0</th>\n",
       "      <td>BioInfer_d125</td>\n",
       "      <td>Calculated solution molecular masses are 213 k...</td>\n",
       "      <td>[('alpha-catenin#', 'T1', 'Gene/protein/RNA', ...</td>\n",
       "      <td>{}</td>\n",
       "      <td>0</td>\n",
       "    </tr>\n",
       "    <tr>\n",
       "      <th>2</th>\n",
       "      <td>BioInfer_d544</td>\n",
       "      <td>Smooth muscle alpha actin and myosin heavy cha...</td>\n",
       "      <td>[('Smooth muscle alpha actin#', 'T1', 'Gene/pr...</td>\n",
       "      <td>{}</td>\n",
       "      <td>0</td>\n",
       "    </tr>\n",
       "    <tr>\n",
       "      <th>4</th>\n",
       "      <td>BioInfer_d232</td>\n",
       "      <td>Genetic dissection of Drosophila myofibril for...</td>\n",
       "      <td>[('Act88F#', 'T6', 'Individual_protein', (146,...</td>\n",
       "      <td>{}</td>\n",
       "      <td>0</td>\n",
       "    </tr>\n",
       "    <tr>\n",
       "      <th>5</th>\n",
       "      <td>BioInfer_d653</td>\n",
       "      <td>The nucleotide sequences of nucleocapsid (N), ...</td>\n",
       "      <td>[('F#', 'T1', 'Gene/protein/RNA', (287, 288)),...</td>\n",
       "      <td>{}</td>\n",
       "      <td>0</td>\n",
       "    </tr>\n",
       "    <tr>\n",
       "      <th>6</th>\n",
       "      <td>BioInfer_d28</td>\n",
       "      <td>After 24 or 48 hours of shear, staining for VE...</td>\n",
       "      <td>[('alpha-catenin#', 'T6', 'Gene/protein/RNA', ...</td>\n",
       "      <td>{}</td>\n",
       "      <td>0</td>\n",
       "    </tr>\n",
       "  </tbody>\n",
       "</table>\n",
       "</div>"
      ],
      "text/plain": [
       "   interactionId                                           sentence  \\\n",
       "0  BioInfer_d125  Calculated solution molecular masses are 213 k...   \n",
       "2  BioInfer_d544  Smooth muscle alpha actin and myosin heavy cha...   \n",
       "4  BioInfer_d232  Genetic dissection of Drosophila myofibril for...   \n",
       "5  BioInfer_d653  The nucleotide sequences of nucleocapsid (N), ...   \n",
       "6   BioInfer_d28  After 24 or 48 hours of shear, staining for VE...   \n",
       "\n",
       "                                            entities interaction  relationship  \n",
       "0  [('alpha-catenin#', 'T1', 'Gene/protein/RNA', ...          {}             0  \n",
       "2  [('Smooth muscle alpha actin#', 'T1', 'Gene/pr...          {}             0  \n",
       "4  [('Act88F#', 'T6', 'Individual_protein', (146,...          {}             0  \n",
       "5  [('F#', 'T1', 'Gene/protein/RNA', (287, 288)),...          {}             0  \n",
       "6  [('alpha-catenin#', 'T6', 'Gene/protein/RNA', ...          {}             0  "
      ]
     },
     "execution_count": 10,
     "metadata": {},
     "output_type": "execute_result"
    }
   ],
   "source": [
    "without_interactions.head()"
   ]
  },
  {
   "cell_type": "markdown",
   "id": "c60f3c65",
   "metadata": {},
   "source": [
    "### Preprocessing of Sentences for further analysis"
   ]
  },
  {
   "cell_type": "code",
   "execution_count": 13,
   "id": "7fa291aa",
   "metadata": {},
   "outputs": [
    {
     "name": "stderr",
     "output_type": "stream",
     "text": [
      "\r",
      "  0%|                                                   | 0/100 [00:00<?, ?it/s]"
     ]
    },
    {
     "name": "stdout",
     "output_type": "stream",
     "text": [
      "368 Isolation and characterization of death domain (TNF-RI, Fas, TRADD, FADD/MORT-1, RIP) and TRAF domain-containing proteins (TRAF-1, TRAF-2, TRAF-3) have partially bridged a large molecular gap within one of several signaling pathways which originate at the plasma membrane and terminate in the nucleus. #\n",
      "Prev size: 51 Vs. Next size 42\n",
      "Prev size: 42 Vs. Next size 38\n",
      "Prev size: 38 Vs. Next size 37\n",
      "Prev size: 37 Vs. Next size 37\n"
     ]
    },
    {
     "name": "stderr",
     "output_type": "stream",
     "text": [
      "\r",
      "  1%|▍                                          | 1/100 [00:00<01:37,  1.01it/s]"
     ]
    },
    {
     "name": "stdout",
     "output_type": "stream",
     "text": [
      "528 The analysis of the viral proteins by electrophoresis indicates molecular weight differences between CDV and PDV in the fusion (F), phosphoprotein (P), H, nucleocapsid (N) and matrix (M) proteins. #\n",
      "Prev size: 35 Vs. Next size 27\n",
      "Prev size: 27 Vs. Next size 24\n",
      "Prev size: 24 Vs. Next size 23\n",
      "Prev size: 23 Vs. Next size 22\n"
     ]
    },
    {
     "name": "stderr",
     "output_type": "stream",
     "text": [
      "\r",
      "  2%|▊                                          | 2/100 [00:01<01:36,  1.02it/s]"
     ]
    },
    {
     "name": "stdout",
     "output_type": "stream",
     "text": [
      "Prev size: 22 Vs. Next size 22\n",
      "499 Within the sieve-tube exudate, profilin was present in 15-fold molar excess to actin. #\n"
     ]
    },
    {
     "name": "stderr",
     "output_type": "stream",
     "text": [
      "\r",
      "  3%|█▎                                         | 3/100 [00:02<01:10,  1.38it/s]"
     ]
    },
    {
     "name": "stdout",
     "output_type": "stream",
     "text": [
      "Prev size: 17 Vs. Next size 15\n",
      "Prev size: 15 Vs. Next size 14\n",
      "Prev size: 14 Vs. Next size 14\n",
      "238 The assembly of complete HSV replication compartments and incorporation of BrdU were both abolished by treatment with phosphonoacetic acid (PAA) and by omission of any one of the seven viral replication proteins, UL5, UL8, UL9, UL42, UL52, SSB, and Pol, that are essential for viral DNA replication. #\n",
      "Prev size: 58 Vs. Next size 53\n",
      "Prev size: 53 Vs. Next size 49\n",
      "Prev size: 49 Vs. Next size 47\n"
     ]
    },
    {
     "name": "stderr",
     "output_type": "stream",
     "text": [
      "\r",
      "  4%|█▋                                         | 4/100 [00:03<01:25,  1.12it/s]"
     ]
    },
    {
     "name": "stdout",
     "output_type": "stream",
     "text": [
      "Prev size: 47 Vs. Next size 47\n",
      "482 Monocytes and in vitro differentiated U937 cells induce focal loss in the staining of VE-cadherin, alpha-catenin, beta-catenin, and plakoglobin during transendothelial migration under physiological flow conditions. #\n",
      "Prev size: 32 Vs. Next size 28\n",
      "Prev size: 28 Vs. Next size 26\n"
     ]
    },
    {
     "name": "stderr",
     "output_type": "stream",
     "text": [
      "\r",
      "  5%|██▏                                        | 5/100 [00:04<01:13,  1.30it/s]"
     ]
    },
    {
     "name": "stdout",
     "output_type": "stream",
     "text": [
      "Prev size: 26 Vs. Next size 26\n",
      "785 Deletion of both RAD50 and RAD51 produces a phenotype similar to that produced by deletion of RAD52. rad59 mutations completely abolished the ability to generate type II survivors, while rad50 mutations decreased the growth viability of type II survivors but did not completely eliminate their appearance. #\n",
      "Prev size: 52 Vs. Next size 45\n",
      "Prev size: 45 Vs. Next size 42\n"
     ]
    },
    {
     "name": "stderr",
     "output_type": "stream",
     "text": [
      "\r",
      "  6%|██▌                                        | 6/100 [00:04<01:09,  1.36it/s]"
     ]
    },
    {
     "name": "stdout",
     "output_type": "stream",
     "text": [
      "Prev size: 42 Vs. Next size 42\n",
      "226 Expression of actin and myosin heavy chain genes in skeletal, cardiac and uterine muscles of young and old rats. #\n",
      "Prev size: 23 Vs. Next size 18\n",
      "Prev size: 18 Vs. Next size 17\n",
      "Prev size: 17 Vs. Next size 16\n"
     ]
    },
    {
     "name": "stderr",
     "output_type": "stream",
     "text": [
      "\r",
      "  7%|███                                        | 7/100 [00:05<01:01,  1.50it/s]"
     ]
    },
    {
     "name": "stdout",
     "output_type": "stream",
     "text": [
      "Prev size: 16 Vs. Next size 16\n",
      "657 Redistribution of actin, profilin and phosphatidylinositol-4, 5-bisphosphate in growing and maturing root hairs. #\n",
      "Prev size: 18 Vs. Next size 15\n",
      "Prev size: 15 Vs. Next size 14\n",
      "Prev size: 14 Vs. Next size 12\n"
     ]
    },
    {
     "name": "stderr",
     "output_type": "stream",
     "text": [
      "\r",
      "  8%|███▍                                       | 8/100 [00:05<00:57,  1.61it/s]"
     ]
    },
    {
     "name": "stdout",
     "output_type": "stream",
     "text": [
      "Prev size: 12 Vs. Next size 12\n",
      "549 The genes considered are those for 5S, 5.8S and 18S rRNA, actin I, profilins Ia/b and II, myosins IB, IC and II, and calmodulin. #\n",
      "Prev size: 35 Vs. Next size 30\n",
      "Prev size: 30 Vs. Next size 29\n"
     ]
    },
    {
     "name": "stderr",
     "output_type": "stream",
     "text": [
      "\r",
      "  9%|███▊                                       | 9/100 [00:06<00:59,  1.54it/s]"
     ]
    },
    {
     "name": "stdout",
     "output_type": "stream",
     "text": [
      "Prev size: 29 Vs. Next size 29\n",
      "1042 The two groups were similar in their morning thyroxin, triiodothyronine, TSH, estradiol, cortisol, gastrin, cholecystokinin, somatostatin, oxytocin, insulin and IGF-1 levels. #\n",
      "Prev size: 33 Vs. Next size 30\n",
      "Prev size: 30 Vs. Next size 28\n"
     ]
    },
    {
     "name": "stderr",
     "output_type": "stream",
     "text": [
      "\r",
      " 10%|████▏                                     | 10/100 [00:07<01:00,  1.49it/s]"
     ]
    },
    {
     "name": "stdout",
     "output_type": "stream",
     "text": [
      "Prev size: 28 Vs. Next size 28\n",
      "587 Addition of EGTA (3 mM) to the extracellular media completely inhibited the cleavage of actin-binding protein, talin, and pp60src in response to A23187 (1 microM). #\n",
      "Prev size: 30 Vs. Next size 26\n",
      "Prev size: 26 Vs. Next size 24\n"
     ]
    },
    {
     "name": "stderr",
     "output_type": "stream",
     "text": [
      "\r",
      " 11%|████▌                                     | 11/100 [00:07<00:57,  1.56it/s]"
     ]
    },
    {
     "name": "stdout",
     "output_type": "stream",
     "text": [
      "Prev size: 24 Vs. Next size 24\n",
      "1001 Both receive information about the nutritional status and the level of energy storage through insulin and leptin signaling mediated by specific receptors located on POMC and NPY neurons present predominantly in the arcuate nucleus (ARC). When leptin signaling is defective, through a defect in either the receptor (Zucker fa/fa rat, cp/cp rat, and db/db mouse) or in the peptide itself (ob/ob mouse), the NPY system is upregulated as shown by mRNA overexpression and increased peptide release, whereas the content and/or release of some inhibitory peptides (neurotensin, cholecystokinin) are diminished. #\n",
      "Prev size: 100 Vs. Next size 82\n",
      "Prev size: 82 Vs. Next size 74\n",
      "Prev size: 74 Vs. Next size 72\n"
     ]
    },
    {
     "name": "stderr",
     "output_type": "stream",
     "text": [
      "\r",
      " 12%|█████                                     | 12/100 [00:09<01:24,  1.04it/s]"
     ]
    },
    {
     "name": "stdout",
     "output_type": "stream",
     "text": [
      "Prev size: 72 Vs. Next size 72\n",
      "88 Exposure of the rabbit retina to a combination of an A1-adenosine receptor antagonist, 8-cyclopentyl-1,3 dipropylxanthine (DPCPX), and adenosine deaminase did not affect the enhancing action of DAMGO on the light-evoked release of ACh. #\n",
      "Prev size: 39 Vs. Next size 32\n",
      "Prev size: 32 Vs. Next size 30\n"
     ]
    },
    {
     "name": "stderr",
     "output_type": "stream",
     "text": [
      "\r",
      " 13%|█████▍                                    | 13/100 [00:10<01:17,  1.13it/s]"
     ]
    },
    {
     "name": "stdout",
     "output_type": "stream",
     "text": [
      "Prev size: 30 Vs. Next size 30\n",
      "1047 In isolated adipocytes, the loss of almost half the 18S RNA content over a 24-hour incubation was prevented in the presence of insulin but not oxytocin or epidermal growth factor (EGF). #\n",
      "Prev size: 35 Vs. Next size 29\n",
      "Prev size: 29 Vs. Next size 25\n"
     ]
    },
    {
     "name": "stderr",
     "output_type": "stream",
     "text": [
      "\r",
      " 14%|█████▉                                    | 14/100 [00:10<01:12,  1.19it/s]"
     ]
    },
    {
     "name": "stdout",
     "output_type": "stream",
     "text": [
      "Prev size: 25 Vs. Next size 23\n",
      "Prev size: 23 Vs. Next size 23\n",
      "538 Of the five major structural proteins of MV, only nucleocapsid (N) protein and phosphoprotein (P protein) were consistently detected in diseased brain areas. #\n",
      "Prev size: 27 Vs. Next size 22\n",
      "Prev size: 22 Vs. Next size 18\n"
     ]
    },
    {
     "name": "stderr",
     "output_type": "stream",
     "text": [
      "\r",
      " 15%|██████▎                                   | 15/100 [00:11<01:12,  1.18it/s]"
     ]
    },
    {
     "name": "stdout",
     "output_type": "stream",
     "text": [
      "Prev size: 18 Vs. Next size 16\n",
      "Prev size: 16 Vs. Next size 16\n",
      "1026 The aims of this study were: (1) to assess the effects of maternal undernutrition during pregnancy on adult offspring with regard to growth, body composition and plasma levels of glucose, insulin and corticosterone, and (2) to investigate whether oxytocin treatment early in life could ameliorate the adverse effects of food restriction in utero. #\n",
      "Prev size: 59 Vs. Next size 50\n",
      "Prev size: 50 Vs. Next size 48\n"
     ]
    },
    {
     "name": "stderr",
     "output_type": "stream",
     "text": [
      "\r",
      " 16%|██████▋                                   | 16/100 [00:12<01:11,  1.18it/s]"
     ]
    },
    {
     "name": "stdout",
     "output_type": "stream",
     "text": [
      "Prev size: 48 Vs. Next size 48\n",
      "106 Moreover, the virus-encoded profilin homolog was not required for actin-associated events, including intracellular virus movement to the periphery of the cell, formation of specialized microvilli, or release of mature virions, as shown by electron microscopy and yields of infectious intra- and extracellular virus. #\n",
      "Prev size: 51 Vs. Next size 44\n",
      "Prev size: 44 Vs. Next size 40\n"
     ]
    },
    {
     "name": "stderr",
     "output_type": "stream",
     "text": [
      "\r",
      " 17%|███████▏                                  | 17/100 [00:13<01:14,  1.11it/s]"
     ]
    },
    {
     "name": "stdout",
     "output_type": "stream",
     "text": [
      "Prev size: 40 Vs. Next size 39\n",
      "Prev size: 39 Vs. Next size 39\n",
      "1027 The SGR and RGR also had different endocrine profiles with, for example, twice as high oxytocin (p &lt; 0.01) and insulin levels (p &lt; 0.01) in RGR compared to the SGR. #\n",
      "Prev size: 42 Vs. Next size 36\n",
      "Prev size: 36 Vs. Next size 33\n"
     ]
    },
    {
     "name": "stderr",
     "output_type": "stream",
     "text": [
      "\r",
      " 18%|███████▌                                  | 18/100 [00:14<01:15,  1.08it/s]"
     ]
    },
    {
     "name": "stdout",
     "output_type": "stream",
     "text": [
      "Prev size: 33 Vs. Next size 32\n",
      "Prev size: 32 Vs. Next size 32\n",
      "953 To elucidate the pathophysiologic significance of UCP3 and UCP2 in the effect of TZDs on glucose metabolism and energy expenditure, we examined their basal mRNA levels in the WAT, brown adipose tissue (BAT), and skeletal muscle from Wistar fatty rats, a rat model of NIDDM and obesity with leptin receptor defect, and investigated expression of the genes encoding UCP3 and UCP2 in Wistar fatty rats and in Wistar lean rats with 2-week oral administration of 3 mg x kg(-1) x day(-1) pioglitazone, a TZD derivative These results clearly demonstrate that UCP3 gene expression is upregulated by TZDs in the WAT and BAT in Wistar fatty rats, an obese model with leptin receptor defect, and that adipose UCP3 gene expression is increased in response to TZDs in vitro. #\n",
      "Prev size: 138 Vs. Next size 110\n",
      "Prev size: 110 Vs. Next size 96\n",
      "Prev size: 96 Vs. Next size 94\n"
     ]
    },
    {
     "name": "stderr",
     "output_type": "stream",
     "text": [
      "\r",
      " 19%|███████▉                                  | 19/100 [00:16<01:45,  1.31s/it]"
     ]
    },
    {
     "name": "stdout",
     "output_type": "stream",
     "text": [
      "Prev size: 94 Vs. Next size 94\n",
      "180 To characterize the phenotypic alteration in mesangial cells in human glomerulonephritis, we investigated the expression of nonmuscle-type myosin heavy chain, SMemb, and alpha-smooth muscle actin (alpha-SM actin) in IgA nephropathy. #\n",
      "Prev size: 36 Vs. Next size 28\n",
      "Prev size: 28 Vs. Next size 26\n"
     ]
    },
    {
     "name": "stderr",
     "output_type": "stream",
     "text": [
      "\r",
      " 20%|████████▍                                 | 20/100 [00:17<01:33,  1.16s/it]"
     ]
    },
    {
     "name": "stdout",
     "output_type": "stream",
     "text": [
      "Prev size: 26 Vs. Next size 25\n",
      "Prev size: 25 Vs. Next size 25\n",
      "590 Immunohistochemical studies showed a strong reactivity of most LAM cells for alpha-smooth muscle actin and smooth muscle myosin heavy chain and a weak to moderate reactivity of a lesser number of cells for desmin and nonmuscle myosin heavy chain II-B. #\n",
      "Prev size: 43 Vs. Next size 33\n",
      "Prev size: 33 Vs. Next size 29\n",
      "Prev size: 29 Vs. Next size 27\n"
     ]
    },
    {
     "name": "stderr",
     "output_type": "stream",
     "text": [
      "\r",
      " 21%|████████▊                                 | 21/100 [00:18<01:32,  1.18s/it]"
     ]
    },
    {
     "name": "stdout",
     "output_type": "stream",
     "text": [
      "Prev size: 27 Vs. Next size 25\n",
      "Prev size: 25 Vs. Next size 25\n",
      "404 The proximity of the semi-conserved actin-binding site and the binding pocket characteristic of plant profilins suggests that epitopes encompassing both features are responsible for the cross-reactivity of antibodies between human and plant profilins thought to be responsible for type I allergies. #\n",
      "Prev size: 44 Vs. Next size 39\n",
      "Prev size: 39 Vs. Next size 36\n"
     ]
    },
    {
     "name": "stderr",
     "output_type": "stream",
     "text": [
      "\r",
      " 22%|█████████▏                                | 22/100 [00:19<01:21,  1.04s/it]"
     ]
    },
    {
     "name": "stdout",
     "output_type": "stream",
     "text": [
      "Prev size: 36 Vs. Next size 36\n",
      "916 Concurrent decrease of vasopressin and protein kinase Calpha immunoreactivity during the light phase in the vole suprachiasmatic nucleus Mean numbers of AVP- and protein kinase Calpha-immunoreactive neurons were determined in the suprachiasmatic nucleus of common voles, entrained to a 12:12 h light-dark (LD) cycle, at the beginning of the light period (zeitgeber time zero) and 6 h later (zeitgeber time six) At zeitgeber time zero, mean numbers of AVP- and protein kinase Calpha- immunoreactive neurons were 2194 and 9897, respectively. #\n",
      "Prev size: 87 Vs. Next size 63\n",
      "Prev size: 63 Vs. Next size 55\n",
      "Prev size: 55 Vs. Next size 49\n"
     ]
    },
    {
     "name": "stderr",
     "output_type": "stream",
     "text": [
      "\r",
      " 23%|█████████▋                                | 23/100 [00:21<01:34,  1.22s/it]"
     ]
    },
    {
     "name": "stdout",
     "output_type": "stream",
     "text": [
      "Prev size: 49 Vs. Next size 49\n",
      "726 These findings reveal striking differences between S. cerevisiae and vertebrates in the functions of RAD51 and RAD52. #\n"
     ]
    },
    {
     "name": "stderr",
     "output_type": "stream",
     "text": [
      "\r",
      " 24%|██████████                                | 24/100 [00:21<01:15,  1.01it/s]"
     ]
    },
    {
     "name": "stdout",
     "output_type": "stream",
     "text": [
      "Prev size: 22 Vs. Next size 19\n",
      "Prev size: 19 Vs. Next size 19\n",
      "61 The gene RVS167 therefore could be implicated in cytoskeletal reorganization in response to environmental stresses and could act in the budding site selection mechanism. #\n",
      "Prev size: 27 Vs. Next size 22\n",
      "Prev size: 22 Vs. Next size 21\n"
     ]
    },
    {
     "name": "stderr",
     "output_type": "stream",
     "text": [
      "\r",
      " 25%|██████████▌                               | 25/100 [00:22<01:06,  1.13it/s]"
     ]
    },
    {
     "name": "stdout",
     "output_type": "stream",
     "text": [
      "Prev size: 21 Vs. Next size 21\n",
      "1006 This indicates that the calcium response to OT application was principally associated with activation of the IP3-sensitive calcium stores. #\n",
      "Prev size: 22 Vs. Next size 19\n",
      "Prev size: 19 Vs. Next size 18\n"
     ]
    },
    {
     "name": "stderr",
     "output_type": "stream",
     "text": [
      "\r",
      " 26%|██████████▉                               | 26/100 [00:22<00:58,  1.27it/s]"
     ]
    },
    {
     "name": "stdout",
     "output_type": "stream",
     "text": [
      "Prev size: 18 Vs. Next size 18\n",
      "941 Granulosa cells were isolated from bovine preovulatory follicles and cultured for 3 days with or without OT in medium supplemented with either insulin (1 microgram/ml) + 1% fetal calf serum (FCS), which maintains basal estradiol secretion, or low doses of FSH (1 and 2 ng/ml) + 1% FCS, a culture condition that maximizes effects of FSH on estradiol secretion. #\n",
      "Prev size: 65 Vs. Next size 54\n",
      "Prev size: 54 Vs. Next size 50\n",
      "Prev size: 50 Vs. Next size 49\n"
     ]
    },
    {
     "name": "stderr",
     "output_type": "stream",
     "text": [
      "\r",
      " 27%|███████████▎                              | 27/100 [00:24<01:10,  1.04it/s]"
     ]
    },
    {
     "name": "stdout",
     "output_type": "stream",
     "text": [
      "Prev size: 49 Vs. Next size 49\n",
      "146 The ratios actin mRNA:18S RNA and fast myosin heavy chain mRNA:18S RNA were unaffected by clenbuterol. #\n",
      "Prev size: 19 Vs. Next size 14\n",
      "Prev size: 14 Vs. Next size 12\n",
      "Prev size: 12 Vs. Next size 10\n",
      "Prev size: 10 Vs. Next size 9\n",
      "Prev size: 9 Vs. Next size 9\n"
     ]
    },
    {
     "name": "stderr",
     "output_type": "stream",
     "text": [
      "\r",
      " 28%|███████████▊                              | 28/100 [00:24<01:02,  1.15it/s]"
     ]
    },
    {
     "name": "stdout",
     "output_type": "stream",
     "text": [
      "1063 This action of beta-amyloid 25-35 is not altered by pretreatment with the calcium channel blockers nifedipine or cobalt, with the depleter of intracellular calcium stores cyclopiazonic acid, or with the phospholipase C inhibitor neomycin. #\n",
      "Prev size: 39 Vs. Next size 32\n",
      "Prev size: 32 Vs. Next size 29\n",
      "Prev size: 29 Vs. Next size 27\n"
     ]
    },
    {
     "name": "stderr",
     "output_type": "stream",
     "text": [
      "\r",
      " 29%|████████████▏                             | 29/100 [00:26<01:07,  1.06it/s]"
     ]
    },
    {
     "name": "stdout",
     "output_type": "stream",
     "text": [
      "Prev size: 27 Vs. Next size 27\n",
      "532 Both types of beads induced the recruitment of N-cadherin, beta-catenin, alpha-catenin and p120, by lateral mobilization of preexisting cell membrane complexes. #\n",
      "Prev size: 27 Vs. Next size 22\n",
      "Prev size: 22 Vs. Next size 21\n"
     ]
    },
    {
     "name": "stderr",
     "output_type": "stream",
     "text": [
      "\r",
      " 30%|████████████▌                             | 30/100 [00:26<01:00,  1.16it/s]"
     ]
    },
    {
     "name": "stdout",
     "output_type": "stream",
     "text": [
      "Prev size: 21 Vs. Next size 21\n",
      "546 A common feature of these talin-positive domains is the deep membrane infoldings, where bundles of actin filaments are inserted into the membrane. #\n",
      "Prev size: 26 Vs. Next size 21\n",
      "Prev size: 21 Vs. Next size 20\n",
      "Prev size: 20 Vs. Next size 20\n"
     ]
    },
    {
     "name": "stderr",
     "output_type": "stream",
     "text": [
      "\r",
      " 31%|█████████████                             | 31/100 [00:27<00:57,  1.20it/s]"
     ]
    },
    {
     "name": "stdout",
     "output_type": "stream",
     "text": [
      "760 Mammalian homologues of two important yeast genes involved in DNA double-strand break repair and recombination, RAD51 and RAD54, have been isolated. #\n",
      "Prev size: 26 Vs. Next size 19\n",
      "Prev size: 19 Vs. Next size 17\n"
     ]
    },
    {
     "name": "stderr",
     "output_type": "stream",
     "text": [
      "\r",
      " 32%|█████████████▍                            | 32/100 [00:28<00:55,  1.23it/s]"
     ]
    },
    {
     "name": "stdout",
     "output_type": "stream",
     "text": [
      "Prev size: 17 Vs. Next size 16\n",
      "Prev size: 16 Vs. Next size 16\n",
      "684 These genes were designated UL5, UL8, UL9, UL42, and UL52 and were predicted to encode proteins with molecular weights of, respectively, 99,000, 80,000, 94,000, 51,000, and 114,000. #\n"
     ]
    },
    {
     "name": "stderr",
     "output_type": "stream",
     "text": [
      "\r",
      " 33%|█████████████▊                            | 33/100 [00:28<00:49,  1.35it/s]"
     ]
    },
    {
     "name": "stdout",
     "output_type": "stream",
     "text": [
      "Prev size: 45 Vs. Next size 43\n",
      "Prev size: 43 Vs. Next size 43\n",
      "372 Reduced expression of E-cadherin, alpha-catenin, and beta-catenin was observed in 64% (87 of 135), 50% (43 of 86), and 58% (50 of 86) of the specimens tested, respectively. #\n"
     ]
    },
    {
     "name": "stderr",
     "output_type": "stream",
     "text": [
      "\r",
      " 34%|██████████████▎                           | 34/100 [00:29<00:45,  1.44it/s]"
     ]
    },
    {
     "name": "stdout",
     "output_type": "stream",
     "text": [
      "Prev size: 36 Vs. Next size 35\n",
      "Prev size: 35 Vs. Next size 35\n",
      "10 In addition, we performed immunohistochemistry on sectioned Myf-5 and MyoD mutant embryos with antibodies reactive with desmin, nestin, myosin heavy chain, sarcomeric actin, Myf-5, MyoD and myogenin. #\n",
      "Prev size: 36 Vs. Next size 30\n",
      "Prev size: 30 Vs. Next size 27\n"
     ]
    },
    {
     "name": "stderr",
     "output_type": "stream",
     "text": [
      "\r",
      " 35%|██████████████▋                           | 35/100 [00:30<00:49,  1.32it/s]"
     ]
    },
    {
     "name": "stdout",
     "output_type": "stream",
     "text": [
      "Prev size: 27 Vs. Next size 25\n",
      "Prev size: 25 Vs. Next size 25\n",
      "132 Regulation of myosin heavy chain and actin isogenes during cardiac growth and hypertrophy. #\n",
      "Prev size: 16 Vs. Next size 13\n",
      "Prev size: 13 Vs. Next size 10\n",
      "Prev size: 10 Vs. Next size 8\n"
     ]
    },
    {
     "name": "stderr",
     "output_type": "stream",
     "text": [
      "\r",
      " 36%|███████████████                           | 36/100 [00:30<00:43,  1.46it/s]"
     ]
    },
    {
     "name": "stdout",
     "output_type": "stream",
     "text": [
      "Prev size: 8 Vs. Next size 8\n",
      "86 PDGF treatment had no effect on talin, vimentin, or microtubule distribution in BALB/c-3T3 cells; in addition, exposure of cells to 5% platelet-poor plasma (PPP), 0.1% PPP, 30 ng/ml epidermal growth factor (EGF), 30 ng/ml somatomedin C, or 10 microM insulin also had no effect on vinculin or actin distribution. #\n",
      "Prev size: 62 Vs. Next size 52\n",
      "Prev size: 52 Vs. Next size 48\n",
      "Prev size: 48 Vs. Next size 47\n"
     ]
    },
    {
     "name": "stderr",
     "output_type": "stream",
     "text": [
      "\r",
      " 37%|███████████████▌                          | 37/100 [00:32<00:57,  1.09it/s]"
     ]
    },
    {
     "name": "stdout",
     "output_type": "stream",
     "text": [
      "Prev size: 47 Vs. Next size 47\n",
      "461 Linkage between cancer susceptibility and the candidate DNA mismatch repair genes MLH1, MSH2, MSH3, and MSH6 (GTBP) was investigated. #\n",
      "Prev size: 25 Vs. Next size 20\n",
      "Prev size: 20 Vs. Next size 19\n",
      "Prev size: 19 Vs. Next size 18\n"
     ]
    },
    {
     "name": "stderr",
     "output_type": "stream",
     "text": [
      "\r",
      " 38%|███████████████▉                          | 38/100 [00:33<00:58,  1.06it/s]"
     ]
    },
    {
     "name": "stdout",
     "output_type": "stream",
     "text": [
      "Prev size: 18 Vs. Next size 18\n",
      "109 The qualitative changes involve differential expression of multigene families of contractile proteins, especially myosin heavy chain (MHC) and actin. #\n",
      "Prev size: 23 Vs. Next size 15\n",
      "Prev size: 15 Vs. Next size 14\n"
     ]
    },
    {
     "name": "stderr",
     "output_type": "stream",
     "text": [
      "\r",
      " 39%|████████████████▍                         | 39/100 [00:34<00:54,  1.11it/s]"
     ]
    },
    {
     "name": "stdout",
     "output_type": "stream",
     "text": [
      "Prev size: 14 Vs. Next size 13\n",
      "Prev size: 13 Vs. Next size 13\n",
      "469 TNF also inhibited muscle differentiation as measured by several parameters, including cell fusion and the expression of other muscle-specific genes, such as alpha-skeletal actin and myosin heavy chain. #\n",
      "Prev size: 33 Vs. Next size 27\n",
      "Prev size: 27 Vs. Next size 24\n"
     ]
    },
    {
     "name": "stderr",
     "output_type": "stream",
     "text": [
      "\r",
      " 40%|████████████████▊                         | 40/100 [00:35<00:54,  1.11it/s]"
     ]
    },
    {
     "name": "stdout",
     "output_type": "stream",
     "text": [
      "Prev size: 24 Vs. Next size 22\n",
      "Prev size: 22 Vs. Next size 22\n",
      "464 In the present paper, using indirect immunofluorescence, we found that PMN adhesion to tumor necrosis factor-activated endothelial cells (EC) induced the disappearance from endothelial cell-to-cell contacts of adherens junction (AJ) components: vascular endothelial (VE)-cadherin, alpha-catenin, beta-catenin, and plakoglobin. #\n",
      "Prev size: 46 Vs. Next size 36\n",
      "Prev size: 36 Vs. Next size 31\n",
      "Prev size: 31 Vs. Next size 29\n",
      "Prev size: 29 Vs. Next size 28\n"
     ]
    },
    {
     "name": "stderr",
     "output_type": "stream",
     "text": [
      "\r",
      " 41%|█████████████████▏                        | 41/100 [00:36<01:07,  1.14s/it]"
     ]
    },
    {
     "name": "stdout",
     "output_type": "stream",
     "text": [
      "Prev size: 28 Vs. Next size 28\n",
      "1010 The activity of catalase was found to be significantly enhanced in the tissues of normal and cholesterol fed rats administered 1 mg flavonoid from brinjal/100 g BW/day. #\n",
      "Prev size: 30 Vs. Next size 27\n",
      "Prev size: 27 Vs. Next size 25\n"
     ]
    },
    {
     "name": "stderr",
     "output_type": "stream",
     "text": [
      "\r",
      " 42%|█████████████████▋                        | 42/100 [00:37<00:59,  1.02s/it]"
     ]
    },
    {
     "name": "stdout",
     "output_type": "stream",
     "text": [
      "Prev size: 25 Vs. Next size 25\n",
      "756 The contents of myosin heavy chain, myosin light chain 2, actin, troponin-I in 125-week-old rats decreased compared with those of 12-week-old rats. #\n",
      "Prev size: 28 Vs. Next size 23\n",
      "Prev size: 23 Vs. Next size 21\n"
     ]
    },
    {
     "name": "stderr",
     "output_type": "stream",
     "text": [
      "\r",
      " 43%|██████████████████                        | 43/100 [00:38<00:52,  1.09it/s]"
     ]
    },
    {
     "name": "stdout",
     "output_type": "stream",
     "text": [
      "Prev size: 21 Vs. Next size 21\n",
      "1096 Cloning and characterization of two evolutionarily conserved subunits (TFIIIC102 and TFIIIC63) of human TFIIIC and their involvement in functional interactions with TFIIIB and RNA polymerase III. #\n",
      "Prev size: 29 Vs. Next size 19\n",
      "Prev size: 19 Vs. Next size 17\n"
     ]
    },
    {
     "name": "stderr",
     "output_type": "stream",
     "text": [
      "\r",
      " 44%|██████████████████▍                       | 44/100 [00:39<00:50,  1.11it/s]"
     ]
    },
    {
     "name": "stdout",
     "output_type": "stream",
     "text": [
      "Prev size: 17 Vs. Next size 16\n",
      "Prev size: 16 Vs. Next size 16\n",
      "613 MSH2 plays a fundamental role in mispair recognition whereas MSH3 and MSH6 appear to modify the specificity of this recognition. #\n"
     ]
    },
    {
     "name": "stderr",
     "output_type": "stream",
     "text": [
      "\r",
      " 45%|██████████████████▉                       | 45/100 [00:39<00:41,  1.31it/s]"
     ]
    },
    {
     "name": "stdout",
     "output_type": "stream",
     "text": [
      "Prev size: 23 Vs. Next size 19\n",
      "Prev size: 19 Vs. Next size 19\n",
      "299 Germline mutations in several members of these families, MSH2, MSH6, MLH1, and PMS2, but not MSH3, are responsible for hereditary non-polyposis colorectal cancer. #\n",
      "Prev size: 32 Vs. Next size 28\n",
      "Prev size: 28 Vs. Next size 27\n",
      "Prev size: 27 Vs. Next size 26\n",
      "Prev size: 26 Vs. Next size 26\n"
     ]
    },
    {
     "name": "stderr",
     "output_type": "stream",
     "text": [
      "\r",
      " 46%|███████████████████▎                      | 46/100 [00:40<00:44,  1.21it/s]"
     ]
    },
    {
     "name": "stdout",
     "output_type": "stream",
     "text": [
      "804 Proteolytic activity was not detected with casein, actin, or myosin heavy-chain substrates. #\n",
      "Prev size: 17 Vs. Next size 15\n",
      "Prev size: 15 Vs. Next size 14\n"
     ]
    },
    {
     "name": "stderr",
     "output_type": "stream",
     "text": [
      "\r",
      " 47%|███████████████████▋                      | 47/100 [00:40<00:39,  1.35it/s]"
     ]
    },
    {
     "name": "stdout",
     "output_type": "stream",
     "text": [
      "Prev size: 14 Vs. Next size 14\n",
      "348 Resonance energy transfer determination of the following distances, using a hybrid myosin: those between Cys-55 on the Mercenaria regulatory light chain, SH-1 on the Aequipecten myosin heavy chain, and Cys-374 of actin. #\n",
      "Prev size: 38 Vs. Next size 32\n",
      "Prev size: 32 Vs. Next size 29\n",
      "Prev size: 29 Vs. Next size 28\n"
     ]
    },
    {
     "name": "stderr",
     "output_type": "stream",
     "text": [
      "\r",
      " 48%|████████████████████▏                     | 48/100 [00:42<00:45,  1.15it/s]"
     ]
    },
    {
     "name": "stdout",
     "output_type": "stream",
     "text": [
      "Prev size: 28 Vs. Next size 28\n",
      "356 In this case, efficient repair does not require RAD1 and MSH2, consistent with our previous observations. #\n"
     ]
    },
    {
     "name": "stderr",
     "output_type": "stream",
     "text": [
      "\r",
      " 49%|████████████████████▌                     | 49/100 [00:42<00:36,  1.40it/s]"
     ]
    },
    {
     "name": "stdout",
     "output_type": "stream",
     "text": [
      "Prev size: 21 Vs. Next size 17\n",
      "Prev size: 17 Vs. Next size 17\n",
      "21 Total actin and myosin heavy chain mRNAs, and polyadenylated RNA, were determined using slot-blot assays. #\n",
      "Prev size: 20 Vs. Next size 16\n",
      "Prev size: 16 Vs. Next size 12\n",
      "Prev size: 12 Vs. Next size 10\n"
     ]
    },
    {
     "name": "stderr",
     "output_type": "stream",
     "text": [
      "\r",
      " 50%|█████████████████████                     | 50/100 [00:43<00:33,  1.48it/s]"
     ]
    },
    {
     "name": "stdout",
     "output_type": "stream",
     "text": [
      "Prev size: 10 Vs. Next size 10\n",
      "1059 Furthermore, immunocytochemical studies showed the A beta-induced neuronal MAC expression on the SH-SY5Y cells after CD59 was removed by PIPLC or blocked by anti-CD59 antibody. #\n",
      "Prev size: 29 Vs. Next size 25\n",
      "Prev size: 25 Vs. Next size 24\n",
      "Prev size: 24 Vs. Next size 23\n",
      "Prev size: 23 Vs. Next size 22\n"
     ]
    },
    {
     "name": "stderr",
     "output_type": "stream",
     "text": [
      "\r",
      " 51%|█████████████████████▍                    | 51/100 [00:44<00:38,  1.29it/s]"
     ]
    },
    {
     "name": "stdout",
     "output_type": "stream",
     "text": [
      "Prev size: 22 Vs. Next size 22\n",
      "434 We determined whether short-term weight-lifting exercise increases the synthesis rate of the major contractile proteins, myosin heavy chain (MHC), actin, and mixed muscle proteins in nonfrail elders and younger women and men. #\n",
      "Prev size: 38 Vs. Next size 31\n",
      "Prev size: 31 Vs. Next size 25\n"
     ]
    },
    {
     "name": "stderr",
     "output_type": "stream",
     "text": [
      "\r",
      " 52%|█████████████████████▊                    | 52/100 [00:44<00:38,  1.23it/s]"
     ]
    },
    {
     "name": "stdout",
     "output_type": "stream",
     "text": [
      "Prev size: 25 Vs. Next size 24\n",
      "Prev size: 24 Vs. Next size 24\n",
      "51 Effects of mutations of RAD50, RAD51, RAD52, and related genes on illegitimate recombination in Saccharomyces cerevisiae. #\n"
     ]
    },
    {
     "name": "stderr",
     "output_type": "stream",
     "text": [
      "\r",
      " 53%|██████████████████████▎                   | 53/100 [00:45<00:33,  1.42it/s]"
     ]
    },
    {
     "name": "stdout",
     "output_type": "stream",
     "text": [
      "Prev size: 22 Vs. Next size 19\n",
      "Prev size: 19 Vs. Next size 19\n",
      "377 Reduced expression of E-cadherin and alpha-catenin, as well as mutations in the E-cadherin gene, have been found in various carcinomas, whereas mutations in the alpha- and beta-catenin genes have been described only in carcinoma cell lines. #\n",
      "Prev size: 42 Vs. Next size 34\n",
      "Prev size: 34 Vs. Next size 32\n"
     ]
    },
    {
     "name": "stderr",
     "output_type": "stream",
     "text": [
      "\r",
      " 54%|██████████████████████▋                   | 54/100 [00:46<00:33,  1.37it/s]"
     ]
    },
    {
     "name": "stdout",
     "output_type": "stream",
     "text": [
      "Prev size: 32 Vs. Next size 32\n",
      "989 Cellular preincubation with 200 microg/ml antibodies against the inositolphosphoglycan (IPG) moiety of the GPI-anchor (Ab(IPG)), or depletion in GPI-anchored proteins by cellular pretreatment with 0.5 U/ml PI-PLC, 1 mM insulin and 2 HU/ml streptolysin-O, or depletion in membrane cholesterol content by filipin (5 microg/ml), digitonin (5 microg/ml) and cholesterol oxidase (0.5 U/ml) decreases the HDL3-signal, suggesting the involvement of a lipolytic cleavage of GPI-anchored proteins. #\n",
      "Prev size: 77 Vs. Next size 60\n",
      "Prev size: 60 Vs. Next size 56\n",
      "Prev size: 56 Vs. Next size 55\n"
     ]
    },
    {
     "name": "stderr",
     "output_type": "stream",
     "text": [
      "\r",
      " 55%|███████████████████████                   | 55/100 [00:47<00:45,  1.00s/it]"
     ]
    },
    {
     "name": "stdout",
     "output_type": "stream",
     "text": [
      "Prev size: 55 Vs. Next size 55\n",
      "688 AIMS: To investigate the disturbance of intercellular adhesion in adenoid cystic carcinoma (ACC), we examined the ultrastructural localization of E-cadherin (E-cad), alpha-catenin (alpha-cat) and beta-catenin (beta-cat) in ACC, and compared it with that in the normal labial gland. #\n",
      "Prev size: 44 Vs. Next size 37\n",
      "Prev size: 37 Vs. Next size 35\n",
      "Prev size: 35 Vs. Next size 34\n"
     ]
    },
    {
     "name": "stderr",
     "output_type": "stream",
     "text": [
      "\r",
      " 56%|███████████████████████▌                  | 56/100 [00:48<00:45,  1.03s/it]"
     ]
    },
    {
     "name": "stdout",
     "output_type": "stream",
     "text": [
      "Prev size: 34 Vs. Next size 34\n",
      "239 By indirect immunofluorescence, both R. rickettsii and Listeria monocytogenes actin tails were shown to contain the cytoskeletal proteins vasodilator-stimulated phosphoprotein profilin, vinculin, and filamin. #\n",
      "Prev size: 32 Vs. Next size 27\n",
      "Prev size: 27 Vs. Next size 25\n",
      "Prev size: 25 Vs. Next size 24\n"
     ]
    },
    {
     "name": "stderr",
     "output_type": "stream",
     "text": [
      "\r",
      " 57%|███████████████████████▉                  | 57/100 [00:50<00:44,  1.05s/it]"
     ]
    },
    {
     "name": "stdout",
     "output_type": "stream",
     "text": [
      "Prev size: 24 Vs. Next size 24\n",
      "142 The sizes and characteristics of each of the proteins determined from various radiolabelling experiments allowed preliminary identification of the proteins as the large (L; 190 kDa), haemagglutinin neuraminidase (HN; 74 kDa), nucleocapsid (N; 66 kDa), fusion (F0; 63 kDa), phosphoprotein (P; 49 kDa), matrix (M; 43 kDa) and non-structural (V; 35 kDa) proteins. #\n",
      "Prev size: 68 Vs. Next size 56\n",
      "Prev size: 56 Vs. Next size 52\n"
     ]
    },
    {
     "name": "stderr",
     "output_type": "stream",
     "text": [
      "\r",
      " 58%|████████████████████████▎                 | 58/100 [00:51<00:45,  1.09s/it]"
     ]
    },
    {
     "name": "stdout",
     "output_type": "stream",
     "text": [
      "Prev size: 52 Vs. Next size 52\n",
      "406 Thus, beta-catenin, E-cadherin, and alpha-catenin have similar prognostic values. #\n",
      "Prev size: 15 Vs. Next size 14\n",
      "Prev size: 14 Vs. Next size 13\n"
     ]
    },
    {
     "name": "stderr",
     "output_type": "stream",
     "text": [
      "\r",
      " 59%|████████████████████████▊                 | 59/100 [00:51<00:37,  1.09it/s]"
     ]
    },
    {
     "name": "stdout",
     "output_type": "stream",
     "text": [
      "Prev size: 13 Vs. Next size 13\n",
      "827 Panels of six to 31 MAbs against the haemagglutinin (H), fusion (F), nucleocapsid protein (NP), phosphoprotein (P) and matrix (M) proteins of MV and the H, F, NP and P proteins of CDV were employed. #\n",
      "Prev size: 43 Vs. Next size 36\n",
      "Prev size: 36 Vs. Next size 32\n"
     ]
    },
    {
     "name": "stderr",
     "output_type": "stream",
     "text": [
      "\r",
      " 60%|█████████████████████████▏                | 60/100 [00:52<00:38,  1.03it/s]"
     ]
    },
    {
     "name": "stdout",
     "output_type": "stream",
     "text": [
      "Prev size: 32 Vs. Next size 31\n",
      "Prev size: 31 Vs. Next size 31\n",
      "831 Expression of beta-catenin was investigated in normal breast tissue and 66 breast carcinomas in conjunction with expression of epithelial cadherin (E-CD) and alpha-catenin. In invasive ductal carcinomas, alpha-catenin was reduced more frequently in diffuse than in solid type tumours, whereas the level of expression of beta-catenin and E-CD was unchanged between them. #\n",
      "Prev size: 59 Vs. Next size 50\n",
      "Prev size: 50 Vs. Next size 46\n"
     ]
    },
    {
     "name": "stderr",
     "output_type": "stream",
     "text": [
      "\r",
      " 61%|█████████████████████████▌                | 61/100 [00:53<00:39,  1.00s/it]"
     ]
    },
    {
     "name": "stdout",
     "output_type": "stream",
     "text": [
      "Prev size: 46 Vs. Next size 46\n",
      "797 METHODS: We immunohistochemically investigated the expression of E-cadherin (E-Cad), alpha-catenin (A-Cat) and beta-catenin (B-Cat) during human intrahepatic bile duct development, using 31 fetal livers of various gestational ages. #\n",
      "Prev size: 33 Vs. Next size 26\n",
      "Prev size: 26 Vs. Next size 22\n",
      "Prev size: 22 Vs. Next size 21\n",
      "Prev size: 21 Vs. Next size 21\n"
     ]
    },
    {
     "name": "stderr",
     "output_type": "stream",
     "text": [
      "\r",
      " 62%|██████████████████████████                | 62/100 [00:55<00:40,  1.07s/it]"
     ]
    },
    {
     "name": "stdout",
     "output_type": "stream",
     "text": [
      "559 We conclude that germ-line involvement of MSH6 and MSH3 is rare and that other genes are likely to account for a majority of MSH2-, MLH1-mutation negative families with nonpolypotic colon cancer. #\n",
      "Prev size: 35 Vs. Next size 29\n",
      "Prev size: 29 Vs. Next size 28\n"
     ]
    },
    {
     "name": "stderr",
     "output_type": "stream",
     "text": [
      "\r",
      " 63%|██████████████████████████▍               | 63/100 [00:55<00:35,  1.04it/s]"
     ]
    },
    {
     "name": "stdout",
     "output_type": "stream",
     "text": [
      "Prev size: 28 Vs. Next size 28\n",
      "237 A pre-treatment of cells with SGE from partially fed ticks in amounts corresponding to 1 or 3 salivary glands increased the level of both viral nucleocapsid (N) protein and phosphoprotein (P) in a dose-dependent manner. #\n",
      "Prev size: 38 Vs. Next size 32\n",
      "Prev size: 32 Vs. Next size 31\n",
      "Prev size: 31 Vs. Next size 30\n"
     ]
    },
    {
     "name": "stderr",
     "output_type": "stream",
     "text": [
      "\r",
      " 64%|██████████████████████████▉               | 64/100 [00:56<00:36,  1.01s/it]"
     ]
    },
    {
     "name": "stdout",
     "output_type": "stream",
     "text": [
      "Prev size: 30 Vs. Next size 28\n",
      "Prev size: 28 Vs. Next size 28\n",
      "62 However, smooth muscle contents of actin (26.0 +/- 1.8 vs. 19.1 +/- 2.2 micrograms/mg wet wt) and myosin heavy chain (5.5 +/- 0.4 vs. 2.0 +/- 0.3 microgram/mg wet wt) were greater (P &lt; 0.04) in myometrium from late-pregnant vs. nonpregnant ewes. #\n",
      "Prev size: 71 Vs. Next size 63\n",
      "Prev size: 63 Vs. Next size 58\n",
      "Prev size: 58 Vs. Next size 56\n",
      "Prev size: 56 Vs. Next size 55\n"
     ]
    },
    {
     "name": "stderr",
     "output_type": "stream",
     "text": [
      "\r",
      " 65%|███████████████████████████▎              | 65/100 [00:58<00:42,  1.21s/it]"
     ]
    },
    {
     "name": "stdout",
     "output_type": "stream",
     "text": [
      "Prev size: 55 Vs. Next size 55\n",
      "990 Oxytocin (OT) is more expressed in the TEC/TNC than vasopressin (VP); insulin-like growth factor 2 (IGF-2) thymic expression predominates over IGF-1, and much more over (pro)insulin Thus, OT was proposed to be the self antigen of the neurohypophysial family, and IGF-2 the self antigen precursor of the insulin family. #\n",
      "Prev size: 56 Vs. Next size 47\n",
      "Prev size: 47 Vs. Next size 44\n",
      "Prev size: 44 Vs. Next size 43\n"
     ]
    },
    {
     "name": "stderr",
     "output_type": "stream",
     "text": [
      "\r",
      " 66%|███████████████████████████▋              | 66/100 [01:00<00:43,  1.27s/it]"
     ]
    },
    {
     "name": "stdout",
     "output_type": "stream",
     "text": [
      "Prev size: 43 Vs. Next size 43\n",
      "952 Thus, highly expressed in human adipocytes, the Y(1) receptor sustains the strong antilipolytic effect of NPY and exerts a positive action on leptin secretion. #\n",
      "Prev size: 29 Vs. Next size 24\n",
      "Prev size: 24 Vs. Next size 23\n"
     ]
    },
    {
     "name": "stderr",
     "output_type": "stream",
     "text": [
      "\r",
      " 67%|████████████████████████████▏             | 67/100 [01:00<00:35,  1.07s/it]"
     ]
    },
    {
     "name": "stdout",
     "output_type": "stream",
     "text": [
      "Prev size: 23 Vs. Next size 23\n",
      "1115 Assignment of Etfdh, Etfb, and Etfa to chromosomes 3, 7, and 13: the mouse homologs of genes responsible for glutaric acidemia type II in human. We used cDNA probes for the Etfdh, Etfb, and Etfa genes to determine localization of these mouse genes to chromosomes 3, 7, and 13. #\n",
      "Prev size: 62 Vs. Next size 54\n",
      "Prev size: 54 Vs. Next size 53\n"
     ]
    },
    {
     "name": "stderr",
     "output_type": "stream",
     "text": [
      "\r",
      " 68%|████████████████████████████▌             | 68/100 [01:01<00:34,  1.07s/it]"
     ]
    },
    {
     "name": "stdout",
     "output_type": "stream",
     "text": [
      "Prev size: 53 Vs. Next size 53\n",
      "4 Genetic dissection of Drosophila myofibril formation: effects of actin and myosin heavy chain null alleles. We find that heterozygotes for actin (Act88F) or myosin heavy chain (Mhc36B) null alleles have complex myofibrillar defects, whereas Mhc36B-/+; Act88F-/+ double heterozygotes have nearly normal myofibrils. #\n",
      "Prev size: 49 Vs. Next size 36\n",
      "Prev size: 36 Vs. Next size 28\n",
      "Prev size: 28 Vs. Next size 26\n",
      "Prev size: 26 Vs. Next size 25\n"
     ]
    },
    {
     "name": "stderr",
     "output_type": "stream",
     "text": [
      "\r",
      " 69%|████████████████████████████▉             | 69/100 [01:03<00:35,  1.14s/it]"
     ]
    },
    {
     "name": "stdout",
     "output_type": "stream",
     "text": [
      "Prev size: 25 Vs. Next size 25\n",
      "256 We used yeast as a model to test this hypothesis and found that chromosome deletion of any known nuclear mitotic mismatch repair genes, including MLH1, MSH2, MSH3, MSH6, and PMS1, did not rescue mgt1delta O6 MeG DNA repair methyltransferase-deficient cells from killing by MNNG. #\n",
      "Prev size: 53 Vs. Next size 46\n",
      "Prev size: 46 Vs. Next size 43\n",
      "Prev size: 43 Vs. Next size 41\n",
      "Prev size: 41 Vs. Next size 40\n"
     ]
    },
    {
     "name": "stderr",
     "output_type": "stream",
     "text": [
      "\r",
      " 70%|█████████████████████████████▍            | 70/100 [01:04<00:36,  1.23s/it]"
     ]
    },
    {
     "name": "stdout",
     "output_type": "stream",
     "text": [
      "Prev size: 40 Vs. Next size 40\n",
      "327 SDS-PAGE analysis of growth cone cytoskeletons revealed the presence of several major bands, identified by their mobility as actin (43 kDa Mr), myosin heavy chain (195 kDa Mr), spectrin (235 and 240 kDa Mr), and tubulin (51-54 kDa Mr). #\n",
      "Prev size: 46 Vs. Next size 35\n",
      "Prev size: 35 Vs. Next size 30\n",
      "Prev size: 30 Vs. Next size 29\n",
      "Prev size: 29 Vs. Next size 28\n"
     ]
    },
    {
     "name": "stderr",
     "output_type": "stream",
     "text": [
      "\r",
      " 71%|█████████████████████████████▊            | 71/100 [01:05<00:34,  1.17s/it]"
     ]
    },
    {
     "name": "stdout",
     "output_type": "stream",
     "text": [
      "Prev size: 28 Vs. Next size 28\n",
      "789 Those observations were extended to include a spatiotemporal immunohistochemical analyses of beta-catenin and alpha-catenin, as well as a more detailed study of N-cadherin, during segmentation, compaction, and compartmentalization of the somite. #\n",
      "Prev size: 38 Vs. Next size 34\n",
      "Prev size: 34 Vs. Next size 32\n"
     ]
    },
    {
     "name": "stderr",
     "output_type": "stream",
     "text": [
      "\r",
      " 72%|██████████████████████████████▏           | 72/100 [01:06<00:30,  1.09s/it]"
     ]
    },
    {
     "name": "stdout",
     "output_type": "stream",
     "text": [
      "Prev size: 32 Vs. Next size 32\n",
      "521 In contrast, EC located immediately behind the migrating front retained junctional VE-cadherin, alpha-catenin, and beta-catenin while plakoglobin was absent from these sites. #\n"
     ]
    },
    {
     "name": "stderr",
     "output_type": "stream",
     "text": [
      "\r",
      " 73%|██████████████████████████████▋           | 73/100 [01:06<00:24,  1.09it/s]"
     ]
    },
    {
     "name": "stdout",
     "output_type": "stream",
     "text": [
      "Prev size: 28 Vs. Next size 26\n",
      "Prev size: 26 Vs. Next size 26\n",
      "409 RAD51, RAD52, and RAD54 encode proteins that are critical to the repair of double-strand DNA breaks by homologous recombination. #\n",
      "Prev size: 24 Vs. Next size 22\n",
      "Prev size: 22 Vs. Next size 21\n"
     ]
    },
    {
     "name": "stderr",
     "output_type": "stream",
     "text": [
      "\r",
      " 74%|███████████████████████████████           | 74/100 [01:07<00:21,  1.22it/s]"
     ]
    },
    {
     "name": "stdout",
     "output_type": "stream",
     "text": [
      "Prev size: 21 Vs. Next size 21\n",
      "360 Here we show that cdc12p is a member of a family of proteins including Drosophila diaphanous, Saccharomyces cerevisiae BNI1, and S. pombe fus1, which are involved in cytokinesis or other actin-mediated processes. #\n",
      "Prev size: 40 Vs. Next size 36\n",
      "Prev size: 36 Vs. Next size 33\n",
      "Prev size: 33 Vs. Next size 31\n"
     ]
    },
    {
     "name": "stderr",
     "output_type": "stream",
     "text": [
      "\r",
      " 75%|███████████████████████████████▌          | 75/100 [01:08<00:21,  1.15it/s]"
     ]
    },
    {
     "name": "stdout",
     "output_type": "stream",
     "text": [
      "Prev size: 31 Vs. Next size 31\n",
      "811 The amino acid composition of the 15-kDa protein was similar to that of mammalian profilin and it inhibited the salt-induced polymerization of rabbit skeletal muscle actin. #\n",
      "Prev size: 29 Vs. Next size 24\n",
      "Prev size: 24 Vs. Next size 22\n"
     ]
    },
    {
     "name": "stderr",
     "output_type": "stream",
     "text": [
      "\r",
      " 76%|███████████████████████████████▉          | 76/100 [01:09<00:20,  1.19it/s]"
     ]
    },
    {
     "name": "stdout",
     "output_type": "stream",
     "text": [
      "Prev size: 22 Vs. Next size 21\n",
      "Prev size: 21 Vs. Next size 21\n",
      "121 Mutations in BUD3, BUD4, and AXL1 cause a and alpha cells to exhibit the bipolar pattern, indicating that these genes are necessary to specify the axial budding pattern (Chant, J., and I. Herskowitz. 1991. Cell. 65:1203-1212; Fujita, A., C. Oka, Y. Arikawa, T. Katagi, A. Tonouchi, S. Kuhara, and Y. Misumi. 1994. Nature (Lond.). 372:567-570). #\n",
      "Prev size: 103 Vs. Next size 96\n",
      "Prev size: 96 Vs. Next size 91\n"
     ]
    },
    {
     "name": "stderr",
     "output_type": "stream",
     "text": [
      "\r",
      " 77%|████████████████████████████████▎         | 77/100 [01:10<00:22,  1.03it/s]"
     ]
    },
    {
     "name": "stdout",
     "output_type": "stream",
     "text": [
      "Prev size: 91 Vs. Next size 91\n",
      "345 Equine satellite cell clone SE-11 and ovine satellite cell clone I(1)were evaluated for expression of myosin heavy chain, myogenin, desmin, and muscle-specific actin over a 240 h period in culture. #\n",
      "Prev size: 36 Vs. Next size 29\n",
      "Prev size: 29 Vs. Next size 24\n",
      "Prev size: 24 Vs. Next size 23\n",
      "Prev size: 23 Vs. Next size 22\n"
     ]
    },
    {
     "name": "stderr",
     "output_type": "stream",
     "text": [
      "\r",
      " 78%|████████████████████████████████▊         | 78/100 [01:11<00:22,  1.03s/it]"
     ]
    },
    {
     "name": "stdout",
     "output_type": "stream",
     "text": [
      "Prev size: 22 Vs. Next size 22\n",
      "333 To characterize the AAV functions mediating this effect, cloned AAV type 2 wild-type or mutant genomes were transfected into simian virus 40 (SV40)-transformed hamster cells together with the six HSV replication genes (encoding UL5, UL8, major DNA-binding protein, DNA polymerase, UL42, and UL52) which together are necessary and sufficient for the induction of SV40 DNA amplification (R. Heilbronn and H. zur Hausen, J. Virol. 63:3683-3692, 1989). #\n",
      "Prev size: 85 Vs. Next size 72\n",
      "Prev size: 72 Vs. Next size 64\n",
      "Prev size: 64 Vs. Next size 61\n"
     ]
    },
    {
     "name": "stderr",
     "output_type": "stream",
     "text": [
      "\r",
      " 79%|█████████████████████████████████▏        | 79/100 [01:13<00:24,  1.18s/it]"
     ]
    },
    {
     "name": "stdout",
     "output_type": "stream",
     "text": [
      "Prev size: 61 Vs. Next size 61\n",
      "435 Between day 1 and day 3 in culture, the specific synthetic activities of total proteins and of electrophoretically purified myosin heavy chain and actin ([14C] phenylalanine incorporation into protein, in disintegrations per minute per microgram protein) decreased (-19%,-32%, and -73%, respectively). #\n",
      "Prev size: 49 Vs. Next size 40\n",
      "Prev size: 40 Vs. Next size 34\n",
      "Prev size: 34 Vs. Next size 33\n",
      "Prev size: 33 Vs. Next size 32\n"
     ]
    },
    {
     "name": "stderr",
     "output_type": "stream",
     "text": [
      "\r",
      " 80%|█████████████████████████████████▌        | 80/100 [01:14<00:25,  1.27s/it]"
     ]
    },
    {
     "name": "stdout",
     "output_type": "stream",
     "text": [
      "Prev size: 32 Vs. Next size 32\n",
      "100 We then compared colorectal cancers with 'mild' RER (n = 15), and those with 'severe' RER without (n = 11) or with (n = 22) detectable mutations in MSH2 or MLH1 to assess the involvement of mononucleotide repeats contained in the coding regions of MSH3, MSH6, BAX, and TGFbeta RII. #\n",
      "Prev size: 57 Vs. Next size 48\n",
      "Prev size: 48 Vs. Next size 47\n"
     ]
    },
    {
     "name": "stderr",
     "output_type": "stream",
     "text": [
      "\r",
      " 81%|██████████████████████████████████        | 81/100 [01:15<00:22,  1.20s/it]"
     ]
    },
    {
     "name": "stdout",
     "output_type": "stream",
     "text": [
      "Prev size: 47 Vs. Next size 47\n",
      "140 The adventitial tissue underlying PTCA-induced lesions temporarily expressed alpha-SM actin, desmin, and SM myosin heavy chain isoforms, but not smoothelin. #\n",
      "Prev size: 26 Vs. Next size 20\n",
      "Prev size: 20 Vs. Next size 18\n"
     ]
    },
    {
     "name": "stderr",
     "output_type": "stream",
     "text": [
      "\r",
      " 82%|██████████████████████████████████▍       | 82/100 [01:16<00:19,  1.09s/it]"
     ]
    },
    {
     "name": "stdout",
     "output_type": "stream",
     "text": [
      "Prev size: 18 Vs. Next size 16\n",
      "Prev size: 16 Vs. Next size 16\n",
      "898 The relative risks between highest and lowest quarters of flavonoid intake adjusted for age, smoking, serum cholesterol concentration, blood pressure, and body mass index were 0.69 (95% confidence interval 0.53 to 0.90) and 0.54 (0.33 to 0.87) for total and coronary mortality, respectively. #\n",
      "Prev size: 63 Vs. Next size 55\n",
      "Prev size: 55 Vs. Next size 53\n"
     ]
    },
    {
     "name": "stderr",
     "output_type": "stream",
     "text": [
      "\r",
      " 83%|██████████████████████████████████▊       | 83/100 [01:17<00:18,  1.10s/it]"
     ]
    },
    {
     "name": "stdout",
     "output_type": "stream",
     "text": [
      "Prev size: 53 Vs. Next size 53\n",
      "107 The 16236 nt genome encodes eight proteins, nucleocapsid protein (NP), phosphoprotein (P), V protein, matrix protein (M), fusion protein (F), small hydrophobic (SH) protein, haemagglutinin-neuraminidase (HN) protein and large (L) protein, which are flanked by a 55 nt leader sequence and a 54 nt trailer sequence. #\n",
      "Prev size: 57 Vs. Next size 46\n",
      "Prev size: 46 Vs. Next size 38\n",
      "Prev size: 38 Vs. Next size 35\n"
     ]
    },
    {
     "name": "stderr",
     "output_type": "stream",
     "text": [
      "\r",
      " 84%|███████████████████████████████████▎      | 84/100 [01:18<00:18,  1.15s/it]"
     ]
    },
    {
     "name": "stdout",
     "output_type": "stream",
     "text": [
      "Prev size: 35 Vs. Next size 35\n",
      "457 Here, we show that the x-ray sensitivity of rad55 and rad57 mutant strains is suppressible by overexpression of RAD51 or RAD52. #\n",
      "Prev size: 25 Vs. Next size 19\n",
      "Prev size: 19 Vs. Next size 18\n"
     ]
    },
    {
     "name": "stderr",
     "output_type": "stream",
     "text": [
      "\r",
      " 85%|███████████████████████████████████▋      | 85/100 [01:19<00:14,  1.00it/s]"
     ]
    },
    {
     "name": "stdout",
     "output_type": "stream",
     "text": [
      "Prev size: 18 Vs. Next size 18\n",
      "1011 These findings are consistent with increased leptin signaling to the NPY and POMC neurons in the ARC by physiological levels of circulating leptin during normal feeding. #\n",
      "Prev size: 29 Vs. Next size 23\n",
      "Prev size: 23 Vs. Next size 21\n"
     ]
    },
    {
     "name": "stderr",
     "output_type": "stream",
     "text": [
      "\r",
      " 86%|████████████████████████████████████      | 86/100 [01:20<00:12,  1.12it/s]"
     ]
    },
    {
     "name": "stdout",
     "output_type": "stream",
     "text": [
      "Prev size: 21 Vs. Next size 21\n",
      "6 After 24 or 48 hours of shear, staining for VE-cadherin, alpha-catenin, and beta-catenin was intense and peripheral, forming a band of \"dashes\" (adherens plaques) that colocalized with the ends of stress fibers that inserted along the lateral membranes of cells. Cells were fixed and stained with antibodies to vascular endothelial (VE) cadherin, alpha-catenin, beta-catenin, or plakoglobin. #\n",
      "Prev size: 68 Vs. Next size 64\n",
      "Prev size: 64 Vs. Next size 62\n",
      "Prev size: 62 Vs. Next size 61\n"
     ]
    },
    {
     "name": "stderr",
     "output_type": "stream",
     "text": [
      "\r",
      " 87%|████████████████████████████████████▌     | 87/100 [01:21<00:13,  1.03s/it]"
     ]
    },
    {
     "name": "stdout",
     "output_type": "stream",
     "text": [
      "Prev size: 61 Vs. Next size 61\n",
      "399 The prominent 125 A transverse stripping pattern characteristic of the actin cross-bridges in a bundle is also absent in hair borders suggesting fimbrin as the component that gives rise to the transverse stripes. #\n",
      "Prev size: 36 Vs. Next size 31\n",
      "Prev size: 31 Vs. Next size 29\n",
      "Prev size: 29 Vs. Next size 28\n",
      "Prev size: 28 Vs. Next size 27\n"
     ]
    },
    {
     "name": "stderr",
     "output_type": "stream",
     "text": [
      "\r",
      " 88%|████████████████████████████████████▉     | 88/100 [01:22<00:12,  1.05s/it]"
     ]
    },
    {
     "name": "stdout",
     "output_type": "stream",
     "text": [
      "Prev size: 27 Vs. Next size 27\n",
      "104 In cells lacking the myosin-II heavy chain, the bundles, which were induced by an over-expression of cofilin, shortened and became straight following hyperosmotic stress, forming a polygonal structure. #\n",
      "Prev size: 35 Vs. Next size 32\n",
      "Prev size: 32 Vs. Next size 30\n"
     ]
    },
    {
     "name": "stderr",
     "output_type": "stream",
     "text": [
      "\r",
      " 89%|█████████████████████████████████████▍    | 89/100 [01:23<00:10,  1.01it/s]"
     ]
    },
    {
     "name": "stdout",
     "output_type": "stream",
     "text": [
      "Prev size: 30 Vs. Next size 29\n",
      "Prev size: 29 Vs. Next size 29\n",
      "1018 This effect is maximal at 10(-8) M AVP (a concentration clearly above the normal physiological range of AVP concentrations) and involves the V2 receptor pathway, while activation of protein kinase C or changes in intracellular calcium are ineffective. #\n",
      "Prev size: 42 Vs. Next size 34\n",
      "Prev size: 34 Vs. Next size 31\n"
     ]
    },
    {
     "name": "stderr",
     "output_type": "stream",
     "text": [
      "\r",
      " 90%|█████████████████████████████████████▊    | 90/100 [01:24<00:09,  1.07it/s]"
     ]
    },
    {
     "name": "stdout",
     "output_type": "stream",
     "text": [
      "Prev size: 31 Vs. Next size 31\n",
      "784 The enzyme showed hardly any activity below 50 degrees C but considerable activity at around 60 degrees C against myofibrils, digesting myosin heavy chain, actin and tropomyosin. #\n",
      "Prev size: 32 Vs. Next size 25\n",
      "Prev size: 25 Vs. Next size 21\n"
     ]
    },
    {
     "name": "stderr",
     "output_type": "stream",
     "text": [
      "\r",
      " 91%|██████████████████████████████████████▏   | 91/100 [01:25<00:07,  1.18it/s]"
     ]
    },
    {
     "name": "stdout",
     "output_type": "stream",
     "text": [
      "Prev size: 21 Vs. Next size 21\n",
      "889 Interleukin-1 beta inhibits phospholipase C and insulin secretion at sites apart from KATP channel Surprisingly, however, when islets were depolarized directly using either of two agonists, glyburide (which does not act via generation of purine nucleotides) or 40 mM K+ (which acts distal to KATP channel), PLC and insulin secretion were again obliterated by IL-1 beta These data (together with the finding that IL-1 beta inhibited Ca(2+)-induced insulin release) suggest that, in addition to its effects on ATP synthesis and thereby on the KATP channel, IL-1 beta has at least two undescribed, distal effects to block both PLC as well as Ca(2+)-induced exocytosis. #\n",
      "Prev size: 113 Vs. Next size 95\n",
      "Prev size: 95 Vs. Next size 91\n"
     ]
    },
    {
     "name": "stderr",
     "output_type": "stream",
     "text": [
      "\r",
      " 92%|██████████████████████████████████████▋   | 92/100 [01:26<00:08,  1.09s/it]"
     ]
    },
    {
     "name": "stdout",
     "output_type": "stream",
     "text": [
      "Prev size: 91 Vs. Next size 91\n",
      "129 The products of the yeast mismatch repair genes MSH2 and MSH3 participate in the inhibition of genetic recombination between homeologous (divergent) DNA sequences. These results suggest that MSH2 and MSH3 can function differentially to control homeologous exchanges. #\n",
      "Prev size: 42 Vs. Next size 33\n",
      "Prev size: 33 Vs. Next size 32\n",
      "Prev size: 32 Vs. Next size 31\n"
     ]
    },
    {
     "name": "stderr",
     "output_type": "stream",
     "text": [
      "\r",
      " 93%|███████████████████████████████████████   | 93/100 [01:27<00:07,  1.07s/it]"
     ]
    },
    {
     "name": "stdout",
     "output_type": "stream",
     "text": [
      "Prev size: 31 Vs. Next size 31\n",
      "530 Expression of E-cadherin, alpha-catenin and beta-catenin in normal ovarian surface epithelium and epithelial ovarian cancers. #\n",
      "Prev size: 19 Vs. Next size 15\n",
      "Prev size: 15 Vs. Next size 13\n",
      "Prev size: 13 Vs. Next size 12\n"
     ]
    },
    {
     "name": "stderr",
     "output_type": "stream",
     "text": [
      "\r",
      " 94%|███████████████████████████████████████▍  | 94/100 [01:28<00:05,  1.05it/s]"
     ]
    },
    {
     "name": "stdout",
     "output_type": "stream",
     "text": [
      "Prev size: 12 Vs. Next size 10\n",
      "Prev size: 10 Vs. Next size 10\n",
      "766 Here, we designed a genetic screen for mutant strains defective for filamentous growth (dfg) to identify novel targets of the filamentation signaling pathway, and we thereby identified 16 different genes, CDC39, STE12, TEC1, WHI3, NAB1, DBR1, CDC55, SRV2, TPM1, SPA2, BNI1, DFG5, DFG9, DFG10, BUD8 and DFG16, mutations that block filamentous growth. #\n",
      "Prev size: 73 Vs. Next size 64\n",
      "Prev size: 64 Vs. Next size 62\n"
     ]
    },
    {
     "name": "stderr",
     "output_type": "stream",
     "text": [
      "\r",
      " 95%|███████████████████████████████████████▉  | 95/100 [01:29<00:05,  1.02s/it]"
     ]
    },
    {
     "name": "stdout",
     "output_type": "stream",
     "text": [
      "Prev size: 62 Vs. Next size 62\n",
      "1037 In vivo effects of CGP-12177 on the expression of leptin and uncoupling protein genes in mouse brown and white adipose tissues OBJECTIVE: To assess the effect of chronic treatment with CGP-12177 a beta3-adrenergic receptor (AR) agonist with beta2/beta1-AR antagonist action, on the expression of the leptin gene and of genes coding for uncoupling proteins (ucp1, ucp2 and ucp3) in brown and white adipose tissues CONCLUSION: The results reveal that simultaneous stimulation of the expression of certain ucp genes and the leptin gene can be achieved, and suggest that adrenergic regulation of the leptin gene and of genes of the ucp family in adipose tissues is the result of complex interactions between the different beta-AR pathways. #\n",
      "Prev size: 121 Vs. Next size 101\n",
      "Prev size: 101 Vs. Next size 93\n",
      "Prev size: 93 Vs. Next size 89\n"
     ]
    },
    {
     "name": "stderr",
     "output_type": "stream",
     "text": [
      "\r",
      " 96%|████████████████████████████████████████▎ | 96/100 [01:31<00:05,  1.30s/it]"
     ]
    },
    {
     "name": "stdout",
     "output_type": "stream",
     "text": [
      "Prev size: 89 Vs. Next size 89\n",
      "601 Generation of these membrane microparticles was dependent on the presence of extracellular calcium and was accompanied by proteolytic degradation of the cytoskeletal proteins, actin binding protein (ABP), talin, and myosin heavy chain. #\n",
      "Prev size: 38 Vs. Next size 31\n",
      "Prev size: 31 Vs. Next size 29\n"
     ]
    },
    {
     "name": "stderr",
     "output_type": "stream",
     "text": [
      "\r",
      " 97%|████████████████████████████████████████▋ | 97/100 [01:32<00:03,  1.15s/it]"
     ]
    },
    {
     "name": "stdout",
     "output_type": "stream",
     "text": [
      "Prev size: 29 Vs. Next size 29\n",
      "280 MC159 and E8 inhibited both TNFR-1- and CD-95-induced apoptosis as well as killing mediated by overexpression of the downstream adaptors TRADD and FADD. #\n",
      "Prev size: 26 Vs. Next size 20\n",
      "Prev size: 20 Vs. Next size 17\n"
     ]
    },
    {
     "name": "stderr",
     "output_type": "stream",
     "text": [
      "\r",
      " 98%|█████████████████████████████████████████▏| 98/100 [01:32<00:01,  1.03it/s]"
     ]
    },
    {
     "name": "stdout",
     "output_type": "stream",
     "text": [
      "Prev size: 17 Vs. Next size 17\n",
      "163 However, when all of the four proteins (E-cadherin, alpha-catenin, beta-catenin, and gamma-catenin) were analysed as one group, a significant association was seen between reduction in immunoreactivity of at least one of these four proteins and the presence of metastases. Reduced or absent immunoreactivity in the tumour tissue was seen in 63 (70.0 per cent) for alpha-catenin, in 50 (55.6 per cent) for beta-catenin, and in 50 (55.6 per cent) for gamma-catenin. #\n",
      "Prev size: 89 Vs. Next size 85\n"
     ]
    },
    {
     "name": "stderr",
     "output_type": "stream",
     "text": [
      "\r",
      " 99%|█████████████████████████████████████████▌| 99/100 [01:33<00:00,  1.05it/s]"
     ]
    },
    {
     "name": "stdout",
     "output_type": "stream",
     "text": [
      "Prev size: 85 Vs. Next size 85\n",
      "493 RAD51, RAD52, RAD57, and RAD59 were required for efficient gap repair using either chromosomal or plasmid donors. #\n",
      "Prev size: 23 Vs. Next size 21\n",
      "Prev size: 21 Vs. Next size 20\n"
     ]
    },
    {
     "name": "stderr",
     "output_type": "stream",
     "text": [
      "100%|█████████████████████████████████████████| 100/100 [01:34<00:00,  1.06it/s]"
     ]
    },
    {
     "name": "stdout",
     "output_type": "stream",
     "text": [
      "Prev size: 20 Vs. Next size 20\n",
      "CPU times: user 11min 15s, sys: 2min 30s, total: 13min 46s\n",
      "Wall time: 1min 34s\n"
     ]
    },
    {
     "name": "stderr",
     "output_type": "stream",
     "text": [
      "\n"
     ]
    }
   ],
   "source": [
    "%%time\n",
    "# Those sentences that have NO relationship indicated in original data set\n",
    "\n",
    "directory = '/Volumes/GoogleDrive/My Drive/_My Data Analytics Exercise/Exercise/Biopython/CE/without/'\n",
    "from tqdm import tqdm\n",
    "from random import sample\n",
    "tokens_lst = dict()\n",
    "index = sample(sorted(without_interactions.index),100)\n",
    "special_attention = []\n",
    "for i in tqdm(index):\n",
    "    ids = without_interactions.loc[i, 'interactionId']\n",
    "    sent = bmt.cleanSentencefmDF(without_interactions.loc[i, 'sentence'])\n",
    "    print (i, sent)\n",
    "    ents = without_interactions.loc[i, 'entities']\n",
    "    doc = bmt.dynamicTokenizer(pretokenized_nlp, sent) # retokenize sentence to group chunks into single meaningful biomedical entity\n",
    "    entities = bmt.extractEntities(bmt.extractEntitiesfmDF(ents))\n",
    "    #print ('Number of unique entity:', len(entities), entities)\n",
    "    H = bmt.createTokenGraphwithContraction(doc) # create an undirected graph connecting various tokens\n",
    "    filename = directory+ids+\".gpickle\"\n",
    "    nx.write_gpickle(H, filename)\n",
    "    tokens = bmt.extractTokensOfInterestfmGraph(H, entities, threshold=0.8)\n",
    "    #print ('Number of Tokens:', len(tokens), tokens)\n",
    "    tokens_lst[ids] = tokens"
   ]
  },
  {
   "cell_type": "code",
   "execution_count": 16,
   "id": "10cde154",
   "metadata": {},
   "outputs": [
    {
     "data": {
      "text/plain": [
       "(100,\n",
       " ['BioInfer_d390.gpickle',\n",
       "  'BioInfer_d574.gpickle',\n",
       "  'BioInfer_d834.gpickle',\n",
       "  'BioInfer_d579.gpickle',\n",
       "  'BioInfer_d434.gpickle',\n",
       "  'BioInfer_d166.gpickle',\n",
       "  'BioInfer_d201.gpickle',\n",
       "  'BioInfer_d511.gpickle',\n",
       "  'BioInfer_d616.gpickle',\n",
       "  'IEPA_d101.gpickle',\n",
       "  'BioInfer_d24.gpickle',\n",
       "  'IEPA_d196.gpickle',\n",
       "  'BioInfer_d200.gpickle',\n",
       "  'IEPA_d92.gpickle',\n",
       "  'BioInfer_d457.gpickle',\n",
       "  'IEPA_d164.gpickle',\n",
       "  'BioInfer_d438.gpickle',\n",
       "  'IEPA_d26.gpickle',\n",
       "  'IEPA_d88.gpickle',\n",
       "  'BioInfer_d761.gpickle',\n",
       "  'BioInfer_d293.gpickle',\n",
       "  'BioInfer_d676.gpickle',\n",
       "  'IEPA_d75.gpickle',\n",
       "  'BioInfer_d697.gpickle',\n",
       "  'BioInfer_d614.gpickle',\n",
       "  'IEPA_d14.gpickle',\n",
       "  'IEPA_d19.gpickle',\n",
       "  'BioInfer_d679.gpickle',\n",
       "  'IEPA_d29.gpickle',\n",
       "  'BioInfer_d112.gpickle',\n",
       "  'BioInfer_d11.gpickle',\n",
       "  'BioInfer_d411.gpickle',\n",
       "  'BioInfer_d699.gpickle',\n",
       "  'BioInfer_d513.gpickle',\n",
       "  'BioInfer_d316.gpickle',\n",
       "  'BioInfer_d515.gpickle',\n",
       "  'BioInfer_d483.gpickle',\n",
       "  'BioInfer_d406.gpickle',\n",
       "  'BioInfer_d677.gpickle',\n",
       "  'BioInfer_d758.gpickle',\n",
       "  'BioInfer_d370.gpickle',\n",
       "  'IEPA_d123.gpickle',\n",
       "  'BioInfer_d598.gpickle',\n",
       "  'HPRD50_d0.gpickle',\n",
       "  'BioInfer_d51.gpickle',\n",
       "  'BioInfer_d233.gpickle',\n",
       "  'BioInfer_d500.gpickle',\n",
       "  'BioInfer_d521.gpickle',\n",
       "  'BioInfer_d374.gpickle',\n",
       "  'BioInfer_d770.gpickle',\n",
       "  'IEPA_d83.gpickle',\n",
       "  'BioInfer_d801.gpickle',\n",
       "  'BioInfer_d186.gpickle',\n",
       "  'BioInfer_d514.gpickle',\n",
       "  'IEPA_d45.gpickle',\n",
       "  'BioInfer_d34.gpickle',\n",
       "  'BioInfer_d118.gpickle',\n",
       "  'BioInfer_d721.gpickle',\n",
       "  'BioInfer_d752.gpickle',\n",
       "  'BioInfer_d480.gpickle',\n",
       "  'BioInfer_d203.gpickle',\n",
       "  'BioInfer_d424.gpickle',\n",
       "  'BioInfer_d798.gpickle',\n",
       "  'BioInfer_d69.gpickle',\n",
       "  'BioInfer_d275.gpickle',\n",
       "  'IEPA_d94.gpickle',\n",
       "  'IEPA_d160.gpickle',\n",
       "  'HPRD50_d35.gpickle',\n",
       "  'BioInfer_d232.gpickle',\n",
       "  'BioInfer_d828.gpickle',\n",
       "  'BioInfer_d528.gpickle',\n",
       "  'BioInfer_d748.gpickle',\n",
       "  'BioInfer_d326.gpickle',\n",
       "  'BioInfer_d71.gpickle',\n",
       "  'BioInfer_d250.gpickle',\n",
       "  'BioInfer_d572.gpickle',\n",
       "  'BioInfer_d443.gpickle',\n",
       "  'BioInfer_d191.gpickle',\n",
       "  'BioInfer_d760.gpickle',\n",
       "  'BioInfer_d96.gpickle',\n",
       "  'BioInfer_d827.gpickle',\n",
       "  'BioInfer_d569.gpickle',\n",
       "  'IEPA_d18.gpickle',\n",
       "  'BioInfer_d560.gpickle',\n",
       "  'BioInfer_d254.gpickle',\n",
       "  'IEPA_d189.gpickle',\n",
       "  'BioInfer_d28.gpickle',\n",
       "  'BioInfer_d671.gpickle',\n",
       "  'BioInfer_d323.gpickle',\n",
       "  'IEPA_d54.gpickle',\n",
       "  'BioInfer_d610.gpickle',\n",
       "  'IEPA_d56.gpickle',\n",
       "  'BioInfer_d670.gpickle',\n",
       "  'BioInfer_d205.gpickle',\n",
       "  'BioInfer_d243.gpickle',\n",
       "  'IEPA_d148.gpickle',\n",
       "  'BioInfer_d230.gpickle',\n",
       "  'BioInfer_d414.gpickle',\n",
       "  'BioInfer_d280.gpickle',\n",
       "  'BioInfer_d72.gpickle'])"
      ]
     },
     "execution_count": 16,
     "metadata": {},
     "output_type": "execute_result"
    }
   ],
   "source": [
    "from os import walk\n",
    "directory = '/Volumes/GoogleDrive/My Drive/_My Data Analytics Exercise/Exercise/Biopython/CE/without/'\n",
    "f = []\n",
    "for (dirpath, dirnames, filenames) in walk(directory):\n",
    "    f.extend(filenames)\n",
    "    break\n",
    "len(set(f)), f"
   ]
  },
  {
   "cell_type": "code",
   "execution_count": null,
   "id": "94ac81b5",
   "metadata": {},
   "outputs": [],
   "source": []
  }
 ],
 "metadata": {
  "kernelspec": {
   "display_name": "Python 3 (ipykernel)",
   "language": "python",
   "name": "python3"
  },
  "language_info": {
   "codemirror_mode": {
    "name": "ipython",
    "version": 3
   },
   "file_extension": ".py",
   "mimetype": "text/x-python",
   "name": "python",
   "nbconvert_exporter": "python",
   "pygments_lexer": "ipython3",
   "version": "3.9.7"
  }
 },
 "nbformat": 4,
 "nbformat_minor": 5
}
